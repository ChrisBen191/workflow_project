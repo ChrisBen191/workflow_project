{
 "cells": [
  {
   "cell_type": "markdown",
   "metadata": {
    "heading_collapsed": true
   },
   "source": [
    "# Setup\n",
    "**This analysis includes all projects for the 2019 Season (includes projects marked as \"Dead\")**"
   ]
  },
  {
   "cell_type": "markdown",
   "metadata": {
    "heading_collapsed": true,
    "hidden": true
   },
   "source": [
    "## Dependencies"
   ]
  },
  {
   "cell_type": "code",
   "execution_count": 122,
   "metadata": {
    "hidden": true
   },
   "outputs": [],
   "source": [
    "import pandas as pd\n",
    "import datetime\n",
    "from datetime import datetime"
   ]
  },
  {
   "cell_type": "markdown",
   "metadata": {
    "heading_collapsed": true,
    "hidden": true
   },
   "source": [
    "## Import Data"
   ]
  },
  {
   "cell_type": "code",
   "execution_count": 123,
   "metadata": {
    "hidden": true
   },
   "outputs": [],
   "source": [
    "# imports the '[TVA] Workflow Analysis' data\n",
    "all_project_data = \"./data/workflow_analysis.csv\"\n",
    "\n",
    "# imports the '[TVA] Project Workflow Analysis' data\n",
    "all_production_data = \"./data/project_workflow_analysis.csv\"\n",
    "\n",
    "# imports '[TVA] Project Info Analysis' data\n",
    "info_data = \"./data/info_table.csv\"\n",
    "\n",
    "# imports '[TVA] FTA Scope Analysis' data\n",
    "rejection_data = \"./data/rejection_table.csv\"\n",
    "\n",
    "# imports '[TVA] GM Change Order Analysis' data\n",
    "change_order_data = \"./data/change_orders.csv\"\n",
    "\n",
    "# imports '[TVA] GM Labor Order Adjustment Analysis' data\n",
    "labor_adjustment_data = \"./data/labor_adjustments.csv\""
   ]
  },
  {
   "cell_type": "markdown",
   "metadata": {
    "heading_collapsed": true
   },
   "source": [
    "# Parsing Data"
   ]
  },
  {
   "cell_type": "markdown",
   "metadata": {
    "heading_collapsed": true,
    "hidden": true
   },
   "source": [
    "## Workflow Analysis\n",
    "**Includes projects marked as 'Dead'**"
   ]
  },
  {
   "cell_type": "code",
   "execution_count": 124,
   "metadata": {
    "hidden": true
   },
   "outputs": [
    {
     "name": "stdout",
     "output_type": "stream",
     "text": [
      "<class 'pandas.core.frame.DataFrame'>\n",
      "RangeIndex: 2303 entries, 0 to 2302\n",
      "Data columns (total 16 columns):\n",
      "Claim #                              2290 non-null object\n",
      "Job #                                978 non-null object\n",
      "Branch                               2302 non-null object\n",
      "Claim Status                         115 non-null object\n",
      "Claim # Date                         2303 non-null datetime64[ns]\n",
      "FTA Scope. Req Date                  2303 non-null datetime64[ns]\n",
      "Submit for Estimate Date             1832 non-null datetime64[ns]\n",
      "[B] Created Estimate Date            1805 non-null datetime64[ns]\n",
      "[OB] Created Scope Calc              1679 non-null datetime64[ns]\n",
      "Job Submittal Date                   1081 non-null datetime64[ns]\n",
      "[B] - Date Approved by BC            978 non-null datetime64[ns]\n",
      "[OB] Completed                       925 non-null datetime64[ns]\n",
      "COC Rcvd Date [A]                    523 non-null datetime64[ns]\n",
      "Job Docs Scanned                     438 non-null datetime64[ns]\n",
      "[B] Sent Invoice Packet to Ins Co    380 non-null datetime64[ns]\n",
      "[B] Settled with Insurance           194 non-null datetime64[ns]\n",
      "dtypes: datetime64[ns](12), object(4)\n",
      "memory usage: 288.0+ KB\n"
     ]
    }
   ],
   "source": [
    "project_df = pd.read_csv(\n",
    "    all_project_data, dtype={\n",
    "        'Claim #':str,\n",
    "        'Job #':str,\n",
    "        'Branch':str,\n",
    "        'Claim Status':str},\n",
    "    parse_dates=[\n",
    "        'Claim # Date',\n",
    "        'FTA Scope. Req Date',\n",
    "        'Submit for Estimate Date',\n",
    "        '[OB] Created Scope Calc',\n",
    "        '[B] Created Estimate Date',\n",
    "        'Job Submittal Date',\n",
    "        '[B] - Date Approved by BC',\n",
    "        '[OB] Completed',\n",
    "        'COC Rcvd Date [A]',\n",
    "        'Job Docs Scanned',\n",
    "        '[B] Sent Invoice Packet to Ins Co',\n",
    "        '[B] Settled with Insurance'],\n",
    ")\n",
    "\n",
    "# having trouble recognizing 'coc' date as 'datetime', manually converted the dtype.\n",
    "project_df['COC Rcvd Date [A]'] = pd.to_datetime(project_df['COC Rcvd Date [A]'], errors='coerce')\n",
    "\n",
    "project_df.info()"
   ]
  },
  {
   "cell_type": "markdown",
   "metadata": {
    "heading_collapsed": true,
    "hidden": true
   },
   "source": [
    "## Project Workflow Analysis\n",
    "\n",
    "**Projects that have been submitted to production (OB Orderbuilt)**"
   ]
  },
  {
   "cell_type": "code",
   "execution_count": 125,
   "metadata": {
    "hidden": true
   },
   "outputs": [
    {
     "name": "stdout",
     "output_type": "stream",
     "text": [
      "<class 'pandas.core.frame.DataFrame'>\n",
      "RangeIndex: 925 entries, 0 to 924\n",
      "Data columns (total 14 columns):\n",
      "Job #                    925 non-null object\n",
      "Permit Applied [A]       508 non-null datetime64[ns]\n",
      "Order Date               770 non-null datetime64[ns]\n",
      "Permit Received          460 non-null datetime64[ns]\n",
      "OA Date                  719 non-null datetime64[ns]\n",
      "Invoice Date             638 non-null datetime64[ns]\n",
      "Ntfd H.O. Dlvry          752 non-null datetime64[ns]\n",
      "Dlvry Start              757 non-null datetime64[ns]\n",
      "Ntfd H.O. Start          630 non-null datetime64[ns]\n",
      "Roof Start               755 non-null datetime64[ns]\n",
      "Roof Complete Date       755 non-null datetime64[ns]\n",
      "R4F                      565 non-null datetime64[ns]\n",
      "Requested Final Insp     212 non-null datetime64[ns]\n",
      "Final Inspection Date    132 non-null datetime64[ns]\n",
      "dtypes: datetime64[ns](13), object(1)\n",
      "memory usage: 101.2+ KB\n"
     ]
    }
   ],
   "source": [
    "production_df = pd.read_csv(\n",
    "    all_production_data, dtype={\n",
    "        'Job #':str,\n",
    "        'Supplier Name':str,\n",
    "        'Building Department':str,\n",
    "        'Permit Req?':str},\n",
    "    parse_dates=[\n",
    "        'Permit Applied [A]',\n",
    "        'Order Date',\n",
    "        'Permit Received',\n",
    "        'OA Date',\n",
    "        'Invoice Date',\n",
    "        'Ntfd H.O. Dlvry',\n",
    "        'Dlvry Start',\n",
    "        'Ntfd H.O. Start',\n",
    "        'Roof Start',\n",
    "        'Roof Complete Date',\n",
    "        'R4F',\n",
    "        'Requested Final Insp',\n",
    "        'Final Inspection Date',\n",
    "    ]\n",
    ")\n",
    "\n",
    "# the data I would like to move over to the 'info' df\n",
    "moving_data_df = production_df[['Job #','Supplier Name', 'Building Department', 'Permit Req?']]\n",
    "\n",
    "# removing the data I will be moving over to the 'info' df from the 'production' df\n",
    "del production_df['Supplier Name'], production_df['Building Department'], production_df['Permit Req?']\n",
    "\n",
    "production_df.info()"
   ]
  },
  {
   "cell_type": "markdown",
   "metadata": {
    "heading_collapsed": true,
    "hidden": true
   },
   "source": [
    "## FTA Scope Analysis\n",
    "**Includes projects marked as 'Dead'**"
   ]
  },
  {
   "cell_type": "code",
   "execution_count": 126,
   "metadata": {
    "hidden": true
   },
   "outputs": [],
   "source": [
    "rejection_info_df = pd.read_csv(\n",
    "    rejection_data,dtype={\n",
    "        'Claim #': str, \n",
    "        'Job #': str},\n",
    "    parse_dates=['Created'])\n",
    "\n",
    "# rejection_info_df.head()"
   ]
  },
  {
   "cell_type": "markdown",
   "metadata": {
    "heading_collapsed": true,
    "hidden": true
   },
   "source": [
    "### Latest Rejection\n",
    "**Determine the most recent rejection for any project**"
   ]
  },
  {
   "cell_type": "code",
   "execution_count": 127,
   "metadata": {
    "hidden": true
   },
   "outputs": [],
   "source": [
    "# 'idmax()' of the 'Created' column provides the most current rejection date\n",
    "reject_df = rejection_info_df.loc[rejection_info_df.groupby('Claim #')['Created'].idxmax()]\n",
    "\n",
    "# renaming the 'created' column for clarity\n",
    "reject_df = reject_df.rename(columns={\"Created\": \"Scope Rejection Date\"})\n",
    "# reject_df.head()"
   ]
  },
  {
   "cell_type": "markdown",
   "metadata": {
    "heading_collapsed": true,
    "hidden": true
   },
   "source": [
    "###  Multi-Rejection Counts\n",
    "**Determine the amount of rejections for each project and if it was rejected more than once**"
   ]
  },
  {
   "cell_type": "code",
   "execution_count": 128,
   "metadata": {
    "hidden": true
   },
   "outputs": [],
   "source": [
    "# creating a 'df' to count how many times a job was rejected\n",
    "rejection_count_df = (rejection_info_df.groupby(\"Claim #\").count())\n",
    "\n",
    "# # resets the 'claim #' from being the index\n",
    "rejection_count_df.reset_index(inplace=True)\n",
    "\n",
    "# created a list to collect the boolean response to multi-rejection count\n",
    "multi_reject_list = []\n",
    "\n",
    "# iterates over 'Created' to determine if it has been multi-rejected\n",
    "for index, row in rejection_count_df.iterrows():\n",
    "\n",
    "    if row['Created'] <= 1:\n",
    "        multi_reject = False\n",
    "        multi_reject_list.append(multi_reject)\n",
    "\n",
    "    else:\n",
    "        multi_reject = True\n",
    "        multi_reject_list.append(multi_reject)\n",
    "\n",
    "# adding the 'boolean' list to the 'improvements' df\n",
    "rejection_count_df[\"Multi-rejected\"] = multi_reject_list\n",
    "\n",
    "# renaming the 'created' column for clarity\n",
    "rejection_count_df = rejection_count_df.rename(columns={\"Created\": \"Scope Rejections\"})\n",
    "# rejection_count_df.head()"
   ]
  },
  {
   "cell_type": "markdown",
   "metadata": {
    "heading_collapsed": true,
    "hidden": true
   },
   "source": [
    "## GM Change Order Analysis\n",
    "**Projects can have multiple change orders**"
   ]
  },
  {
   "cell_type": "code",
   "execution_count": 129,
   "metadata": {
    "hidden": true
   },
   "outputs": [],
   "source": [
    "change_order_df = pd.read_csv(\n",
    "    change_order_data,dtype={'Job #':str},parse_dates=['Created'])"
   ]
  },
  {
   "cell_type": "markdown",
   "metadata": {
    "heading_collapsed": true,
    "hidden": true
   },
   "source": [
    "### Change Order Date\n",
    "**Determine Date of Change Orders**"
   ]
  },
  {
   "cell_type": "code",
   "execution_count": 130,
   "metadata": {
    "hidden": true
   },
   "outputs": [],
   "source": [
    "co_date_df = change_order_df.loc[change_order_df.groupby('Job #')['Created'].idxmax()]\n",
    "co_date_df = co_date_df.rename(columns={\"Created\": \"GM Change Order Date\"})\n",
    "# co_date_df.head()"
   ]
  },
  {
   "cell_type": "markdown",
   "metadata": {
    "heading_collapsed": true,
    "hidden": true
   },
   "source": [
    "### Change Order Count\n",
    "**Amount of Change Orders on a project**"
   ]
  },
  {
   "cell_type": "code",
   "execution_count": 131,
   "metadata": {
    "hidden": true
   },
   "outputs": [],
   "source": [
    "co_count_df = (change_order_df.groupby(\"Job #\").count())\n",
    "co_count_df.reset_index(inplace=True)\n",
    "co_count_df = co_count_df.rename(columns={\"Created\": \"Change Orders\"})\n",
    "# co_count_df.head()"
   ]
  },
  {
   "cell_type": "markdown",
   "metadata": {
    "heading_collapsed": true,
    "hidden": true
   },
   "source": [
    "## GM Labor Adjustment Analysis\n",
    "**Projects can have multiple labor adjustements**"
   ]
  },
  {
   "cell_type": "code",
   "execution_count": 132,
   "metadata": {
    "hidden": true
   },
   "outputs": [],
   "source": [
    "labor_adjustment_df = pd.read_csv(labor_adjustment_data, dtype={\n",
    "                                  'Order ID': str}, parse_dates=['Created'])\n",
    "# list to store each job # from string split\n",
    "job_num_list = []\n",
    "\n",
    "# splitting the 'order id' to get the job #\n",
    "for index, row in labor_adjustment_df.iterrows():\n",
    "    \n",
    "    job_num = row['Order ID'].split('-')[0]\n",
    "    job_num_list.append(job_num)\n",
    "    \n",
    "# creating a 'job #' column in the df    \n",
    "labor_adjustment_df['Job #'] = job_num_list\n",
    "\n",
    "del labor_adjustment_df['Order ID']\n",
    "# labor_adjustment_df.head()"
   ]
  },
  {
   "cell_type": "markdown",
   "metadata": {
    "heading_collapsed": true,
    "hidden": true
   },
   "source": [
    "### Labor Adjustment Date\n",
    "**Determine the date of Labor Adjustments**"
   ]
  },
  {
   "cell_type": "code",
   "execution_count": 133,
   "metadata": {
    "hidden": true
   },
   "outputs": [],
   "source": [
    "la_date_df = labor_adjustment_df.loc[labor_adjustment_df.groupby('Job #')['Created'].idxmax()]\n",
    "la_date_df = la_date_df.rename(columns={\"Created\": \"GM Labor Adjustment Date\"})\n",
    "# la_date_df.head()"
   ]
  },
  {
   "cell_type": "markdown",
   "metadata": {
    "heading_collapsed": true,
    "hidden": true
   },
   "source": [
    "### Labor Adjustment Count\n",
    "**Amount of Labor Adjustments on a project**"
   ]
  },
  {
   "cell_type": "code",
   "execution_count": 134,
   "metadata": {
    "hidden": true
   },
   "outputs": [],
   "source": [
    "la_count_df = (labor_adjustment_df.groupby(\"Job #\").count())\n",
    "la_count_df.reset_index(inplace=True)\n",
    "la_count_df = la_count_df.rename(columns={\"Created\": \"Labor Adjustments\"})\n",
    "# la_count_df.head()"
   ]
  },
  {
   "cell_type": "markdown",
   "metadata": {
    "heading_collapsed": true,
    "hidden": true
   },
   "source": [
    "## Project Info Analysis\n",
    "**Includes projects marked as 'Dead'**"
   ]
  },
  {
   "cell_type": "code",
   "execution_count": 135,
   "metadata": {
    "hidden": true
   },
   "outputs": [],
   "source": [
    "info_df = pd.read_csv(info_data, dtype={'Job #':str})\n",
    "\n",
    "info_df = info_df.rename(columns={\n",
    "    'Sup Name': 'Sup',\n",
    "    'Rep Name': 'Rep',\n",
    "    '[BC] Name': 'BC',\n",
    "    'Full Name': 'OB',\n",
    "    'Full Name.1': 'FTA',\n",
    "    'Full Name.2': 'GM'\n",
    "})\n",
    "\n",
    "# 'info_df' holds all non-date stamped project data\n",
    "info_df = info_df.merge(\n",
    "    \n",
    "    # supplier name, building department, permit requirements\n",
    "    moving_data_df, how='left', on='Job #').merge(\n",
    "    # fta scope rejection count, multi-rejection boolean\n",
    "    rejection_count_df, how='left', on='Claim #').merge(\n",
    "    # change order count on the project\n",
    "    co_count_df, how='left',on='Job #').merge(\n",
    "    # labor adjustment count on the project\n",
    "    la_count_df, how='left',on='Job #')"
   ]
  },
  {
   "cell_type": "markdown",
   "metadata": {
    "heading_collapsed": true,
    "hidden": true
   },
   "source": [
    "### Organizing Project Info Data"
   ]
  },
  {
   "cell_type": "code",
   "execution_count": 136,
   "metadata": {
    "hidden": true
   },
   "outputs": [
    {
     "data": {
      "text/plain": [
       "Index(['Claim #', 'Job #', 'Branch', 'City', 'Building Department',\n",
       "       'Permit Req?', 'Supplier Name', 'Crew', 'Insurance Company',\n",
       "       'Multi-rejected', 'Scope Rejections', 'Change Orders',\n",
       "       'Labor Adjustments', 'Sup', 'Rep', 'FTA', 'BC', 'OB', 'GM'],\n",
       "      dtype='object')"
      ]
     },
     "execution_count": 136,
     "metadata": {},
     "output_type": "execute_result"
    }
   ],
   "source": [
    "info_df = info_df[[\n",
    "    'Claim #',\n",
    "    'Job #',\n",
    "    'Branch',\n",
    "    'City',\n",
    "    'Building Department',\n",
    "    'Permit Req?',\n",
    "    'Supplier Name',\n",
    "    'Crew',\n",
    "    'Insurance Company',\n",
    "    'Multi-rejected',\n",
    "    'Scope Rejections',\n",
    "    'Change Orders',\n",
    "    'Labor Adjustments',\n",
    "    'Sup','Rep','FTA','BC','OB','GM'\n",
    "]]\n",
    "\n",
    "info_df.columns"
   ]
  },
  {
   "cell_type": "markdown",
   "metadata": {
    "heading_collapsed": true
   },
   "source": [
    "# Merge Data"
   ]
  },
  {
   "cell_type": "markdown",
   "metadata": {
    "heading_collapsed": true,
    "hidden": true
   },
   "source": [
    "## Merge Project, Production, Rejection, and Rejection Count dfs\n",
    "**Merging dfs on the shared 'Claim #' Column ('Job # for 'production_df')**"
   ]
  },
  {
   "cell_type": "code",
   "execution_count": 137,
   "metadata": {
    "hidden": true
   },
   "outputs": [
    {
     "data": {
      "text/plain": [
       "Index(['Claim #', 'Job #', 'Branch', 'Claim Status', 'Claim # Date',\n",
       "       'FTA Scope. Req Date', 'Submit for Estimate Date',\n",
       "       '[B] Created Estimate Date', '[OB] Created Scope Calc',\n",
       "       'Job Submittal Date', '[B] - Date Approved by BC', '[OB] Completed',\n",
       "       'COC Rcvd Date [A]', 'Job Docs Scanned',\n",
       "       '[B] Sent Invoice Packet to Ins Co', '[B] Settled with Insurance',\n",
       "       'Scope Rejection Date', 'Permit Applied [A]', 'Order Date',\n",
       "       'Permit Received', 'OA Date', 'Invoice Date', 'Ntfd H.O. Dlvry',\n",
       "       'Dlvry Start', 'Ntfd H.O. Start', 'Roof Start', 'Roof Complete Date',\n",
       "       'R4F', 'Requested Final Insp', 'Final Inspection Date',\n",
       "       'GM Change Order Date', 'GM Labor Adjustment Date'],\n",
       "      dtype='object')"
      ]
     },
     "execution_count": 137,
     "metadata": {},
     "output_type": "execute_result"
    }
   ],
   "source": [
    "# Merged the 'project df' merged with 'latest rejection date' merged with \n",
    "# rejection count and 'multi-rejection' boolean merged with 'production df' \n",
    "merged_df = project_df.merge(\n",
    "    \n",
    "    # date of FTA Scope Rejection\n",
    "    reject_df, how='left', on='Claim #').merge(\n",
    "    # workflow datestamps from production\n",
    "    production_df, how='left', on='Job #').merge(\n",
    "    # date of GM Change Order\n",
    "    co_date_df, how='left', on='Job #').merge(\n",
    "    # date of GM Labor Adjustment\n",
    "    la_date_df, how='left', on='Job #')\n",
    "\n",
    "merged_df.columns"
   ]
  },
  {
   "cell_type": "markdown",
   "metadata": {
    "heading_collapsed": true,
    "hidden": true
   },
   "source": [
    "## Renaming Merged Data"
   ]
  },
  {
   "cell_type": "code",
   "execution_count": 138,
   "metadata": {
    "hidden": true
   },
   "outputs": [
    {
     "data": {
      "text/plain": [
       "Index(['Claim #', 'Job #', 'Branch', 'Claim Status', 'Rep Agreement Signed',\n",
       "       'Rep Claim Collected', 'FTA Scope Completed', 'BC Estimate Completed',\n",
       "       'OB Scope Completed', 'Sup Job Submitted', 'BC Approved for Production',\n",
       "       'OB Order Built', 'Rep COC Collected', 'SA Job Docs Uploaded',\n",
       "       'BC Project Invoiced', 'BC Project Closed', 'FTA Scope Rejected',\n",
       "       'PA Permit Applied', 'GM Order Processed', 'PA Permit Processed',\n",
       "       'PA OA Processed', 'PA OA Invoiced', 'PA Notify of Delivery',\n",
       "       'Delivery Date', 'PA Notify of Start', 'Roof Start', 'Roof End',\n",
       "       'GM Approved for Inspection', 'RA Inspection Requested',\n",
       "       'RA Inspection Processed', 'GM Change Order Date',\n",
       "       'GM Labor Adjustment Date'],\n",
       "      dtype='object')"
      ]
     },
     "execution_count": 138,
     "metadata": {},
     "output_type": "execute_result"
    }
   ],
   "source": [
    "# renaming the columnns to be able to read easier\n",
    "all_project_df = merged_df.rename(columns={\n",
    "    'Claim # Date': 'Rep Agreement Signed',\n",
    "    'FTA Scope. Req Date': 'Rep Claim Collected',\n",
    "    'Scope Rejection Date': 'FTA Scope Rejected',\n",
    "    'Submit for Estimate Date': 'FTA Scope Completed',\n",
    "    '[B] Created Estimate Date':'BC Estimate Completed',\n",
    "    '[OB] Created Scope Calc': 'OB Scope Completed',\n",
    "    'Job Submittal Date': 'Sup Job Submitted',\n",
    "    '[B] - Date Approved by BC': 'BC Approved for Production',\n",
    "    '[OB] Completed': 'OB Order Built',\n",
    "    'Permit Applied [A]': 'PA Permit Applied',\n",
    "    'Order Date': 'GM Order Processed',\n",
    "    'Permit Received': 'PA Permit Processed',\n",
    "    'OA Date': 'PA OA Processed',\n",
    "    'Invoice Date':'PA OA Invoiced',\n",
    "    'Ntfd H.O. Dlvry': 'PA Notify of Delivery',\n",
    "    'Dlvry Start': 'Delivery Date',\n",
    "    'Ntfd H.O. Start': 'PA Notify of Start',\n",
    "    'Roof Complete Date': 'Roof End',\n",
    "    'R4F': 'GM Approved for Inspection',\n",
    "    'Requested Final Insp': 'RA Inspection Requested',\n",
    "    'Final Inspection Date': 'RA Inspection Processed',\n",
    "    'COC Rcvd Date [A]': 'Rep COC Collected',\n",
    "    'Job Docs Scanned': 'SA Job Docs Uploaded',\n",
    "    '[B] Sent Invoice Packet to Ins Co': 'BC Project Invoiced',\n",
    "    '[B] Settled with Insurance':'BC Project Closed'\n",
    "})\n",
    "\n",
    "all_project_df.columns"
   ]
  },
  {
   "cell_type": "markdown",
   "metadata": {
    "heading_collapsed": true,
    "hidden": true
   },
   "source": [
    "## Organizing Merged Data to follow Workflow\n",
    "**Datestamps order is for asthetics only, coding preforms implicit date diffs**"
   ]
  },
  {
   "cell_type": "code",
   "execution_count": 139,
   "metadata": {
    "hidden": true
   },
   "outputs": [
    {
     "data": {
      "text/plain": [
       "Index(['Claim #', 'Job #', 'Branch', 'Claim Status', 'Rep Agreement Signed',\n",
       "       'Rep Claim Collected', 'FTA Scope Completed', 'FTA Scope Rejected',\n",
       "       'BC Estimate Completed', 'OB Scope Completed', 'Sup Job Submitted',\n",
       "       'BC Approved for Production', 'OB Order Built', 'GM Order Processed',\n",
       "       'PA Permit Applied', 'PA Permit Processed', 'PA OA Processed',\n",
       "       'PA OA Invoiced', 'PA Notify of Delivery', 'PA Notify of Start',\n",
       "       'Delivery Date', 'Roof Start', 'Roof End', 'GM Approved for Inspection',\n",
       "       'GM Change Order Date', 'GM Labor Adjustment Date',\n",
       "       'RA Inspection Requested', 'RA Inspection Processed',\n",
       "       'Rep COC Collected', 'SA Job Docs Uploaded', 'BC Project Invoiced',\n",
       "       'BC Project Closed'],\n",
       "      dtype='object')"
      ]
     },
     "execution_count": 139,
     "metadata": {},
     "output_type": "execute_result"
    }
   ],
   "source": [
    "all_project_df = all_project_df[[\n",
    "    'Claim #',\n",
    "    'Job #',\n",
    "    'Branch',\n",
    "    'Claim Status',\n",
    "    'Rep Agreement Signed',\n",
    "    'Rep Claim Collected',\n",
    "    'FTA Scope Completed',\n",
    "    'FTA Scope Rejected',\n",
    "    'BC Estimate Completed',\n",
    "    'OB Scope Completed',\n",
    "    'Sup Job Submitted',\n",
    "    'BC Approved for Production',\n",
    "    'OB Order Built',\n",
    "    'GM Order Processed',\n",
    "    'PA Permit Applied',\n",
    "    'PA Permit Processed',\n",
    "    'PA OA Processed',\n",
    "    'PA OA Invoiced',\n",
    "    'PA Notify of Delivery',\n",
    "    'PA Notify of Start',\n",
    "    'Delivery Date',\n",
    "    'Roof Start',\n",
    "    'Roof End',\n",
    "    'GM Approved for Inspection',\n",
    "    'GM Change Order Date',\n",
    "    'GM Labor Adjustment Date',\n",
    "    'RA Inspection Requested',\n",
    "    'RA Inspection Processed', \n",
    "    'Rep COC Collected',\n",
    "    'SA Job Docs Uploaded',\n",
    "    'BC Project Invoiced',\n",
    "    'BC Project Closed'\n",
    "]]\n",
    "\n",
    "all_project_df.columns"
   ]
  },
  {
   "cell_type": "markdown",
   "metadata": {
    "heading_collapsed": true
   },
   "source": [
    "# Comparing Data"
   ]
  },
  {
   "cell_type": "markdown",
   "metadata": {
    "heading_collapsed": true,
    "hidden": true
   },
   "source": [
    "## Gathering Date Differences"
   ]
  },
  {
   "cell_type": "code",
   "execution_count": 140,
   "metadata": {
    "hidden": true
   },
   "outputs": [],
   "source": [
    "# will store this project info\n",
    "claim_num = []\n",
    "branch_list = []\n",
    "claim_status_list = []\n",
    "\n",
    "# will store these date diffs\n",
    "rep_claim_diff = []\n",
    "fta_scope_diff = []\n",
    "ob_scope_diff = []\n",
    "bc_estimate_diff = []\n",
    "sup_pfynr_diff = []\n",
    "bc_approval_diff = []\n",
    "ob_order_build_diff = []\n",
    "gm_create_order_diff = []\n",
    "pa_oa_processed_diff = []\n",
    "pa_invoice_diff = []\n",
    "gm_approval_diff = []\n",
    "ra_request_inspection_diff = []\n",
    "rep_coc_collected_diff = []\n",
    "sa_docs_uploaded_diff = []\n",
    "bc_project_invoiced_diff = []\n",
    "bc_project_closed_diff = []\n",
    "\n",
    "\n",
    "# this data applies to leadtimes, not workflow\n",
    "pa_permit_applied_diff = []\n",
    "pa_permit_processed_diff = []\n",
    "pa_notify_delivery_diff = []\n",
    "pa_notify_start_diff = []\n",
    "\n",
    "\n",
    "# iterating over the df to create 'date diff' variables\n",
    "for index, row in all_project_df.iterrows():\n",
    "\n",
    "    # creating 'date_diff' variables for each step in the workflow\n",
    "    rep_claim_date_diff = float((row['Rep Claim Collected'] - row['Rep Agreement Signed']).days)\n",
    "\n",
    "    # if the record has NOT had the FTA Scope Rejected...\n",
    "    if row['FTA Scope Rejected'] == 'NaT':\n",
    "\n",
    "        # if the bc estimate was created prior to July 16th...\n",
    "        if row['BC Estimate Completed'] <= datetime(2019, 7, 15):\n",
    "\n",
    "            # then compare the 'bc estimate' date to the 'ob scope calc' date\n",
    "            # as well as 'ob scope' date to 'fta scope' date\n",
    "            fta_date_diff = (row['FTA Scope Completed'] - row['Rep Claim Collected']).days\n",
    "            ob_scope_date_diff = (row['OB Scope Completed'] - row['FTA Scope Completed']).days\n",
    "            bc_estimate_date_diff = (row['BC Estimate Completed'] - row['OB Scope Completed']).days\n",
    "            sup_pfynr_date_diff = (row['Sup Job Submitted'] - row['BC Estimate Completed']).days\n",
    "\n",
    "        # if the record was addressed during the 'blip'...\n",
    "        elif row['BC Estimate Completed'] == datetime(2019, 7, 16) or row['BC Estimate Completed'] == datetime(2019, 7, 17):\n",
    "\n",
    "            # then compare the 'bc estimate' to the 'blip' date, and the 'ob scope' date to the new 'bc date'\n",
    "            fta_date_diff = (row['FTA Scope Completed'] - row['Rep Claim Collected']).days\n",
    "            bc_estimate_date_diff = (row['BC Estimate Completed'] - datetime(2019, 7, 15)).days\n",
    "            ob_scope_date_diff = (row['OB Scope Completed'] - row['BC Estimate Completed']).days\n",
    "            sup_pfynr_date_diff = (row['Sup Job Submitted'] - row['OB Scope Completed']).days\n",
    "\n",
    "        # if the bc estimate was created after the 'blip' on July 16th...\n",
    "        else:\n",
    "\n",
    "            # then use the new workflow dates to compare the date diffs\n",
    "            fta_date_diff = (row['FTA Scope Completed'] - row['Rep Claim Collected']).days\n",
    "            bc_estimate_date_diff = (row['BC Estimate Completed'] - row['FTA Scope Completed']).days\n",
    "            ob_scope_date_diff = (row['OB Scope Completed'] - row['BC Estimate Completed']).days\n",
    "            sup_pfynr_date_diff = (row['Sup Job Submitted'] - row['OB Scope Completed']).days\n",
    "\n",
    "    # if the record HAS has the FTA Scope Rejected...\n",
    "    else:\n",
    "\n",
    "        # and was rejected prior to the 'blip'...\n",
    "        if row['BC Estimate Completed'] <= datetime(2019, 7, 15):\n",
    "\n",
    "            # use 'rejected' date and clarify sup date diffs\n",
    "            fta_date_diff = (row['FTA Scope Rejected'] - row['Rep Claim Collected']).days\n",
    "            bc_estimate_date_diff = (row['BC Estimate Completed'] - row['FTA Scope Completed']).days\n",
    "            ob_scope_date_diff = (row['OB Scope Completed'] - row['FTA Scope Rejected']).days\n",
    "            sup_pfynr_date_diff = (row['Sup Job Submitted'] - row['BC Estimate Completed']).days\n",
    "\n",
    "        # if rejected after the 'blip'...\n",
    "        else:\n",
    "\n",
    "            # use 'rejected' date and clarify sup date diffs\n",
    "            fta_date_diff = (row['FTA Scope Rejected'] - row['Rep Claim Collected']).days\n",
    "            bc_estimate_date_diff = (row['BC Estimate Completed'] - row['FTA Scope Completed']).days\n",
    "            ob_scope_date_diff = (row['OB Scope Completed'] - row['FTA Scope Rejected']).days\n",
    "            sup_pfynr_date_diff = (row['Sup Job Submitted'] - row['OB Scope Completed']).days\n",
    "\n",
    "    bc_approval_date_diff = (row['BC Approved for Production'] - row['Sup Job Submitted']).days\n",
    "    ob_orderbuild_date_diff = (row['OB Order Built'] - row['BC Approved for Production']).days\n",
    "    gm_create_order_date_diff = (row['GM Order Processed'] - row['OB Order Built']).days\n",
    "    pa_oa_processed_date_diff = (row['PA OA Processed'] - row['GM Order Processed']).days\n",
    "    pa_invoice_date_diff = (row['PA OA Invoiced'] - row['PA OA Processed']).days\n",
    "    gm_approval_date_diff = (row['GM Approved for Inspection'] - row['Roof End']).days\n",
    "    ra_requested_inspection_date_diff = (row['RA Inspection Requested'] - row['GM Approved for Inspection']).days\n",
    "    rep_coc_collected_date_diff = (row['Rep COC Collected'] - row['Roof End']).days\n",
    "    sa_docs_uploaded_date_diff = (row['SA Job Docs Uploaded'] - row['Rep COC Collected']).days\n",
    "    bc_project_invoiced_date_diff = (row['BC Project Invoiced'] - row['SA Job Docs Uploaded']).days\n",
    "    bc_project_closed_date_diff = (row['BC Project Closed'] - row['BC Project Invoiced']).days\n",
    "    \n",
    "\n",
    "    # these provide the lead times of tasks not directly impacting the workflow.\n",
    "    pa_permit_applied_date_diff = (row['PA Permit Applied'] - row['BC Approved for Production']).days\n",
    "    pa_permit_processed_date_diff = (row['PA Permit Processed'] - row['PA Permit Applied']).days\n",
    "    pa_notify_delivery_date_diff = (row['Delivery Date'] - row['PA Notify of Delivery']).days\n",
    "    pa_notify_start_date_diff = (row['Roof Start'] - row['PA Notify of Start']).days\n",
    "\n",
    "    # appending 'date diff' values to lists to create each df column\n",
    "    claim_num.append(row[\"Claim #\"])\n",
    "    branch_list.append(row['Branch'])\n",
    "    claim_status_list.append(row['Claim Status'])\n",
    "    rep_claim_diff.append(rep_claim_date_diff)\n",
    "    fta_scope_diff.append(fta_date_diff)\n",
    "    ob_scope_diff.append(ob_scope_date_diff)\n",
    "    bc_estimate_diff.append(bc_estimate_date_diff)\n",
    "    sup_pfynr_diff.append(sup_pfynr_date_diff)\n",
    "    bc_approval_diff.append(bc_approval_date_diff)\n",
    "    ob_order_build_diff.append(ob_orderbuild_date_diff)\n",
    "    gm_create_order_diff.append(gm_create_order_date_diff)\n",
    "    pa_oa_processed_diff.append(pa_oa_processed_date_diff)\n",
    "    pa_invoice_diff.append(pa_invoice_date_diff)\n",
    "    gm_approval_diff.append(gm_approval_date_diff)\n",
    "    rep_coc_collected_diff.append(rep_coc_collected_date_diff)\n",
    "    sa_docs_uploaded_diff.append(sa_docs_uploaded_date_diff)\n",
    "    bc_project_invoiced_diff.append(bc_project_invoiced_date_diff)\n",
    "    bc_project_closed_diff.append(bc_project_closed_date_diff)\n",
    "    \n",
    "    # this data applies to leadtimes, not workflow \n",
    "    pa_permit_applied_diff.append(pa_permit_applied_date_diff)\n",
    "    pa_permit_processed_diff.append(pa_permit_processed_date_diff)\n",
    "    pa_notify_delivery_diff.append(pa_notify_delivery_date_diff)\n",
    "    pa_notify_start_diff.append(pa_notify_start_date_diff)\n",
    "    ra_request_inspection_diff.append(ra_requested_inspection_date_diff)"
   ]
  },
  {
   "cell_type": "markdown",
   "metadata": {
    "heading_collapsed": true,
    "hidden": true
   },
   "source": [
    "## Creating 'Workflow Days' df\n",
    "**The days between each Teammate step in the workflow (excluding some production processes)**"
   ]
  },
  {
   "cell_type": "code",
   "execution_count": 141,
   "metadata": {
    "hidden": true
   },
   "outputs": [],
   "source": [
    "# creating the 'days_df' to hold all date values for each role in the project\n",
    "days_df = pd.DataFrame({\n",
    "    \"Claim #\": claim_num,\n",
    "    \"Rep Collecting Claim\": rep_claim_diff,\n",
    "    \"FTA Completing Scope\": fta_scope_diff,\n",
    "    \"BC Completing Estimate\": bc_estimate_diff,\n",
    "    \"OB Completing Scope\": ob_scope_diff,\n",
    "    \"Sup Submitting Job\": sup_pfynr_diff,\n",
    "    \"BC Approving Job\": bc_approval_diff,\n",
    "    \"OB Building Order\": ob_order_build_diff,\n",
    "    \"GM Processing Order\": gm_create_order_diff,\n",
    "    \"PA Processing OA\": pa_oa_processed_diff,\n",
    "    \"PA Invoicing OA\": pa_invoice_diff,\n",
    "    'GM Approving for Inspection': gm_approval_diff,\n",
    "    'RA Requesting Inspection': ra_request_inspection_diff,\n",
    "    'Rep Collecting COC': rep_coc_collected_diff,\n",
    "    'SA Uploading Docs': sa_docs_uploaded_diff,\n",
    "    'BC Invoicing Project':bc_project_invoiced_diff,\n",
    "    'BC Closed Project':bc_project_closed_diff\n",
    "})\n",
    "\n",
    "# creating a column holding the running tally across a row (project)\n",
    "# can be done because not including 'date diffs' on non-workflow items\n",
    "days_df['Days in Pipeline'] = days_df.sum(axis=1)\n",
    "\n",
    "# days_df.head()"
   ]
  },
  {
   "cell_type": "markdown",
   "metadata": {
    "heading_collapsed": true
   },
   "source": [
    "# Export Data"
   ]
  },
  {
   "cell_type": "code",
   "execution_count": 142,
   "metadata": {
    "hidden": true
   },
   "outputs": [],
   "source": [
    "all_project_df.to_csv(\"data/cleaned_data/project_table.csv\", index=False)\n",
    "\n",
    "days_df.to_csv(\"data/cleaned_data/workflow_table.csv\", index=False)\n",
    "\n",
    "info_df.to_csv(\"data/cleaned_data/project_info_table.csv\", index=False)"
   ]
  }
 ],
 "metadata": {
  "kernelspec": {
   "display_name": "Python 3",
   "language": "python",
   "name": "python3"
  },
  "language_info": {
   "codemirror_mode": {
    "name": "ipython",
    "version": 3
   },
   "file_extension": ".py",
   "mimetype": "text/x-python",
   "name": "python",
   "nbconvert_exporter": "python",
   "pygments_lexer": "ipython3",
   "version": "3.7.1"
  },
  "toc": {
   "base_numbering": 1,
   "nav_menu": {},
   "number_sections": true,
   "sideBar": true,
   "skip_h1_title": false,
   "title_cell": "Table of Contents",
   "title_sidebar": "Contents",
   "toc_cell": false,
   "toc_position": {},
   "toc_section_display": true,
   "toc_window_display": false
  },
  "varInspector": {
   "cols": {
    "lenName": "50",
    "lenType": 16,
    "lenVar": 40
   },
   "kernels_config": {
    "python": {
     "delete_cmd_postfix": "",
     "delete_cmd_prefix": "del ",
     "library": "var_list.py",
     "varRefreshCmd": "print(var_dic_list())"
    },
    "r": {
     "delete_cmd_postfix": ") ",
     "delete_cmd_prefix": "rm(",
     "library": "var_list.r",
     "varRefreshCmd": "cat(var_dic_list()) "
    }
   },
   "position": {
    "height": "540px",
    "left": "1108px",
    "right": "20px",
    "top": "120px",
    "width": "246px"
   },
   "types_to_exclude": [
    "module",
    "function",
    "builtin_function_or_method",
    "instance",
    "_Feature"
   ],
   "window_display": false
  }
 },
 "nbformat": 4,
 "nbformat_minor": 2
}
