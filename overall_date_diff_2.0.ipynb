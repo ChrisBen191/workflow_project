{
 "cells": [
  {
   "cell_type": "markdown",
   "metadata": {},
   "source": [
    "# Setup\n",
    "**This analysis includes all projects for the 2019 Season (includes projects marked as \"Dead\")**"
   ]
  },
  {
   "cell_type": "markdown",
   "metadata": {},
   "source": [
    "## Dependencies"
   ]
  },
  {
   "cell_type": "code",
   "execution_count": 1,
   "metadata": {},
   "outputs": [],
   "source": [
    "import pandas as pd\n",
    "from datetime import datetime"
   ]
  },
  {
   "cell_type": "markdown",
   "metadata": {},
   "source": [
    "## Import Data"
   ]
  },
  {
   "cell_type": "code",
   "execution_count": 2,
   "metadata": {},
   "outputs": [],
   "source": [
    "# imports the '[TVA] Q2 Workflow Analysis' data\n",
    "all_project_data = \"./data/all_projects.csv\"\n",
    "\n",
    "# imports the '[TVA] Orders Table Audit' data\n",
    "all_production_data = \"./data/all_production_projects.csv\"\n",
    "\n",
    "# imports '[W] ' data\n",
    "improvements_data = \"./data/improvement_table.csv\""
   ]
  },
  {
   "cell_type": "markdown",
   "metadata": {},
   "source": [
    "# Parsing Data"
   ]
  },
  {
   "cell_type": "markdown",
   "metadata": {},
   "source": [
    "## Project Data"
   ]
  },
  {
   "cell_type": "markdown",
   "metadata": {},
   "source": [
    "### All Q2 Projects\n",
    "\n",
    "**Includes projects marked as 'Dead'**"
   ]
  },
  {
   "cell_type": "code",
   "execution_count": 3,
   "metadata": {},
   "outputs": [
    {
     "data": {
      "text/plain": [
       "Claim #                      1512\n",
       "Job #                         897\n",
       "Branch                       1520\n",
       "Claim # Date                 1520\n",
       "FTA Scope. Req Date          1520\n",
       "Submit for Estimate Date     1520\n",
       "[OB] Created Scope Calc      1515\n",
       "[B] Created Estimate Date    1520\n",
       "Job Submittal Date            972\n",
       "[B] - Date Approved by BC     897\n",
       "[OB] Completed                858\n",
       "Claim Status                   72\n",
       "dtype: int64"
      ]
     },
     "execution_count": 3,
     "metadata": {},
     "output_type": "execute_result"
    }
   ],
   "source": [
    "project_df = pd.read_csv(\n",
    "    all_project_data, dtype={'Claim #': str, 'Job #': str, 'Branch' : str, 'Claim Status': str},\n",
    "    parse_dates=[\n",
    "        'Claim # Date',\n",
    "        'FTA Scope. Req Date',\n",
    "        'Submit for Estimate Date',\n",
    "        '[OB] Created Scope Calc',\n",
    "        '[B] Created Estimate Date',\n",
    "        'Job Submittal Date',\n",
    "        '[B] - Date Approved by BC',\n",
    "        '[OB] Completed']\n",
    ")\n",
    "\n",
    "# provides a summary of the 'project_df' holding all jobs for the season\n",
    "project_summary = project_df.count()\n",
    "project_summary"
   ]
  },
  {
   "cell_type": "markdown",
   "metadata": {},
   "source": [
    "### All Projects in Production\n",
    "\n",
    "**Includes projects that have completed notifying the HO of the 'Roof Start' Date**"
   ]
  },
  {
   "cell_type": "code",
   "execution_count": 4,
   "metadata": {},
   "outputs": [
    {
     "data": {
      "text/plain": [
       "Claim #               859\n",
       "Job #                 860\n",
       "Branch                860\n",
       "[OB] Completed        860\n",
       "Permit Applied [A]    434\n",
       "Order Date            685\n",
       "Permit Received       398\n",
       "OA Date               644\n",
       "Invoice Date          579\n",
       "Ntfd H.O. Dlvry       663\n",
       "Dlvry Start           673\n",
       "Ntfd H.O. Start       566\n",
       "Roof Start            671\n",
       "dtype: int64"
      ]
     },
     "execution_count": 4,
     "metadata": {},
     "output_type": "execute_result"
    }
   ],
   "source": [
    "production_df = pd.read_csv(\n",
    "    all_production_data, dtype={'Claim #': str, 'Job #': str, 'Branch': str},\n",
    "    parse_dates=[\n",
    "        '[OB] Completed',\n",
    "        'Permit Applied [A]',\n",
    "        'Order Date',\n",
    "        'Permit Received',\n",
    "        'OA Date',\n",
    "        'Invoice Date',\n",
    "        'Ntfd H.O. Dlvry',\n",
    "        'Dlvry Start',\n",
    "        'Ntfd H.O. Start',\n",
    "        'Roof Start']\n",
    ")\n",
    "\n",
    "# provides a summary of the 'project_df' holding all jobs for the season\n",
    "production_summary = production_df.count()\n",
    "production_summary"
   ]
  },
  {
   "cell_type": "markdown",
   "metadata": {},
   "source": [
    "## Rejection Data"
   ]
  },
  {
   "cell_type": "markdown",
   "metadata": {},
   "source": [
    "### All Rejections\n",
    "\n",
    "**Includes projects marked as 'Dead'**"
   ]
  },
  {
   "cell_type": "code",
   "execution_count": 5,
   "metadata": {},
   "outputs": [],
   "source": [
    "# created 'improvements_df' to hold all dates of fta scope rejections to use correct date\n",
    "improvements_df = pd.read_csv(\n",
    "    improvements_data,\n",
    "    dtype={'Claim #': str},\n",
    "    parse_dates=['Created'])"
   ]
  },
  {
   "cell_type": "markdown",
   "metadata": {},
   "source": [
    "###  Multi-Rejection Counts\n",
    "**Determine the amount of rejections for each project**"
   ]
  },
  {
   "cell_type": "code",
   "execution_count": 6,
   "metadata": {},
   "outputs": [],
   "source": [
    "# creating a 'df' to count how many times a job was rejected (if at all)\n",
    "improvement_counts_df = (improvements_df.groupby(\"Claim #\").count())\n",
    "\n",
    "# resets the 'claim #' from being the index\n",
    "improvement_counts_df.reset_index(inplace=True)\n",
    "\n",
    "# renaming the 'improvement_counts'to make it easier to merge\n",
    "improvement_counts_df = improvement_counts_df.rename(columns = {\"Created\" : \"Scope Rejections\"})"
   ]
  },
  {
   "cell_type": "markdown",
   "metadata": {},
   "source": [
    "### Latest Rejections\n",
    "**Determine the most recent rejection for any project**"
   ]
  },
  {
   "cell_type": "code",
   "execution_count": 7,
   "metadata": {},
   "outputs": [],
   "source": [
    "# 'unique_improv_dates_df' holds most recent 'created' dates for improvements;\n",
    "# 'idmax()' provides the most current date\n",
    "latest_rejection_df = improvements_df.loc[\n",
    "    improvements_df.groupby('Claim #')['Created'].idxmax()]\n",
    "\n",
    "# renaming the 'unique improvements' df to make it easier to merge\n",
    "latest_rejection_df = latest_rejection_df.rename(columns={\"Created\": \"Rejection Date\"})"
   ]
  },
  {
   "cell_type": "markdown",
   "metadata": {},
   "source": [
    "# Merge Data"
   ]
  },
  {
   "cell_type": "markdown",
   "metadata": {},
   "source": [
    "## Merge 'All Projects' and 'Multi-Rejection' dataframes\n",
    "**Merging dfs on the shared 'Claim #' Column**"
   ]
  },
  {
   "cell_type": "code",
   "execution_count": 8,
   "metadata": {},
   "outputs": [],
   "source": [
    "first_merge_df = pd.merge(project_df, improvement_counts_df, how='left', on='Claim #')\n",
    "\n",
    "# if the project as not rejected, fill the 'null' values with 0.\n",
    "first_merge_df['Scope Rejections'] = first_merge_df['Scope Rejections'].fillna(0)\n",
    "\n",
    "del first_merge_df['Job #_y']"
   ]
  },
  {
   "cell_type": "markdown",
   "metadata": {},
   "source": [
    "## Combine with 'Latest Rejections'\n",
    "**Merging dfs on the shared 'Claim #' Column**"
   ]
  },
  {
   "cell_type": "code",
   "execution_count": 9,
   "metadata": {},
   "outputs": [],
   "source": [
    "second_merged_df = pd.merge(first_merge_df, latest_rejection_df, how='left', on='Claim #')\n",
    "\n",
    "del second_merged_df['Job #']"
   ]
  },
  {
   "cell_type": "markdown",
   "metadata": {},
   "source": [
    "## Combine with 'Production' Data"
   ]
  },
  {
   "cell_type": "code",
   "execution_count": 26,
   "metadata": {},
   "outputs": [
    {
     "data": {
      "text/html": [
       "<div>\n",
       "<style scoped>\n",
       "    .dataframe tbody tr th:only-of-type {\n",
       "        vertical-align: middle;\n",
       "    }\n",
       "\n",
       "    .dataframe tbody tr th {\n",
       "        vertical-align: top;\n",
       "    }\n",
       "\n",
       "    .dataframe thead th {\n",
       "        text-align: right;\n",
       "    }\n",
       "</style>\n",
       "<table border=\"1\" class=\"dataframe\">\n",
       "  <thead>\n",
       "    <tr style=\"text-align: right;\">\n",
       "      <th></th>\n",
       "      <th>Claim #</th>\n",
       "      <th>Branch_x</th>\n",
       "      <th>Claim # Date</th>\n",
       "      <th>FTA Scope. Req Date</th>\n",
       "      <th>Submit for Estimate Date</th>\n",
       "      <th>[OB] Created Scope Calc</th>\n",
       "      <th>[B] Created Estimate Date</th>\n",
       "      <th>Job Submittal Date</th>\n",
       "      <th>[B] - Date Approved by BC</th>\n",
       "      <th>[OB] Completed_x</th>\n",
       "      <th>...</th>\n",
       "      <th>[OB] Completed_y</th>\n",
       "      <th>Permit Applied [A]</th>\n",
       "      <th>Order Date</th>\n",
       "      <th>Permit Received</th>\n",
       "      <th>OA Date</th>\n",
       "      <th>Invoice Date</th>\n",
       "      <th>Ntfd H.O. Dlvry</th>\n",
       "      <th>Dlvry Start</th>\n",
       "      <th>Ntfd H.O. Start</th>\n",
       "      <th>Roof Start</th>\n",
       "    </tr>\n",
       "  </thead>\n",
       "  <tbody>\n",
       "    <tr>\n",
       "      <th>0</th>\n",
       "      <td>60003552120</td>\n",
       "      <td>FCO</td>\n",
       "      <td>2019-06-09</td>\n",
       "      <td>2019-06-18</td>\n",
       "      <td>2019-06-19</td>\n",
       "      <td>2019-06-24</td>\n",
       "      <td>2019-06-25</td>\n",
       "      <td>NaT</td>\n",
       "      <td>NaT</td>\n",
       "      <td>NaT</td>\n",
       "      <td>...</td>\n",
       "      <td>NaT</td>\n",
       "      <td>NaT</td>\n",
       "      <td>NaT</td>\n",
       "      <td>NaT</td>\n",
       "      <td>NaT</td>\n",
       "      <td>NaT</td>\n",
       "      <td>NaT</td>\n",
       "      <td>NaT</td>\n",
       "      <td>NaT</td>\n",
       "      <td>NaT</td>\n",
       "    </tr>\n",
       "    <tr>\n",
       "      <th>1</th>\n",
       "      <td>165421V00</td>\n",
       "      <td>KCI</td>\n",
       "      <td>2018-08-19</td>\n",
       "      <td>2019-03-26</td>\n",
       "      <td>2019-03-26</td>\n",
       "      <td>2019-03-29</td>\n",
       "      <td>2019-03-29</td>\n",
       "      <td>2019-05-06</td>\n",
       "      <td>2019-05-08</td>\n",
       "      <td>2019-05-20</td>\n",
       "      <td>...</td>\n",
       "      <td>2019-05-20 16:38:00</td>\n",
       "      <td>2019-05-22</td>\n",
       "      <td>2019-05-30</td>\n",
       "      <td>2019-05-22</td>\n",
       "      <td>2019-05-30 10:20:00</td>\n",
       "      <td>2019-05-31</td>\n",
       "      <td>2019-05-30</td>\n",
       "      <td>2019-05-31</td>\n",
       "      <td>2019-05-31</td>\n",
       "      <td>2019-06-03</td>\n",
       "    </tr>\n",
       "    <tr>\n",
       "      <th>2</th>\n",
       "      <td>825102185</td>\n",
       "      <td>OMA</td>\n",
       "      <td>2018-10-12</td>\n",
       "      <td>2019-03-23</td>\n",
       "      <td>2019-04-04</td>\n",
       "      <td>2019-04-08</td>\n",
       "      <td>2019-04-08</td>\n",
       "      <td>2019-04-11</td>\n",
       "      <td>2019-04-12</td>\n",
       "      <td>2019-04-12</td>\n",
       "      <td>...</td>\n",
       "      <td>NaT</td>\n",
       "      <td>NaT</td>\n",
       "      <td>NaT</td>\n",
       "      <td>NaT</td>\n",
       "      <td>NaT</td>\n",
       "      <td>NaT</td>\n",
       "      <td>NaT</td>\n",
       "      <td>NaT</td>\n",
       "      <td>NaT</td>\n",
       "      <td>NaT</td>\n",
       "    </tr>\n",
       "    <tr>\n",
       "      <th>3</th>\n",
       "      <td>80-212-6908HO</td>\n",
       "      <td>OMA</td>\n",
       "      <td>2018-10-18</td>\n",
       "      <td>2019-03-23</td>\n",
       "      <td>2019-04-09</td>\n",
       "      <td>2019-04-11</td>\n",
       "      <td>2019-04-12</td>\n",
       "      <td>NaT</td>\n",
       "      <td>NaT</td>\n",
       "      <td>NaT</td>\n",
       "      <td>...</td>\n",
       "      <td>NaT</td>\n",
       "      <td>NaT</td>\n",
       "      <td>NaT</td>\n",
       "      <td>NaT</td>\n",
       "      <td>NaT</td>\n",
       "      <td>NaT</td>\n",
       "      <td>NaT</td>\n",
       "      <td>NaT</td>\n",
       "      <td>NaT</td>\n",
       "      <td>NaT</td>\n",
       "    </tr>\n",
       "    <tr>\n",
       "      <th>4</th>\n",
       "      <td>3011775484</td>\n",
       "      <td>FCO</td>\n",
       "      <td>2018-10-25</td>\n",
       "      <td>2019-04-19</td>\n",
       "      <td>2019-04-24</td>\n",
       "      <td>2019-04-25</td>\n",
       "      <td>2019-04-25</td>\n",
       "      <td>2019-05-30</td>\n",
       "      <td>2019-06-03</td>\n",
       "      <td>2019-06-03</td>\n",
       "      <td>...</td>\n",
       "      <td>2019-06-03 16:32:00</td>\n",
       "      <td>2019-06-20</td>\n",
       "      <td>2019-06-18</td>\n",
       "      <td>2019-06-21</td>\n",
       "      <td>2019-06-18 09:00:00</td>\n",
       "      <td>2019-06-19</td>\n",
       "      <td>2019-06-18</td>\n",
       "      <td>2019-06-19</td>\n",
       "      <td>2019-06-21</td>\n",
       "      <td>2019-06-24</td>\n",
       "    </tr>\n",
       "  </tbody>\n",
       "</table>\n",
       "<p>5 rows × 24 columns</p>\n",
       "</div>"
      ],
      "text/plain": [
       "         Claim # Branch_x Claim # Date FTA Scope. Req Date  \\\n",
       "0    60003552120      FCO   2019-06-09          2019-06-18   \n",
       "1      165421V00      KCI   2018-08-19          2019-03-26   \n",
       "2      825102185      OMA   2018-10-12          2019-03-23   \n",
       "3  80-212-6908HO      OMA   2018-10-18          2019-03-23   \n",
       "4     3011775484      FCO   2018-10-25          2019-04-19   \n",
       "\n",
       "  Submit for Estimate Date [OB] Created Scope Calc [B] Created Estimate Date  \\\n",
       "0               2019-06-19              2019-06-24                2019-06-25   \n",
       "1               2019-03-26              2019-03-29                2019-03-29   \n",
       "2               2019-04-04              2019-04-08                2019-04-08   \n",
       "3               2019-04-09              2019-04-11                2019-04-12   \n",
       "4               2019-04-24              2019-04-25                2019-04-25   \n",
       "\n",
       "  Job Submittal Date [B] - Date Approved by BC [OB] Completed_x    ...      \\\n",
       "0                NaT                       NaT              NaT    ...       \n",
       "1         2019-05-06                2019-05-08       2019-05-20    ...       \n",
       "2         2019-04-11                2019-04-12       2019-04-12    ...       \n",
       "3                NaT                       NaT              NaT    ...       \n",
       "4         2019-05-30                2019-06-03       2019-06-03    ...       \n",
       "\n",
       "     [OB] Completed_y  Permit Applied [A] Order Date Permit Received  \\\n",
       "0                 NaT                 NaT        NaT             NaT   \n",
       "1 2019-05-20 16:38:00          2019-05-22 2019-05-30      2019-05-22   \n",
       "2                 NaT                 NaT        NaT             NaT   \n",
       "3                 NaT                 NaT        NaT             NaT   \n",
       "4 2019-06-03 16:32:00          2019-06-20 2019-06-18      2019-06-21   \n",
       "\n",
       "              OA Date Invoice Date Ntfd H.O. Dlvry Dlvry Start  \\\n",
       "0                 NaT          NaT             NaT         NaT   \n",
       "1 2019-05-30 10:20:00   2019-05-31      2019-05-30  2019-05-31   \n",
       "2                 NaT          NaT             NaT         NaT   \n",
       "3                 NaT          NaT             NaT         NaT   \n",
       "4 2019-06-18 09:00:00   2019-06-19      2019-06-18  2019-06-19   \n",
       "\n",
       "  Ntfd H.O. Start Roof Start  \n",
       "0             NaT        NaT  \n",
       "1      2019-05-31 2019-06-03  \n",
       "2             NaT        NaT  \n",
       "3             NaT        NaT  \n",
       "4      2019-06-21 2019-06-24  \n",
       "\n",
       "[5 rows x 24 columns]"
      ]
     },
     "execution_count": 26,
     "metadata": {},
     "output_type": "execute_result"
    }
   ],
   "source": [
    "final_merged_df = pd.merge(second_merged_df, production_df, how='left', on='Claim #')\n",
    "del final_merged_df['Job #_x'], final_merged_df['Branch_y']\n",
    "\n",
    "# confirm 'OB completed date' is not on the production csv. \n",
    "final_merged_df.head()"
   ]
  },
  {
   "cell_type": "markdown",
   "metadata": {},
   "source": [
    "## Cleanup Merged Data"
   ]
  },
  {
   "cell_type": "code",
   "execution_count": 27,
   "metadata": {},
   "outputs": [],
   "source": [
    "all_project_df = final_merged_df[['Claim #', 'Job #', 'Branch_x', 'Scope Rejections', 'Claim Status', 'Claim # Date', 'FTA Scope. Req Date', 'Rejection Date', 'Submit for Estimate Date', '[B] Created Estimate Date', '[OB] Created Scope Calc',\n",
    "                                  'Job Submittal Date', '[B] - Date Approved by BC', '[OB] Completed_x', 'Permit Applied [A]', 'Order Date', 'Permit Received', 'OA Date', 'Invoice Date', 'Ntfd H.O. Dlvry', 'Dlvry Start', 'Ntfd H.O. Start', 'Roof Start']]\n",
    "\n",
    "# renaming the columnns to be able to read easier\n",
    "all_project_df = all_project_df.rename(columns={\n",
    "    'Branch_x': 'Branch',\n",
    "    'FTA Scope. Req Date': 'Claim # Collected',\n",
    "    'Rejection Date': 'FTA Scope Rejected',\n",
    "    'Submit for Estimate Date': 'FTA Scope Completed',\n",
    "    '[B] Created Estimate Date':'BC Estimate Completed',\n",
    "    '[OB] Created Scope Calc': 'OB Scope Completed',\n",
    "    'Job Submittal Date': 'Sup Submitted Job',\n",
    "    '[B] - Date Approved by BC': 'BC Approved',\n",
    "    '[OB] Completed_x': 'OB Order Built',\n",
    "    'Permit Applied [A]': 'PA Permit Applied',\n",
    "    'Order Date': 'GM Order Created',\n",
    "    'Permit Received': 'PA Permit Processed',\n",
    "    'OA Date': 'PA OA Processed',\n",
    "    'Invoice Date':'PA Invoice Created',\n",
    "    'Ntfd H.O. Dlvry': 'PA Notify of Delivery',\n",
    "    'Dlvry Start': 'Delivery Start',\n",
    "    'Ntfd H.O. Start': 'PA Notify of Start'\n",
    "})"
   ]
  },
  {
   "cell_type": "markdown",
   "metadata": {},
   "source": [
    "# Comparing Data"
   ]
  },
  {
   "cell_type": "markdown",
   "metadata": {},
   "source": [
    "## Gathering Date Differences\n",
    "**Finding any 'Submit for Estimate' and 'Rejection Date' Subsitutions**"
   ]
  },
  {
   "cell_type": "code",
   "execution_count": 31,
   "metadata": {},
   "outputs": [],
   "source": [
    "# list to store the 'date diffs' value for each step'\n",
    "claim_num = []\n",
    "job_num = []\n",
    "rep_claim_diff = []\n",
    "fta_scope_diff = []\n",
    "ob_scope_diff = []\n",
    "bc_estimate_diff = []\n",
    "sup_pfynr_diff = []\n",
    "bc_approval_diff = []\n",
    "ob_order_build_diff = []\n",
    "gm_create_order_diff = []\n",
    "pa_oa_processed_diff = []\n",
    "pa_invoice_diff = []\n",
    "\n",
    "\n",
    "# these are being recorded, but don't necessarily apply to the project workflow.\n",
    "pa_permit_applied_diff = []\n",
    "pa_permit_processed_diff = []\n",
    "pa_notify_delivery_diff = []\n",
    "pa_notify_start_diff = []\n",
    "\n",
    "\n",
    "# iterating over the df to create 'date diff' variables\n",
    "for index, row in all_project_df.iterrows():\n",
    "\n",
    "    # creating 'date_diff' variables for each step in the workflow\n",
    "    rep_claim_date_diff = float((row['Claim # Collected'] - row['Claim # Date']).days)\n",
    "\n",
    "    # if the record has NOT had the FTA Scope Rejected...\n",
    "    if row['Scope Rejections'] != 0:\n",
    "\n",
    "        # if the bc estimate was created prior to July 16th...\n",
    "        if row['BC Estimate Completed'] <= datetime(2019, 7, 15):\n",
    "\n",
    "            # then compare the 'bc estimate' date to the 'ob scope calc' date\n",
    "            # as well as 'ob scope' date to 'fta scope' date\n",
    "            fta_date_diff = (row['FTA Scope Completed'] - row['Claim # Collected']).days\n",
    "            ob_scope_date_diff = (row['OB Scope Completed'] - row['FTA Scope Completed']).days\n",
    "            bc_estimate_date_diff = (row['BC Estimate Completed'] - row['OB Scope Completed']).days\n",
    "            sup_pfynr_date_diff=(row['Sup Submitted Job'] - row['BC Estimate Completed']).days\n",
    "\n",
    "        # if the record was addressed during the 'blip'...\n",
    "        elif row['BC Estimate Completed'] == datetime(2019, 7, 16):\n",
    "            \n",
    "            # then compare the 'bc estimate' to the 'blip' date, and the 'ob scope' date to the new 'bc date'\n",
    "            fta_date_diff = (row['FTA Scope Completed'] - row['Claim # Collected']).days\n",
    "            bc_estimate_date_diff = (row['BC Estimate Completed'] - datetime.datetime(2019, 7, 15)).days\n",
    "            ob_scope_date_diff = (row['OB Scope Completed'] - row['BC Estimate Completed']).days\n",
    "            sup_pfynr_date_diff=(row['Sup Submitted Job'] - row['OB Scope Completed']).days\n",
    "\n",
    "        # if the bc estimate was created after the 'blip' on July 16th...\n",
    "        else:\n",
    "            \n",
    "            # then use the new workflow dates to compare the date diffs\n",
    "            fta_date_diff = (row['FTA Scope Completed'] - row['Claim # Collected']).days\n",
    "            bc_estimate_date_diff = (row['BC Estimate Completed'] - row['FTA Scope Completed']).days\n",
    "            ob_scope_date_diff = (row['OB Scope Completed'] - row['BC Estimate Completed']).days\n",
    "            sup_pfynr_date_diff=(row['Sup Submitted Job'] - row['OB Scope Completed']).days\n",
    "            \n",
    "    # if the record HAS has the FTA Scope Rejected...\n",
    "    else:\n",
    "        \n",
    "        # and was rejected prior to the 'blip'...\n",
    "        if row['BC Estimate Completed'] <= datetime(2019, 7, 15):\n",
    "            \n",
    "            # use 'rejected' date and clarify sup date diffs\n",
    "            fta_date_diff = (row['FTA Scope Rejected'] - row['Claim # Collected']).days\n",
    "            bc_estimate_date_diff = (row['BC Estimate Completed'] - row['FTA Scope Completed']).days\n",
    "            ob_scope_date_diff = (row['OB Scope Completed'] - row['FTA Scope Rejected']).days\n",
    "            sup_pfynr_date_diff=(row['Sup Submitted Job'] - row['BC Estimate Completed']).days\n",
    "        \n",
    "        # if rejected after the 'blip'...\n",
    "        else:\n",
    "            \n",
    "            # use 'rejected' date and clarify sup date diffs\n",
    "            fta_date_diff = (row['FTA Scope Rejected'] - row['Claim # Collected']).days\n",
    "            bc_estimate_date_diff = (row['BC Estimate Completed'] - row['FTA Scope Completed']).days\n",
    "            ob_scope_date_diff = (row['OB Scope Completed'] - row['FTA Scope Rejected']).days\n",
    "            sup_pfynr_date_diff = (row['Sup Submitted Job'] - row['OB Scope Completed']).days\n",
    "    \n",
    "    bc_approval_date_diff = (row['BC Approved'] - row['Sup Submitted Job']).days\n",
    "    ob_orderbuild_date_diff = (row['OB Order Built'] - row['BC Approved']).days\n",
    "    gm_create_order_date_diff = (row['GM Order Created'] - row['OB Order Built']).days\n",
    "    pa_oa_processed_date_diff = (row['PA OA Processed'] - row['GM Order Created']).days\n",
    "    pa_invoice_date_diff = (row['PA Invoice Created'] - row['PA OA Processed']).days\n",
    "    \n",
    "    # these provide the lead times of tasks not directly impacting the workflow.\n",
    "    pa_permit_applied_date_diff = (row['PA Permit Applied'] - row['BC Approved']).days\n",
    "    pa_permit_processed_date_diff = (row['PA Permit Processed'] - row['PA Permit Applied']).days\n",
    "    pa_notify_delivery_date_diff = (row['Delivery Start'] - row['PA Notify of Delivery']).days\n",
    "    pa_notify_start_date_diff = (row['Roof Start'] - row['PA Notify of Start']).days\n",
    "        \n",
    "    # appending 'date diff' values to lists to create each df column\n",
    "    claim_num.append(row[\"Claim #\"])\n",
    "    job_num.append(row[\"Job #\"])\n",
    "    rep_claim_diff.append(rep_claim_date_diff)\n",
    "    fta_scope_diff.append(fta_date_diff)\n",
    "    ob_scope_diff.append(ob_scope_date_diff)\n",
    "    bc_estimate_diff.append(bc_estimate_date_diff)\n",
    "    sup_pfynr_diff.append(sup_pfynr_date_diff)\n",
    "    bc_approval_diff.append(bc_approval_date_diff)\n",
    "    ob_order_build_diff.append(ob_orderbuild_date_diff)\n",
    "    gm_create_order_diff.append(gm_create_order_date_diff)\n",
    "    pa_oa_processed_diff.append(pa_oa_processed_date_diff)\n",
    "    pa_invoice_diff.append(pa_invoice_date_diff)\n",
    "    pa_permit_applied_diff.append(pa_permit_applied_date_diff)\n",
    "    pa_permit_processed_diff.append(pa_permit_processed_date_diff)\n",
    "    pa_notify_delivery_diff.append(pa_notify_delivery_date_diff)\n",
    "    pa_notify_start_diff.append(pa_notify_start_date_diff)"
   ]
  },
  {
   "cell_type": "markdown",
   "metadata": {},
   "source": [
    "## Creating 'Workflow Days' df\n",
    "**The days between each Teammate step in the workflow**"
   ]
  },
  {
   "cell_type": "code",
   "execution_count": 29,
   "metadata": {},
   "outputs": [],
   "source": [
    "# creating the 'days_df' to hold all date values for each role in the project\n",
    "days_df = pd.DataFrame({\n",
    "    \"claim_#\": claim_num,\n",
    "    \"job_#\": job_num,\n",
    "    \"rep_claim\": rep_claim_diff,\n",
    "    \"fta_scope\": fta_scope_diff,\n",
    "    \"bc_estimate\": bc_estimate_diff,\n",
    "    \"ob_scope\": ob_scope_diff,\n",
    "    \"sup_pfynr\": sup_pfynr_diff,\n",
    "    \"bc_approval\": bc_approval_diff,\n",
    "    \"ob_orderbuild\": ob_order_build_diff,\n",
    "    \"gm_create_order\": gm_create_order_diff,\n",
    "    \"pa_oa_process\": pa_oa_processed_diff,\n",
    "    \"pa_invoice\": pa_invoice_diff,\n",
    "})\n",
    "\n",
    "# creating a column holding the running tally across a row (project)\n",
    "days_df['total_days'] = days_df.sum(axis=1)"
   ]
  },
  {
   "cell_type": "markdown",
   "metadata": {},
   "source": [
    "# Export Data"
   ]
  },
  {
   "cell_type": "code",
   "execution_count": 30,
   "metadata": {},
   "outputs": [],
   "source": [
    "# 'projects' and 'workflow days' CSVs\n",
    "\n",
    "final_merged_df.to_csv(\"data/project_table.csv\", index=False)\n",
    "\n",
    "days_df.to_csv(\"data/workflow_days.csv\", index=False)\n"
   ]
  }
 ],
 "metadata": {
  "kernelspec": {
   "display_name": "Python 3",
   "language": "python",
   "name": "python3"
  },
  "language_info": {
   "codemirror_mode": {
    "name": "ipython",
    "version": 3
   },
   "file_extension": ".py",
   "mimetype": "text/x-python",
   "name": "python",
   "nbconvert_exporter": "python",
   "pygments_lexer": "ipython3",
   "version": "3.7.1"
  },
  "toc": {
   "base_numbering": 1,
   "nav_menu": {},
   "number_sections": true,
   "sideBar": true,
   "skip_h1_title": false,
   "title_cell": "Table of Contents",
   "title_sidebar": "Contents",
   "toc_cell": false,
   "toc_position": {},
   "toc_section_display": true,
   "toc_window_display": false
  },
  "varInspector": {
   "cols": {
    "lenName": "50",
    "lenType": 16,
    "lenVar": 40
   },
   "kernels_config": {
    "python": {
     "delete_cmd_postfix": "",
     "delete_cmd_prefix": "del ",
     "library": "var_list.py",
     "varRefreshCmd": "print(var_dic_list())"
    },
    "r": {
     "delete_cmd_postfix": ") ",
     "delete_cmd_prefix": "rm(",
     "library": "var_list.r",
     "varRefreshCmd": "cat(var_dic_list()) "
    }
   },
   "position": {
    "height": "540px",
    "left": "1108px",
    "right": "20px",
    "top": "120px",
    "width": "246px"
   },
   "types_to_exclude": [
    "module",
    "function",
    "builtin_function_or_method",
    "instance",
    "_Feature"
   ],
   "window_display": false
  }
 },
 "nbformat": 4,
 "nbformat_minor": 2
}
