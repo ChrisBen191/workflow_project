{
 "cells": [
  {
   "cell_type": "markdown",
   "metadata": {},
   "source": [
    "# Setup\n",
    "**This analysis includes all projects for the 2019 Season (includes projects marked as \"Dead\")**"
   ]
  },
  {
   "cell_type": "markdown",
   "metadata": {},
   "source": [
    "## Dependencies"
   ]
  },
  {
   "cell_type": "code",
   "execution_count": 1,
   "metadata": {},
   "outputs": [],
   "source": [
    "import pandas as pd\n",
    "from datetime import datetime"
   ]
  },
  {
   "cell_type": "markdown",
   "metadata": {},
   "source": [
    "## Import Data"
   ]
  },
  {
   "cell_type": "code",
   "execution_count": 24,
   "metadata": {},
   "outputs": [],
   "source": [
    "# imports the '[TVA] Workflow Analysis' data\n",
    "all_project_data = \"./data/workflow_analysis.csv\"\n",
    "\n",
    "# imports the '[TVA] Project Workflow Analysis' data\n",
    "all_production_data = \"./data/project_workflow_analysis.csv\"\n",
    "\n",
    "# imports '[TVA] Project Info Analysis' data\n",
    "info_data = \"./data/info_table.csv\"\n",
    "\n",
    "# imports '[TVA] FTA Scope Analysis' data\n",
    "rejection_data = \"./data/rejection_table.csv\""
   ]
  },
  {
   "cell_type": "markdown",
   "metadata": {},
   "source": [
    "# Parsing Data"
   ]
  },
  {
   "cell_type": "markdown",
   "metadata": {
    "heading_collapsed": true
   },
   "source": [
    "## Workflow Analysis\n",
    "**Includes projects marked as 'Dead'**"
   ]
  },
  {
   "cell_type": "code",
   "execution_count": 26,
   "metadata": {
    "hidden": true
   },
   "outputs": [
    {
     "name": "stdout",
     "output_type": "stream",
     "text": [
      "<class 'pandas.core.frame.DataFrame'>\n",
      "RangeIndex: 2257 entries, 0 to 2256\n",
      "Data columns (total 13 columns):\n",
      "Claim #                      2246 non-null object\n",
      "Job #                        972 non-null object\n",
      "Branch                       2256 non-null object\n",
      "Claim Status                 113 non-null object\n",
      "Claim # Date                 2257 non-null datetime64[ns]\n",
      "FTA Scope. Req Date          2257 non-null datetime64[ns]\n",
      "Submit for Estimate Date     1818 non-null datetime64[ns]\n",
      "[B] Created Estimate Date    1798 non-null datetime64[ns]\n",
      "[OB] Created Scope Calc      1658 non-null datetime64[ns]\n",
      "Job Submittal Date           1066 non-null datetime64[ns]\n",
      "[B] - Date Approved by BC    972 non-null datetime64[ns]\n",
      "[OB] Completed               912 non-null datetime64[ns]\n",
      "COC Rcvd Date [A]            513 non-null datetime64[ns]\n",
      "dtypes: datetime64[ns](9), object(4)\n",
      "memory usage: 229.3+ KB\n"
     ]
    }
   ],
   "source": [
    "project_df = pd.read_csv(\n",
    "    all_project_data, dtype={\n",
    "        'Claim #':str,\n",
    "        'Job #':str,\n",
    "        'Branch':str,\n",
    "        'Claim Status':str},\n",
    "    parse_dates=[\n",
    "        'Claim # Date',\n",
    "        'FTA Scope. Req Date',\n",
    "        'Submit for Estimate Date',\n",
    "        '[OB] Created Scope Calc',\n",
    "        '[B] Created Estimate Date',\n",
    "        'Job Submittal Date',\n",
    "        '[B] - Date Approved by BC',\n",
    "        '[OB] Completed',\n",
    "        'COC Rcvd Date [A]'],\n",
    ")\n",
    "\n",
    "# having trouble recognizing 'coc' date as 'datetime', manually converted the dtype.\n",
    "project_df['COC Rcvd Date [A]'] = pd.to_datetime(project_df['COC Rcvd Date [A]'], errors='coerce')\n",
    "\n",
    "project_df.info()"
   ]
  },
  {
   "cell_type": "markdown",
   "metadata": {
    "heading_collapsed": true
   },
   "source": [
    "## Project Workflow Analysis\n",
    "\n",
    "**Projects that have been submitted to production (OB Orderbuilt)**"
   ]
  },
  {
   "cell_type": "code",
   "execution_count": 25,
   "metadata": {
    "hidden": true
   },
   "outputs": [
    {
     "name": "stdout",
     "output_type": "stream",
     "text": [
      "<class 'pandas.core.frame.DataFrame'>\n",
      "RangeIndex: 912 entries, 0 to 911\n",
      "Data columns (total 14 columns):\n",
      "Job #                    912 non-null object\n",
      "Permit Applied [A]       501 non-null datetime64[ns]\n",
      "Order Date               755 non-null datetime64[ns]\n",
      "Permit Received          449 non-null datetime64[ns]\n",
      "OA Date                  706 non-null datetime64[ns]\n",
      "Invoice Date             638 non-null datetime64[ns]\n",
      "Ntfd H.O. Dlvry          730 non-null datetime64[ns]\n",
      "Dlvry Start              743 non-null datetime64[ns]\n",
      "Ntfd H.O. Start          606 non-null datetime64[ns]\n",
      "Roof Start               741 non-null datetime64[ns]\n",
      "Roof Complete Date       741 non-null datetime64[ns]\n",
      "R4F                      558 non-null datetime64[ns]\n",
      "Requested Final Insp     212 non-null datetime64[ns]\n",
      "Final Inspection Date    129 non-null datetime64[ns]\n",
      "dtypes: datetime64[ns](13), object(1)\n",
      "memory usage: 99.8+ KB\n"
     ]
    }
   ],
   "source": [
    "production_df = pd.read_csv(\n",
    "    all_production_data, dtype={\n",
    "        'Job #':str,\n",
    "        'Supplier Name':str,\n",
    "        'Building Department':str},\n",
    "    parse_dates=[\n",
    "        'Permit Applied [A]',\n",
    "        'Order Date',\n",
    "        'Permit Received',\n",
    "        'OA Date',\n",
    "        'Invoice Date',\n",
    "        'Ntfd H.O. Dlvry',\n",
    "        'Dlvry Start',\n",
    "        'Ntfd H.O. Start',\n",
    "        'Roof Start',\n",
    "        'Roof Complete Date',\n",
    "        'R4F',\n",
    "        'Requested Final Insp',\n",
    "        'Final Inspection Date',\n",
    "    ]\n",
    ")\n",
    "\n",
    "# the data I would like to move over to the 'info' df\n",
    "moving_data_df = production_df[['Job #','Supplier Name', 'Building Department']]\n",
    "\n",
    "# removing the data I will be moving over to the 'info' df from the 'production' df\n",
    "del production_df['Supplier Name'], production_df['Building Department']\n",
    "\n",
    "production_df.info()"
   ]
  },
  {
   "cell_type": "markdown",
   "metadata": {
    "heading_collapsed": true
   },
   "source": [
    "## FTA Scope Analysis\n",
    "**Includes projects marked as 'Dead'**"
   ]
  },
  {
   "cell_type": "code",
   "execution_count": 29,
   "metadata": {
    "hidden": true
   },
   "outputs": [],
   "source": [
    "rejection_info_df = pd.read_csv(\n",
    "    rejection_data,dtype={\n",
    "        'Claim #': str, \n",
    "        'Job #': str},\n",
    "    parse_dates=['Created'])\n",
    "\n",
    "# rejection_info_df.head()"
   ]
  },
  {
   "cell_type": "markdown",
   "metadata": {
    "heading_collapsed": true,
    "hidden": true
   },
   "source": [
    "### Latest Rejection\n",
    "**Determine the most recent rejection for any project**"
   ]
  },
  {
   "cell_type": "code",
   "execution_count": 31,
   "metadata": {
    "hidden": true
   },
   "outputs": [],
   "source": [
    "# 'idmax()' of the 'Created' column provides the most current rejection date\n",
    "reject_df = rejection_info_df.loc[rejection_info_df.groupby('Claim #')['Created'].idxmax()]\n",
    "\n",
    "# renaming the 'created' column for clarity\n",
    "reject_df = reject_df.rename(columns={\"Created\": \"Scope Rejection Date\"})\n",
    "\n",
    "# reject_df.head()"
   ]
  },
  {
   "cell_type": "markdown",
   "metadata": {
    "heading_collapsed": true,
    "hidden": true
   },
   "source": [
    "###  Multi-Rejection Counts\n",
    "**Determine the amount of rejections for each project and if it was rejected more than once**"
   ]
  },
  {
   "cell_type": "code",
   "execution_count": 33,
   "metadata": {
    "hidden": true
   },
   "outputs": [],
   "source": [
    "# creating a 'df' to count how many times a job was rejected\n",
    "rejection_count_df = (rejection_info_df.groupby(\"Claim #\").count())\n",
    "\n",
    "# # resets the 'claim #' from being the index\n",
    "rejection_count_df.reset_index(inplace=True)\n",
    "\n",
    "# created a list to collect the boolean response to multi-rejection count\n",
    "multi_reject_list = []\n",
    "\n",
    "# iterates over 'Created' to determine if it has been multi-rejected\n",
    "for index, row in rejection_count_df.iterrows():\n",
    "\n",
    "    if row['Created'] <= 1:\n",
    "        multi_reject = False\n",
    "        multi_reject_list.append(multi_reject)\n",
    "\n",
    "    else:\n",
    "        multi_reject = True\n",
    "        multi_reject_list.append(multi_reject)\n",
    "\n",
    "# adding the 'boolean' list to the 'improvements' df\n",
    "rejection_count_df[\"Multi-rejected\"] = multi_reject_list\n",
    "\n",
    "# renaming the 'created' column for clarity\n",
    "rejection_count_df = rejection_count_df.rename(columns={\"Created\": \"Scope Rejections\"})\n",
    "\n",
    "# rejection_count_df.head()"
   ]
  },
  {
   "cell_type": "markdown",
   "metadata": {},
   "source": [
    "## Project Info Analysis\n",
    "**Includes projects marked as 'Dead'**"
   ]
  },
  {
   "cell_type": "code",
   "execution_count": 36,
   "metadata": {},
   "outputs": [],
   "source": [
    "info_df = pd.read_csv(info_data, dtype={'Job #':str})\n",
    "\n",
    "info_df = info_df.rename(columns={\n",
    "    'Sup Name': 'Sup',\n",
    "    'Rep Name': 'Rep',\n",
    "    '[BC] Name': 'BC',\n",
    "    'Full Name': 'OB',\n",
    "    'Full Name.1': 'FTA',\n",
    "    'Full Name.2': 'GM'\n",
    "})\n",
    "\n",
    "# merging the info from the 'production' df more applicable to the 'info' df \n",
    "# as well as the 'rejection_count' df information\n",
    "info_df = info_df.merge(moving_data_df, how='left', on='Job #').merge(rejection_count_df, how='left', on='Claim #')\n",
    "\n",
    "# info_df.head()"
   ]
  },
  {
   "cell_type": "markdown",
   "metadata": {},
   "source": [
    "# Merge Data"
   ]
  },
  {
   "cell_type": "markdown",
   "metadata": {
    "heading_collapsed": true
   },
   "source": [
    "## Merge Project, Production, Rejection, and Rejection Count dfs\n",
    "**Merging dfs on the shared 'Claim #' Column ('Job # for 'production_df')**"
   ]
  },
  {
   "cell_type": "code",
   "execution_count": 64,
   "metadata": {
    "hidden": true
   },
   "outputs": [],
   "source": [
    "# Merged the 'project df' merged with 'latest rejection date' merged with \n",
    "# rejection count and 'multi-rejection' boolean merged with 'production df' \n",
    "merged_df = project_df.merge(reject_df, how='left', on='Claim #').merge(production_df, how='left', on='Job #')\n",
    "\n",
    "# merged_df.columns"
   ]
  },
  {
   "cell_type": "markdown",
   "metadata": {
    "heading_collapsed": true
   },
   "source": [
    "## Renaming Merged Data"
   ]
  },
  {
   "cell_type": "code",
   "execution_count": 66,
   "metadata": {
    "hidden": true
   },
   "outputs": [],
   "source": [
    "# renaming the columnns to be able to read easier\n",
    "all_project_df = merged_df.rename(columns={\n",
    "    'FTA Scope. Req Date': 'Rep Claim Collected',\n",
    "    'Scope Rejection Date': 'FTA Scope Rejected',\n",
    "    'Submit for Estimate Date': 'FTA Scope Completed',\n",
    "    '[B] Created Estimate Date':'BC Estimate Completed',\n",
    "    '[OB] Created Scope Calc': 'OB Scope Completed',\n",
    "    'Job Submittal Date': 'Sup Job Submitted',\n",
    "    '[B] - Date Approved by BC': 'BC Approved for Production',\n",
    "    '[OB] Completed': 'OB Order Built',\n",
    "    'Permit Applied [A]': 'PA Permit Applied',\n",
    "    'Order Date': 'GM Order Processed',\n",
    "    'Permit Received': 'PA Permit Processed',\n",
    "    'OA Date': 'PA OA Processed',\n",
    "    'Invoice Date':'PA OA Invoiced',\n",
    "    'Ntfd H.O. Dlvry': 'PA Notify of Delivery',\n",
    "    'Dlvry Start': 'Delivery Date',\n",
    "    'Ntfd H.O. Start': 'PA Notify of Start',\n",
    "    'Roof Complete Date': 'Roof End',\n",
    "    'R4F': 'GM Approved for Inspection',\n",
    "    'Requested Final Insp': 'PA Inspection Requested',\n",
    "    'Final Inspection Date': 'PA Inspection Processed',\n",
    "    'COC Rcvd Date [A]': 'SA COC Processed'\n",
    "})\n",
    "\n",
    "# all_project_df.columns"
   ]
  },
  {
   "cell_type": "markdown",
   "metadata": {
    "heading_collapsed": true
   },
   "source": [
    "## Organizing Merged Data to follow Workflow\n",
    "**Datestamps order is for asthetics only, coding preforms implicit date diffs**"
   ]
  },
  {
   "cell_type": "code",
   "execution_count": 67,
   "metadata": {
    "hidden": true
   },
   "outputs": [],
   "source": [
    "all_project_df = all_project_df[[\n",
    "    'Claim #',\n",
    "    'Job #',\n",
    "    'Branch',\n",
    "    'Claim Status',\n",
    "    'Claim # Date',\n",
    "    'Rep Claim Collected',\n",
    "    'FTA Scope Completed',\n",
    "    'FTA Scope Rejected',\n",
    "    'BC Estimate Completed',\n",
    "    'OB Scope Completed',\n",
    "    'Sup Job Submitted',\n",
    "    'BC Approved for Production',\n",
    "    'OB Order Built',\n",
    "    'GM Order Processed',\n",
    "    'PA Permit Applied',\n",
    "    'PA Permit Processed',\n",
    "    'PA OA Processed',\n",
    "    'PA OA Invoiced',\n",
    "    'PA Notify of Delivery',\n",
    "    'PA Notify of Start',\n",
    "    'Delivery Date',\n",
    "    'Roof Start',\n",
    "    'Roof End',\n",
    "    'GM Approved for Inspection',\n",
    "    'PA Inspection Requested',\n",
    "    'PA Inspection Processed', \n",
    "    'SA COC Processed'\n",
    "]]\n",
    "\n",
    "# all_project_df.columns"
   ]
  },
  {
   "cell_type": "markdown",
   "metadata": {},
   "source": [
    "# Comparing Data"
   ]
  },
  {
   "cell_type": "markdown",
   "metadata": {
    "heading_collapsed": true
   },
   "source": [
    "## Gathering Date Differences\n",
    "**Finding any 'Submit for Estimate' and 'Rejection Date' Subsitutions**"
   ]
  },
  {
   "cell_type": "code",
   "execution_count": 68,
   "metadata": {
    "hidden": true
   },
   "outputs": [],
   "source": [
    "# will store this project info\n",
    "claim_num = []\n",
    "branch_list = []\n",
    "claim_status_list = []\n",
    "\n",
    "# will store these date diffs\n",
    "rep_claim_diff = []\n",
    "fta_scope_diff = []\n",
    "ob_scope_diff = []\n",
    "bc_estimate_diff = []\n",
    "sup_pfynr_diff = []\n",
    "bc_approval_diff = []\n",
    "ob_order_build_diff = []\n",
    "gm_create_order_diff = []\n",
    "pa_oa_processed_diff = []\n",
    "pa_invoice_diff = []\n",
    "gm_approval_diff = []\n",
    "pa_request_inspection_diff = []\n",
    "sa_processed_coc_diff = []\n",
    "\n",
    "\n",
    "# this data applies to leadtimes, not workflow\n",
    "pa_permit_applied_diff = []\n",
    "pa_permit_processed_diff = []\n",
    "pa_notify_delivery_diff = []\n",
    "pa_notify_start_diff = []\n",
    "\n",
    "\n",
    "# iterating over the df to create 'date diff' variables\n",
    "for index, row in all_project_df.iterrows():\n",
    "\n",
    "    # creating 'date_diff' variables for each step in the workflow\n",
    "    rep_claim_date_diff = float((row['Rep Claim Collected'] - row['Claim # Date']).days)\n",
    "\n",
    "    # if the record has NOT had the FTA Scope Rejected...\n",
    "    if row['FTA Scope Rejected'] == 'NaT':\n",
    "\n",
    "        # if the bc estimate was created prior to July 16th...\n",
    "        if row['BC Estimate Completed'] <= datetime(2019, 7, 15):\n",
    "\n",
    "            # then compare the 'bc estimate' date to the 'ob scope calc' date\n",
    "            # as well as 'ob scope' date to 'fta scope' date\n",
    "            fta_date_diff = (row['FTA Scope Completed'] - row['Rep Claim Collected']).days\n",
    "            ob_scope_date_diff = (row['OB Scope Completed'] - row['FTA Scope Completed']).days\n",
    "            bc_estimate_date_diff = (row['BC Estimate Completed'] - row['OB Scope Completed']).days\n",
    "            sup_pfynr_date_diff = (row['Sup Job Submitted'] - row['BC Estimate Completed']).days\n",
    "\n",
    "        # if the record was addressed during the 'blip'...\n",
    "        elif row['BC Estimate Completed'] == datetime(2019, 7, 16) or row['BC Estimate Completed'] == datetime(2019, 7, 17):\n",
    "\n",
    "            # then compare the 'bc estimate' to the 'blip' date, and the 'ob scope' date to the new 'bc date'\n",
    "            fta_date_diff = (row['FTA Scope Completed'] - row['Rep Claim Collected']).days\n",
    "            bc_estimate_date_diff = (row['BC Estimate Completed'] - datetime(2019, 7, 15)).days\n",
    "            ob_scope_date_diff = (row['OB Scope Completed'] - row['BC Estimate Completed']).days\n",
    "            sup_pfynr_date_diff = (row['Sup Job Submitted'] - row['OB Scope Completed']).days\n",
    "\n",
    "        # if the bc estimate was created after the 'blip' on July 16th...\n",
    "        else:\n",
    "\n",
    "            # then use the new workflow dates to compare the date diffs\n",
    "            fta_date_diff = (row['FTA Scope Completed'] - row['Rep Claim Collected']).days\n",
    "            bc_estimate_date_diff = (row['BC Estimate Completed'] - row['FTA Scope Completed']).days\n",
    "            ob_scope_date_diff = (row['OB Scope Completed'] - row['BC Estimate Completed']).days\n",
    "            sup_pfynr_date_diff = (row['Sup Job Submitted'] - row['OB Scope Completed']).days\n",
    "\n",
    "    # if the record HAS has the FTA Scope Rejected...\n",
    "    else:\n",
    "\n",
    "        # and was rejected prior to the 'blip'...\n",
    "        if row['BC Estimate Completed'] <= datetime(2019, 7, 15):\n",
    "\n",
    "            # use 'rejected' date and clarify sup date diffs\n",
    "            fta_date_diff = (row['FTA Scope Rejected'] - row['Rep Claim Collected']).days\n",
    "            bc_estimate_date_diff = (row['BC Estimate Completed'] - row['FTA Scope Completed']).days\n",
    "            ob_scope_date_diff = (row['OB Scope Completed'] - row['FTA Scope Rejected']).days\n",
    "            sup_pfynr_date_diff = (row['Sup Job Submitted'] - row['BC Estimate Completed']).days\n",
    "\n",
    "        # if rejected after the 'blip'...\n",
    "        else:\n",
    "\n",
    "            # use 'rejected' date and clarify sup date diffs\n",
    "            fta_date_diff = (row['FTA Scope Rejected'] - row['Rep Claim Collected']).days\n",
    "            bc_estimate_date_diff = (row['BC Estimate Completed'] - row['FTA Scope Completed']).days\n",
    "            ob_scope_date_diff = (row['OB Scope Completed'] - row['FTA Scope Rejected']).days\n",
    "            sup_pfynr_date_diff = (row['Sup Job Submitted'] - row['OB Scope Completed']).days\n",
    "\n",
    "    bc_approval_date_diff = (row['BC Approved for Production'] - row['Sup Job Submitted']).days\n",
    "    ob_orderbuild_date_diff = (row['OB Order Built'] - row['BC Approved for Production']).days\n",
    "    gm_create_order_date_diff = (row['GM Order Processed'] - row['OB Order Built']).days\n",
    "    pa_oa_processed_date_diff = (row['PA OA Processed'] - row['GM Order Processed']).days\n",
    "    pa_invoice_date_diff = (row['PA OA Invoiced'] - row['PA OA Processed']).days\n",
    "    gm_approval_date_diff = (row['GM Approved for Inspection'] - row['Roof End']).days\n",
    "    pa_requested_inspection_date_diff = (row['PA Inspection Requested'] - row['GM Approved for Inspection']).days\n",
    "    sa_processed_coc_date_diff = (row['SA COC Processed'] - row['Roof End']).days\n",
    "\n",
    "    # these provide the lead times of tasks not directly impacting the workflow.\n",
    "    pa_permit_applied_date_diff = (row['PA Permit Applied'] - row['BC Approved for Production']).days\n",
    "    pa_permit_processed_date_diff = (row['PA Permit Processed'] - row['PA Permit Applied']).days\n",
    "    pa_notify_delivery_date_diff = (row['Delivery Date'] - row['PA Notify of Delivery']).days\n",
    "    pa_notify_start_date_diff = (row['Roof Start'] - row['PA Notify of Start']).days\n",
    "\n",
    "    # appending 'date diff' values to lists to create each df column\n",
    "    claim_num.append(row[\"Claim #\"])\n",
    "    branch_list.append(row['Branch'])\n",
    "    claim_status_list.append(row['Claim Status'])\n",
    "    rep_claim_diff.append(rep_claim_date_diff)\n",
    "    fta_scope_diff.append(fta_date_diff)\n",
    "    ob_scope_diff.append(ob_scope_date_diff)\n",
    "    bc_estimate_diff.append(bc_estimate_date_diff)\n",
    "    sup_pfynr_diff.append(sup_pfynr_date_diff)\n",
    "    bc_approval_diff.append(bc_approval_date_diff)\n",
    "    ob_order_build_diff.append(ob_orderbuild_date_diff)\n",
    "    gm_create_order_diff.append(gm_create_order_date_diff)\n",
    "    pa_oa_processed_diff.append(pa_oa_processed_date_diff)\n",
    "    pa_invoice_diff.append(pa_invoice_date_diff)\n",
    "    gm_approval_diff.append(gm_approval_date_diff)\n",
    "    pa_request_inspection_diff.append(pa_requested_inspection_date_diff)\n",
    "    sa_processed_coc_diff.append(sa_processed_coc_date_diff)\n",
    "    \n",
    "    # this data applies to leadtimes, not workflow\n",
    "    pa_permit_applied_diff.append(pa_permit_applied_date_diff)\n",
    "    pa_permit_processed_diff.append(pa_permit_processed_date_diff)\n",
    "    pa_notify_delivery_diff.append(pa_notify_delivery_date_diff)\n",
    "    pa_notify_start_diff.append(pa_notify_start_date_diff)"
   ]
  },
  {
   "cell_type": "markdown",
   "metadata": {},
   "source": [
    "## Creating 'Workflow Days' df\n",
    "**The days between each Teammate step in the workflow (excluding some production processes)**"
   ]
  },
  {
   "cell_type": "code",
   "execution_count": 72,
   "metadata": {},
   "outputs": [
    {
     "data": {
      "text/html": [
       "<div>\n",
       "<style scoped>\n",
       "    .dataframe tbody tr th:only-of-type {\n",
       "        vertical-align: middle;\n",
       "    }\n",
       "\n",
       "    .dataframe tbody tr th {\n",
       "        vertical-align: top;\n",
       "    }\n",
       "\n",
       "    .dataframe thead th {\n",
       "        text-align: right;\n",
       "    }\n",
       "</style>\n",
       "<table border=\"1\" class=\"dataframe\">\n",
       "  <thead>\n",
       "    <tr style=\"text-align: right;\">\n",
       "      <th></th>\n",
       "      <th>Claim #</th>\n",
       "      <th>Rep Collecting Claim</th>\n",
       "      <th>FTA Completing Scope</th>\n",
       "      <th>BC Completing Estimate</th>\n",
       "      <th>OB Completing Scope</th>\n",
       "      <th>Sup Submitting Job</th>\n",
       "      <th>BC Approving Job</th>\n",
       "      <th>OB Building Order</th>\n",
       "      <th>GM Processing Order</th>\n",
       "      <th>PA Processing OA</th>\n",
       "      <th>PA Invoicing OA</th>\n",
       "      <th>GM Approving for Inspection</th>\n",
       "      <th>PA Requesting Inspection</th>\n",
       "      <th>SA Processing COC</th>\n",
       "      <th>Days in Pipeline</th>\n",
       "    </tr>\n",
       "  </thead>\n",
       "  <tbody>\n",
       "    <tr>\n",
       "      <th>0</th>\n",
       "      <td>40048935</td>\n",
       "      <td>0.0</td>\n",
       "      <td>NaN</td>\n",
       "      <td>3.0</td>\n",
       "      <td>NaN</td>\n",
       "      <td>6.0</td>\n",
       "      <td>4.0</td>\n",
       "      <td>0.0</td>\n",
       "      <td>14.0</td>\n",
       "      <td>3.0</td>\n",
       "      <td>1.0</td>\n",
       "      <td>0.0</td>\n",
       "      <td>NaN</td>\n",
       "      <td>6.0</td>\n",
       "      <td>37.0</td>\n",
       "    </tr>\n",
       "    <tr>\n",
       "      <th>1</th>\n",
       "      <td>jdi33101</td>\n",
       "      <td>0.0</td>\n",
       "      <td>12.0</td>\n",
       "      <td>9.0</td>\n",
       "      <td>0.0</td>\n",
       "      <td>22.0</td>\n",
       "      <td>4.0</td>\n",
       "      <td>7.0</td>\n",
       "      <td>0.0</td>\n",
       "      <td>1.0</td>\n",
       "      <td>NaN</td>\n",
       "      <td>NaN</td>\n",
       "      <td>NaN</td>\n",
       "      <td>0.0</td>\n",
       "      <td>55.0</td>\n",
       "    </tr>\n",
       "    <tr>\n",
       "      <th>2</th>\n",
       "      <td>40044962</td>\n",
       "      <td>4.0</td>\n",
       "      <td>NaN</td>\n",
       "      <td>6.0</td>\n",
       "      <td>NaN</td>\n",
       "      <td>8.0</td>\n",
       "      <td>7.0</td>\n",
       "      <td>0.0</td>\n",
       "      <td>5.0</td>\n",
       "      <td>3.0</td>\n",
       "      <td>10.0</td>\n",
       "      <td>0.0</td>\n",
       "      <td>6.0</td>\n",
       "      <td>8.0</td>\n",
       "      <td>57.0</td>\n",
       "    </tr>\n",
       "    <tr>\n",
       "      <th>3</th>\n",
       "      <td>065123G57</td>\n",
       "      <td>0.0</td>\n",
       "      <td>NaN</td>\n",
       "      <td>5.0</td>\n",
       "      <td>NaN</td>\n",
       "      <td>15.0</td>\n",
       "      <td>1.0</td>\n",
       "      <td>5.0</td>\n",
       "      <td>20.0</td>\n",
       "      <td>0.0</td>\n",
       "      <td>6.0</td>\n",
       "      <td>NaN</td>\n",
       "      <td>NaN</td>\n",
       "      <td>2.0</td>\n",
       "      <td>54.0</td>\n",
       "    </tr>\n",
       "    <tr>\n",
       "      <th>4</th>\n",
       "      <td>068603B59</td>\n",
       "      <td>10.0</td>\n",
       "      <td>7.0</td>\n",
       "      <td>3.0</td>\n",
       "      <td>1.0</td>\n",
       "      <td>42.0</td>\n",
       "      <td>3.0</td>\n",
       "      <td>1.0</td>\n",
       "      <td>1.0</td>\n",
       "      <td>0.0</td>\n",
       "      <td>8.0</td>\n",
       "      <td>NaN</td>\n",
       "      <td>NaN</td>\n",
       "      <td>3.0</td>\n",
       "      <td>79.0</td>\n",
       "    </tr>\n",
       "  </tbody>\n",
       "</table>\n",
       "</div>"
      ],
      "text/plain": [
       "     Claim #  Rep Collecting Claim  FTA Completing Scope  \\\n",
       "0   40048935                   0.0                   NaN   \n",
       "1   jdi33101                   0.0                  12.0   \n",
       "2   40044962                   4.0                   NaN   \n",
       "3  065123G57                   0.0                   NaN   \n",
       "4  068603B59                  10.0                   7.0   \n",
       "\n",
       "   BC Completing Estimate  OB Completing Scope  Sup Submitting Job  \\\n",
       "0                     3.0                  NaN                 6.0   \n",
       "1                     9.0                  0.0                22.0   \n",
       "2                     6.0                  NaN                 8.0   \n",
       "3                     5.0                  NaN                15.0   \n",
       "4                     3.0                  1.0                42.0   \n",
       "\n",
       "   BC Approving Job  OB Building Order  GM Processing Order  PA Processing OA  \\\n",
       "0               4.0                0.0                 14.0               3.0   \n",
       "1               4.0                7.0                  0.0               1.0   \n",
       "2               7.0                0.0                  5.0               3.0   \n",
       "3               1.0                5.0                 20.0               0.0   \n",
       "4               3.0                1.0                  1.0               0.0   \n",
       "\n",
       "   PA Invoicing OA  GM Approving for Inspection  PA Requesting Inspection  \\\n",
       "0              1.0                          0.0                       NaN   \n",
       "1              NaN                          NaN                       NaN   \n",
       "2             10.0                          0.0                       6.0   \n",
       "3              6.0                          NaN                       NaN   \n",
       "4              8.0                          NaN                       NaN   \n",
       "\n",
       "   SA Processing COC  Days in Pipeline  \n",
       "0                6.0              37.0  \n",
       "1                0.0              55.0  \n",
       "2                8.0              57.0  \n",
       "3                2.0              54.0  \n",
       "4                3.0              79.0  "
      ]
     },
     "execution_count": 72,
     "metadata": {},
     "output_type": "execute_result"
    }
   ],
   "source": [
    "# creating the 'days_df' to hold all date values for each role in the project\n",
    "days_df = pd.DataFrame({\n",
    "    \"Claim #\": claim_num,\n",
    "    \"Rep Collecting Claim\": rep_claim_diff,\n",
    "    \"FTA Completing Scope\": fta_scope_diff,\n",
    "    \"BC Completing Estimate\": bc_estimate_diff,\n",
    "    \"OB Completing Scope\": ob_scope_diff,\n",
    "    \"Sup Submitting Job\": sup_pfynr_diff,\n",
    "    \"BC Approving Job\": bc_approval_diff,\n",
    "    \"OB Building Order\": ob_order_build_diff,\n",
    "    \"GM Processing Order\": gm_create_order_diff,\n",
    "    \"PA Processing OA\": pa_oa_processed_diff,\n",
    "    \"PA Invoicing OA\": pa_invoice_diff,\n",
    "    'GM Approving for Inspection': gm_approval_diff,\n",
    "    'PA Requesting Inspection': pa_request_inspection_diff,\n",
    "    'SA Processing COC': sa_processed_coc_diff,\n",
    "    \n",
    "})\n",
    "\n",
    "# creating a column holding the running tally across a row (project)\n",
    "# can be done because not including 'date diffs' on non-workflow items\n",
    "days_df['Days in Pipeline'] = days_df.sum(axis=1)\n",
    "\n",
    "days_df.head()"
   ]
  },
  {
   "cell_type": "markdown",
   "metadata": {},
   "source": [
    "# Export Data"
   ]
  },
  {
   "cell_type": "code",
   "execution_count": 73,
   "metadata": {},
   "outputs": [],
   "source": [
    "all_project_df.to_csv(\"data/cleaned_data/project_table.csv\", index=False)\n",
    "\n",
    "days_df.to_csv(\"data/cleaned_data/workflow_table.csv\", index=False)\n",
    "\n",
    "info_df.to_csv(\"data/cleaned_data/project_info_table.csv\", index=False)"
   ]
  },
  {
   "cell_type": "code",
   "execution_count": null,
   "metadata": {},
   "outputs": [],
   "source": []
  }
 ],
 "metadata": {
  "kernelspec": {
   "display_name": "Python 3",
   "language": "python",
   "name": "python3"
  },
  "language_info": {
   "codemirror_mode": {
    "name": "ipython",
    "version": 3
   },
   "file_extension": ".py",
   "mimetype": "text/x-python",
   "name": "python",
   "nbconvert_exporter": "python",
   "pygments_lexer": "ipython3",
   "version": "3.7.1"
  },
  "toc": {
   "base_numbering": 1,
   "nav_menu": {},
   "number_sections": true,
   "sideBar": true,
   "skip_h1_title": false,
   "title_cell": "Table of Contents",
   "title_sidebar": "Contents",
   "toc_cell": false,
   "toc_position": {},
   "toc_section_display": true,
   "toc_window_display": false
  },
  "varInspector": {
   "cols": {
    "lenName": "50",
    "lenType": 16,
    "lenVar": 40
   },
   "kernels_config": {
    "python": {
     "delete_cmd_postfix": "",
     "delete_cmd_prefix": "del ",
     "library": "var_list.py",
     "varRefreshCmd": "print(var_dic_list())"
    },
    "r": {
     "delete_cmd_postfix": ") ",
     "delete_cmd_prefix": "rm(",
     "library": "var_list.r",
     "varRefreshCmd": "cat(var_dic_list()) "
    }
   },
   "position": {
    "height": "540px",
    "left": "1108px",
    "right": "20px",
    "top": "120px",
    "width": "246px"
   },
   "types_to_exclude": [
    "module",
    "function",
    "builtin_function_or_method",
    "instance",
    "_Feature"
   ],
   "window_display": false
  }
 },
 "nbformat": 4,
 "nbformat_minor": 2
}
