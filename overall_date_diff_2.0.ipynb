{
 "cells": [
  {
   "cell_type": "markdown",
   "metadata": {},
   "source": [
    "# Setup\n",
    "**This analysis includes all projects for the 2019 Season (includes projects marked as \"Dead\")**"
   ]
  },
  {
   "cell_type": "markdown",
   "metadata": {},
   "source": [
    "## Dependencies"
   ]
  },
  {
   "cell_type": "code",
   "execution_count": 26,
   "metadata": {},
   "outputs": [],
   "source": [
    "import pandas as pd\n",
    "from datetime import datetime"
   ]
  },
  {
   "cell_type": "markdown",
   "metadata": {},
   "source": [
    "## Import Data"
   ]
  },
  {
   "cell_type": "code",
   "execution_count": 27,
   "metadata": {},
   "outputs": [],
   "source": [
    "# imports the '[TVA] Q2 Workflow Analysis' data\n",
    "all_project_data = \"./data/all_projects.csv\"\n",
    "\n",
    "# imports the '[TVA] Orders Table Audit' data\n",
    "all_production_data = \"./data/all_production_projects.csv\"\n",
    "\n",
    "# imports '[W] ' data\n",
    "improvements_data = \"./data/improvement_table.csv\""
   ]
  },
  {
   "cell_type": "markdown",
   "metadata": {},
   "source": [
    "# Parsing Data"
   ]
  },
  {
   "cell_type": "markdown",
   "metadata": {},
   "source": [
    "## Project Data"
   ]
  },
  {
   "cell_type": "markdown",
   "metadata": {},
   "source": [
    "### All Q2 Projects\n",
    "\n",
    "**Includes projects marked as 'Dead'**"
   ]
  },
  {
   "cell_type": "code",
   "execution_count": 28,
   "metadata": {},
   "outputs": [],
   "source": [
    "project_df = pd.read_csv(\n",
    "    all_project_data, dtype={'Claim #': str,\n",
    "                             'Job #': str, 'Branch': str, 'Claim Status': str},\n",
    "    parse_dates=[\n",
    "        'Claim # Date',\n",
    "        'FTA Scope. Req Date',\n",
    "        'Submit for Estimate Date',\n",
    "        '[OB] Created Scope Calc',\n",
    "        '[B] Created Estimate Date',\n",
    "        'Job Submittal Date',\n",
    "        '[B] - Date Approved by BC',\n",
    "        '[OB] Completed']\n",
    ")"
   ]
  },
  {
   "cell_type": "markdown",
   "metadata": {},
   "source": [
    "### All Projects in Production\n",
    "\n",
    "**Includes projects that have completed notifying the HO of the 'Roof Start' Date**"
   ]
  },
  {
   "cell_type": "code",
   "execution_count": 29,
   "metadata": {},
   "outputs": [],
   "source": [
    "production_df = pd.read_csv(\n",
    "    all_production_data, dtype={'Claim #': str, 'Job #': str},\n",
    "    parse_dates=[\n",
    "        'Permit Applied [A]',\n",
    "        'Order Date',\n",
    "        'Permit Received',\n",
    "        'OA Date',\n",
    "        'Invoice Date',\n",
    "        'Ntfd H.O. Dlvry',\n",
    "        'Dlvry Start',\n",
    "        'Ntfd H.O. Start',\n",
    "        'Roof Start']\n",
    ")"
   ]
  },
  {
   "cell_type": "markdown",
   "metadata": {},
   "source": [
    "## Rejection Data"
   ]
  },
  {
   "cell_type": "markdown",
   "metadata": {},
   "source": [
    "### All Rejections\n",
    "\n",
    "**Includes projects marked as 'Dead'**"
   ]
  },
  {
   "cell_type": "code",
   "execution_count": 30,
   "metadata": {},
   "outputs": [],
   "source": [
    "# created 'improvements_df' to hold all dates of fta scope rejections to use correct date\n",
    "improvements_df = pd.read_csv(\n",
    "    improvements_data,\n",
    "    dtype={'Claim #': str, 'Job #': str},\n",
    "    parse_dates=['Created'])"
   ]
  },
  {
   "cell_type": "markdown",
   "metadata": {},
   "source": [
    "### Latest Rejection\n",
    "**Determine the most recent rejection for any project**"
   ]
  },
  {
   "cell_type": "code",
   "execution_count": 31,
   "metadata": {},
   "outputs": [],
   "source": [
    "# 'idmax()' of the 'Created' column provides the most current rejection date\n",
    "reject_date_df = improvements_df.loc[improvements_df.groupby('Claim #')[\n",
    "    'Created'].idxmax()]\n",
    "\n",
    "# renaming the 'created' column for clarity\n",
    "reject_date_df = reject_date_df.rename(columns={\"Created\": \"Scope Rejection Date\"})"
   ]
  },
  {
   "cell_type": "markdown",
   "metadata": {},
   "source": [
    "###  Multi-Rejection Counts\n",
    "**Determine the amount of rejections for each project and if it was rejected more than once**"
   ]
  },
  {
   "cell_type": "code",
   "execution_count": 32,
   "metadata": {},
   "outputs": [],
   "source": [
    "# creating a 'df' to count how many times a job was rejected\n",
    "improvement_count_df = (improvements_df.groupby(\"Claim #\").count())\n",
    "\n",
    "# resets the 'claim #' from being the index\n",
    "improvement_count_df.reset_index(inplace=True)\n",
    "\n",
    "# created a list to collect the boolean response to multi-rejection count\n",
    "multi_reject_list = []\n",
    "\n",
    "# iterates over 'Created' to determine if it has been multi-rejected\n",
    "for index, row in improvement_count_df.iterrows():\n",
    "\n",
    "    if row['Created'] <= 1:\n",
    "        multi_reject = False\n",
    "        multi_reject_list.append(multi_reject)\n",
    "\n",
    "    else:\n",
    "        multi_reject = True\n",
    "        multi_reject_list.append(multi_reject)\n",
    "\n",
    "# adding the 'boolean' list to the 'improvements' df\n",
    "improvement_count_df[\"Multi-rejected\"] = multi_reject_list\n",
    "\n",
    "# renaming the 'created' column for clarity\n",
    "improvement_count_df = improvement_count_df.rename(columns={\"Created\": \"Scope Rejections\"})"
   ]
  },
  {
   "cell_type": "markdown",
   "metadata": {},
   "source": [
    "# Merge Data"
   ]
  },
  {
   "cell_type": "markdown",
   "metadata": {},
   "source": [
    "## Merge 'Project', 'Rejection', 'Multi-Reject', and 'Production' dataframes\n",
    "**Merging dfs on the shared 'Claim #' Column ('Job # for 'production_df')**"
   ]
  },
  {
   "cell_type": "code",
   "execution_count": 33,
   "metadata": {},
   "outputs": [],
   "source": [
    "# Merged the 'project df' merged with 'latest rejection date' merged with \n",
    "# rejection count and 'multi-rejection' boolean merged with 'production df' \n",
    "merged_df = project_df.merge(reject_date_df, how='left', on='Claim #').merge(\n",
    "    improvement_count_df, how='left', on='Claim #').merge(production_df, how='left', on='Job #') \n"
   ]
  },
  {
   "cell_type": "markdown",
   "metadata": {},
   "source": [
    "## Cleanup Merged Data"
   ]
  },
  {
   "cell_type": "code",
   "execution_count": 34,
   "metadata": {},
   "outputs": [],
   "source": [
    "# all_project_df = final_merged_df[['Claim #', 'Job #', 'Branch_x', 'Scope Rejections', 'Claim Status', 'Claim # Date', 'FTA Scope. Req Date', 'Rejection Date', 'Submit for Estimate Date', '[B] Created Estimate Date', '[OB] Created Scope Calc',\n",
    "#                                   'Job Submittal Date', '[B] - Date Approved by BC', '[OB] Completed_x', 'Permit Applied [A]', 'Order Date', 'Permit Received', 'OA Date', 'Invoice Date', 'Ntfd H.O. Dlvry', 'Dlvry Start', 'Ntfd H.O. Start', 'Roof Start']]\n",
    "\n",
    "# renaming the columnns to be able to read easier\n",
    "all_project_df = merged_df.rename(columns={\n",
    "    'FTA Scope. Req Date': 'Claim # Collected',\n",
    "    'Rejection Date': 'FTA Scope Rejected',\n",
    "    'Submit for Estimate Date': 'FTA Scope Completed',\n",
    "    '[B] Created Estimate Date':'BC Estimate Completed',\n",
    "    '[OB] Created Scope Calc': 'OB Scope Completed',\n",
    "    'Job Submittal Date': 'Sup Submitted Job',\n",
    "    '[B] - Date Approved by BC': 'BC Approved',\n",
    "    '[OB] Completed': 'OB Order Built',\n",
    "    'Permit Applied [A]': 'PA Permit Applied',\n",
    "    'Order Date': 'GM Order Created',\n",
    "    'Permit Received': 'PA Permit Processed',\n",
    "    'OA Date': 'PA OA Processed',\n",
    "    'Invoice Date':'PA Invoice Created',\n",
    "    'Ntfd H.O. Dlvry': 'PA Notify of Delivery',\n",
    "    'Dlvry Start': 'Delivery Start',\n",
    "    'Ntfd H.O. Start': 'PA Notify of Start'\n",
    "})"
   ]
  },
  {
   "cell_type": "markdown",
   "metadata": {},
   "source": [
    "# Comparing Data"
   ]
  },
  {
   "cell_type": "markdown",
   "metadata": {},
   "source": [
    "## Gathering Date Differences\n",
    "**Finding any 'Submit for Estimate' and 'Rejection Date' Subsitutions**"
   ]
  },
  {
   "cell_type": "code",
   "execution_count": 35,
   "metadata": {},
   "outputs": [],
   "source": [
    "# list to store the 'date diffs' value for each step'\n",
    "claim_num = []\n",
    "rep_claim_diff = []\n",
    "fta_scope_diff = []\n",
    "ob_scope_diff = []\n",
    "bc_estimate_diff = []\n",
    "sup_pfynr_diff = []\n",
    "bc_approval_diff = []\n",
    "ob_order_build_diff = []\n",
    "gm_create_order_diff = []\n",
    "pa_oa_processed_diff = []\n",
    "pa_invoice_diff = []\n",
    "\n",
    "\n",
    "# these are being recorded, but don't necessarily apply to the project workflow.\n",
    "pa_permit_applied_diff = []\n",
    "pa_permit_processed_diff = []\n",
    "pa_notify_delivery_diff = []\n",
    "pa_notify_start_diff = []\n",
    "\n",
    "\n",
    "# iterating over the df to create 'date diff' variables\n",
    "for index, row in all_project_df.iterrows():\n",
    "\n",
    "    # creating 'date_diff' variables for each step in the workflow\n",
    "    rep_claim_date_diff = float(\n",
    "        (row['Claim # Collected'] - row['Claim # Date']).days)\n",
    "\n",
    "    # if the record has NOT had the FTA Scope Rejected...\n",
    "    if row['Scope Rejections'] != 0:\n",
    "\n",
    "        # if the bc estimate was created prior to July 16th...\n",
    "        if row['BC Estimate Completed'] <= datetime(2019, 7, 15):\n",
    "\n",
    "            # then compare the 'bc estimate' date to the 'ob scope calc' date\n",
    "            # as well as 'ob scope' date to 'fta scope' date\n",
    "            fta_date_diff = (row['FTA Scope Completed'] -\n",
    "                             row['Claim # Collected']).days\n",
    "            ob_scope_date_diff = (\n",
    "                row['OB Scope Completed'] - row['FTA Scope Completed']).days\n",
    "            bc_estimate_date_diff = (\n",
    "                row['BC Estimate Completed'] - row['OB Scope Completed']).days\n",
    "            sup_pfynr_date_diff = (\n",
    "                row['Sup Submitted Job'] - row['BC Estimate Completed']).days\n",
    "\n",
    "        # if the record was addressed during the 'blip'...\n",
    "        elif row['BC Estimate Completed'] == datetime(2019, 7, 16) or row['BC Estimate Completed'] == datetime(2019, 7, 17):\n",
    "\n",
    "            # then compare the 'bc estimate' to the 'blip' date, and the 'ob scope' date to the new 'bc date'\n",
    "            fta_date_diff = (row['FTA Scope Completed'] -\n",
    "                             row['Claim # Collected']).days\n",
    "            bc_estimate_date_diff = (\n",
    "                row['BC Estimate Completed'] - datetime(2019, 7, 15)).days\n",
    "            ob_scope_date_diff = (\n",
    "                row['OB Scope Completed'] - row['BC Estimate Completed']).days\n",
    "            sup_pfynr_date_diff = (\n",
    "                row['Sup Submitted Job'] - row['OB Scope Completed']).days\n",
    "\n",
    "        # if the bc estimate was created after the 'blip' on July 16th...\n",
    "        else:\n",
    "\n",
    "            # then use the new workflow dates to compare the date diffs\n",
    "            fta_date_diff = (row['FTA Scope Completed'] -\n",
    "                             row['Claim # Collected']).days\n",
    "            bc_estimate_date_diff = (\n",
    "                row['BC Estimate Completed'] - row['FTA Scope Completed']).days\n",
    "            ob_scope_date_diff = (\n",
    "                row['OB Scope Completed'] - row['BC Estimate Completed']).days\n",
    "            sup_pfynr_date_diff = (\n",
    "                row['Sup Submitted Job'] - row['OB Scope Completed']).days\n",
    "\n",
    "    # if the record HAS has the FTA Scope Rejected...\n",
    "    else:\n",
    "\n",
    "        # and was rejected prior to the 'blip'...\n",
    "        if row['BC Estimate Completed'] <= datetime(2019, 7, 15):\n",
    "\n",
    "            # use 'rejected' date and clarify sup date diffs\n",
    "            fta_date_diff = (row['FTA Scope Rejected'] -\n",
    "                             row['Claim # Collected']).days\n",
    "            bc_estimate_date_diff = (\n",
    "                row['BC Estimate Completed'] - row['FTA Scope Completed']).days\n",
    "            ob_scope_date_diff = (\n",
    "                row['OB Scope Completed'] - row['FTA Scope Rejected']).days\n",
    "            sup_pfynr_date_diff = (\n",
    "                row['Sup Submitted Job'] - row['BC Estimate Completed']).days\n",
    "\n",
    "        # if rejected after the 'blip'...\n",
    "        else:\n",
    "\n",
    "            # use 'rejected' date and clarify sup date diffs\n",
    "            fta_date_diff = (row['FTA Scope Rejected'] -\n",
    "                             row['Claim # Collected']).days\n",
    "            bc_estimate_date_diff = (\n",
    "                row['BC Estimate Completed'] - row['FTA Scope Completed']).days\n",
    "            ob_scope_date_diff = (\n",
    "                row['OB Scope Completed'] - row['FTA Scope Rejected']).days\n",
    "            sup_pfynr_date_diff = (\n",
    "                row['Sup Submitted Job'] - row['OB Scope Completed']).days\n",
    "\n",
    "    bc_approval_date_diff = (\n",
    "        row['BC Approved'] - row['Sup Submitted Job']).days\n",
    "    ob_orderbuild_date_diff = (row['OB Order Built'] - row['BC Approved']).days\n",
    "    gm_create_order_date_diff = (\n",
    "        row['GM Order Created'] - row['OB Order Built']).days\n",
    "    pa_oa_processed_date_diff = (\n",
    "        row['PA OA Processed'] - row['GM Order Created']).days\n",
    "    pa_invoice_date_diff = (\n",
    "        row['PA Invoice Created'] - row['PA OA Processed']).days\n",
    "\n",
    "    # these provide the lead times of tasks not directly impacting the workflow.\n",
    "    pa_permit_applied_date_diff = (\n",
    "        row['PA Permit Applied'] - row['BC Approved']).days\n",
    "\n",
    "    pa_permit_processed_date_diff = (\n",
    "        row['PA Permit Processed'] - row['PA Permit Applied']).days\n",
    "\n",
    "    pa_notify_delivery_date_diff = (\n",
    "        row['Delivery Start'] - row['PA Notify of Delivery']).days\n",
    "\n",
    "    pa_notify_start_date_diff = (\n",
    "        row['Roof Start'] - row['PA Notify of Start']).days\n",
    "\n",
    "    # appending 'date diff' values to lists to create each df column\n",
    "    claim_num.append(row[\"Claim #\"])\n",
    "    rep_claim_diff.append(rep_claim_date_diff)\n",
    "    fta_scope_diff.append(fta_date_diff)\n",
    "    ob_scope_diff.append(ob_scope_date_diff)\n",
    "    bc_estimate_diff.append(bc_estimate_date_diff)\n",
    "    sup_pfynr_diff.append(sup_pfynr_date_diff)\n",
    "    bc_approval_diff.append(bc_approval_date_diff)\n",
    "    ob_order_build_diff.append(ob_orderbuild_date_diff)\n",
    "    gm_create_order_diff.append(gm_create_order_date_diff)\n",
    "    pa_oa_processed_diff.append(pa_oa_processed_date_diff)\n",
    "    pa_invoice_diff.append(pa_invoice_date_diff)\n",
    "    pa_permit_applied_diff.append(pa_permit_applied_date_diff)\n",
    "    pa_permit_processed_diff.append(pa_permit_processed_date_diff)\n",
    "    pa_notify_delivery_diff.append(pa_notify_delivery_date_diff)\n",
    "    pa_notify_start_diff.append(pa_notify_start_date_diff)"
   ]
  },
  {
   "cell_type": "markdown",
   "metadata": {},
   "source": [
    "## Creating 'Workflow Days' df\n",
    "**The days between each Teammate step in the workflow (excluding some production processes)**"
   ]
  },
  {
   "cell_type": "code",
   "execution_count": 36,
   "metadata": {},
   "outputs": [],
   "source": [
    "# creating the 'days_df' to hold all date values for each role in the project\n",
    "days_df = pd.DataFrame({\n",
    "    \"claim_#\": claim_num,\n",
    "    \"rep_claim\": rep_claim_diff,\n",
    "    \"fta_scope\": fta_scope_diff,\n",
    "    \"bc_estimate\": bc_estimate_diff,\n",
    "    \"ob_scope\": ob_scope_diff,\n",
    "    \"sup_pfynr\": sup_pfynr_diff,\n",
    "    \"bc_approval\": bc_approval_diff,\n",
    "    \"ob_orderbuild\": ob_order_build_diff,\n",
    "    \"gm_create_order\": gm_create_order_diff,\n",
    "    \"pa_oa_process\": pa_oa_processed_diff,\n",
    "    \"pa_invoice\": pa_invoice_diff,\n",
    "})\n",
    "\n",
    "# creating a column holding the running tally across a row (project)\n",
    "# can be done because not including 'date diffs' on non-workflow items\n",
    "days_df['total_days'] = days_df.sum(axis=1)"
   ]
  },
  {
   "cell_type": "markdown",
   "metadata": {},
   "source": [
    "# Export Data"
   ]
  },
  {
   "cell_type": "code",
   "execution_count": 37,
   "metadata": {},
   "outputs": [],
   "source": [
    "# 'projects' and 'workflow days' CSVs\n",
    "\n",
    "all_project_df.to_csv(\"data/project_table.csv\", index=False)\n",
    "\n",
    "days_df.to_csv(\"data/workflow_days.csv\", index=False)\n"
   ]
  }
 ],
 "metadata": {
  "kernelspec": {
   "display_name": "Python 3",
   "language": "python",
   "name": "python3"
  },
  "language_info": {
   "codemirror_mode": {
    "name": "ipython",
    "version": 3
   },
   "file_extension": ".py",
   "mimetype": "text/x-python",
   "name": "python",
   "nbconvert_exporter": "python",
   "pygments_lexer": "ipython3",
   "version": "3.7.1"
  },
  "toc": {
   "base_numbering": 1,
   "nav_menu": {},
   "number_sections": true,
   "sideBar": true,
   "skip_h1_title": false,
   "title_cell": "Table of Contents",
   "title_sidebar": "Contents",
   "toc_cell": false,
   "toc_position": {},
   "toc_section_display": true,
   "toc_window_display": false
  },
  "varInspector": {
   "cols": {
    "lenName": "50",
    "lenType": 16,
    "lenVar": 40
   },
   "kernels_config": {
    "python": {
     "delete_cmd_postfix": "",
     "delete_cmd_prefix": "del ",
     "library": "var_list.py",
     "varRefreshCmd": "print(var_dic_list())"
    },
    "r": {
     "delete_cmd_postfix": ") ",
     "delete_cmd_prefix": "rm(",
     "library": "var_list.r",
     "varRefreshCmd": "cat(var_dic_list()) "
    }
   },
   "position": {
    "height": "540px",
    "left": "1108px",
    "right": "20px",
    "top": "120px",
    "width": "246px"
   },
   "types_to_exclude": [
    "module",
    "function",
    "builtin_function_or_method",
    "instance",
    "_Feature"
   ],
   "window_display": false
  }
 },
 "nbformat": 4,
 "nbformat_minor": 2
}
