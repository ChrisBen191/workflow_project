{
 "cells": [
  {
   "cell_type": "markdown",
   "metadata": {},
   "source": [
    "# Setup\n",
    "**This analysis includes all projects for the 2019 Season (includes projects marked as \"Dead\")**"
   ]
  },
  {
   "cell_type": "markdown",
   "metadata": {},
   "source": [
    "## Dependencies"
   ]
  },
  {
   "cell_type": "code",
   "execution_count": 1,
   "metadata": {},
   "outputs": [],
   "source": [
    "import pandas as pd\n",
    "from datetime import datetime"
   ]
  },
  {
   "cell_type": "markdown",
   "metadata": {},
   "source": [
    "## Import Data"
   ]
  },
  {
   "cell_type": "code",
   "execution_count": 2,
   "metadata": {},
   "outputs": [],
   "source": [
    "# imports the '[W] Customers Table Audit' data\n",
    "all_project_data = \"./data/all_projects.csv\"\n",
    "\n",
    "# imports '[W] Scope Improvements' data\n",
    "improvements_data = \"./data/improvement_table.csv\""
   ]
  },
  {
   "cell_type": "markdown",
   "metadata": {},
   "source": [
    "# Parsing Data"
   ]
  },
  {
   "cell_type": "markdown",
   "metadata": {},
   "source": [
    "## All Projects\n",
    "\n",
    "**Includes projects marked as 'Dead'**"
   ]
  },
  {
   "cell_type": "code",
   "execution_count": 3,
   "metadata": {},
   "outputs": [
    {
     "data": {
      "text/plain": [
       "Claim #                      1850\n",
       "Job #                         852\n",
       "Branch                       1860\n",
       "Claim # Date                 1861\n",
       "FTA Scope. Req Date          1861\n",
       "Submit for Estimate Date     1633\n",
       "[OB] Created Scope Calc      1503\n",
       "[B] Created Estimate Date    1481\n",
       "Job Submittal Date            940\n",
       "[B] - Date Approved by BC     852\n",
       "[OB] Completed                809\n",
       "Claim Status                  100\n",
       "dtype: int64"
      ]
     },
     "execution_count": 3,
     "metadata": {},
     "output_type": "execute_result"
    }
   ],
   "source": [
    "project_df = pd.read_csv(\n",
    "    all_project_data, dtype={'Claim #': str, 'Job #': str, 'Branch' : str, 'Claim Status': str},\n",
    "    parse_dates=[\n",
    "        'Claim # Date',\n",
    "        'FTA Scope. Req Date',\n",
    "        'Submit for Estimate Date',\n",
    "        '[OB] Created Scope Calc',\n",
    "        '[B] Created Estimate Date',\n",
    "        'Job Submittal Date',\n",
    "        '[B] - Date Approved by BC',\n",
    "        '[OB] Completed']\n",
    ")\n",
    "\n",
    "# provides a summary of the 'project_df' holding all jobs for the season\n",
    "project_summary = project_df.count()\n",
    "project_summary"
   ]
  },
  {
   "cell_type": "markdown",
   "metadata": {},
   "source": [
    "## All Rejections\n",
    "\n",
    "**Includes projects marked as 'Dead'**"
   ]
  },
  {
   "cell_type": "code",
   "execution_count": 4,
   "metadata": {},
   "outputs": [],
   "source": [
    "# created 'improvements_df' to hold all dates of fta scope rejections to use correct date\n",
    "improvements_df = pd.read_csv(\n",
    "    improvements_data,\n",
    "    dtype={'Claim #': str},\n",
    "    parse_dates=['Created'])"
   ]
  },
  {
   "cell_type": "markdown",
   "metadata": {},
   "source": [
    "##  Multi-Rejection Counts\n",
    "**Determine the amount of rejections for each project**"
   ]
  },
  {
   "cell_type": "code",
   "execution_count": 5,
   "metadata": {},
   "outputs": [],
   "source": [
    "# creating a 'df' to count how many times a job was rejected (if at all)\n",
    "improvement_counts_df = (improvements_df.groupby(\"Claim #\").count())\n",
    "\n",
    "# resets the 'claim #' from being the index\n",
    "improvement_counts_df.reset_index(inplace=True)\n",
    "\n",
    "# renaming the 'improvement_counts'to make it easier to merge\n",
    "improvement_counts_df = improvement_counts_df.rename(columns = {\"Created\" : \"Scope Rejections\"})"
   ]
  },
  {
   "cell_type": "markdown",
   "metadata": {},
   "source": [
    "## Latest Rejections\n",
    "**Determine the most recent rejection for any project**"
   ]
  },
  {
   "cell_type": "code",
   "execution_count": 6,
   "metadata": {},
   "outputs": [],
   "source": [
    "# 'unique_improv_dates_df' holds most recent 'created' dates for improvements;\n",
    "# 'idmax()' provides the most current date\n",
    "latest_rejection_df = improvements_df.loc[\n",
    "    improvements_df.groupby('Claim #')['Created'].idxmax()]\n",
    "\n",
    "# renaming the 'unique improvements' df to make it easier to merge\n",
    "latest_rejection_df = latest_rejection_df.rename(columns={\"Created\": \"Rejection Date\"})"
   ]
  },
  {
   "cell_type": "markdown",
   "metadata": {},
   "source": [
    "# Merge Data"
   ]
  },
  {
   "cell_type": "markdown",
   "metadata": {},
   "source": [
    "## Merge 'All Projects' and 'Multi-Rejection' dataframes\n",
    "**Merging dfs on the shared 'Claim #' Column**"
   ]
  },
  {
   "cell_type": "code",
   "execution_count": 7,
   "metadata": {},
   "outputs": [
    {
     "data": {
      "text/html": [
       "<div>\n",
       "<style scoped>\n",
       "    .dataframe tbody tr th:only-of-type {\n",
       "        vertical-align: middle;\n",
       "    }\n",
       "\n",
       "    .dataframe tbody tr th {\n",
       "        vertical-align: top;\n",
       "    }\n",
       "\n",
       "    .dataframe thead th {\n",
       "        text-align: right;\n",
       "    }\n",
       "</style>\n",
       "<table border=\"1\" class=\"dataframe\">\n",
       "  <thead>\n",
       "    <tr style=\"text-align: right;\">\n",
       "      <th></th>\n",
       "      <th>Claim #</th>\n",
       "      <th>Job #</th>\n",
       "      <th>Branch</th>\n",
       "      <th>Claim # Date</th>\n",
       "      <th>FTA Scope. Req Date</th>\n",
       "      <th>Submit for Estimate Date</th>\n",
       "      <th>[OB] Created Scope Calc</th>\n",
       "      <th>[B] Created Estimate Date</th>\n",
       "      <th>Job Submittal Date</th>\n",
       "      <th>[B] - Date Approved by BC</th>\n",
       "      <th>[OB] Completed</th>\n",
       "      <th>Claim Status</th>\n",
       "      <th>Scope Rejections</th>\n",
       "    </tr>\n",
       "  </thead>\n",
       "  <tbody>\n",
       "    <tr>\n",
       "      <th>0</th>\n",
       "      <td>HO0000002220666</td>\n",
       "      <td>1937704</td>\n",
       "      <td>KCI</td>\n",
       "      <td>2019-07-04</td>\n",
       "      <td>2019-07-04</td>\n",
       "      <td>2019-07-08</td>\n",
       "      <td>2019-07-09</td>\n",
       "      <td>2019-07-11</td>\n",
       "      <td>2019-07-12</td>\n",
       "      <td>2019-07-12</td>\n",
       "      <td>NaT</td>\n",
       "      <td>NaN</td>\n",
       "      <td>0.0</td>\n",
       "    </tr>\n",
       "    <tr>\n",
       "      <th>1</th>\n",
       "      <td>218952GJ</td>\n",
       "      <td>1937584</td>\n",
       "      <td>FCO</td>\n",
       "      <td>2019-06-28</td>\n",
       "      <td>2019-07-02</td>\n",
       "      <td>2019-07-03</td>\n",
       "      <td>2019-07-08</td>\n",
       "      <td>2019-07-08</td>\n",
       "      <td>2019-07-09</td>\n",
       "      <td>2019-07-09</td>\n",
       "      <td>2019-07-09</td>\n",
       "      <td>NaN</td>\n",
       "      <td>0.0</td>\n",
       "    </tr>\n",
       "    <tr>\n",
       "      <th>2</th>\n",
       "      <td>PP0018371868</td>\n",
       "      <td>1937550</td>\n",
       "      <td>KCI</td>\n",
       "      <td>2019-06-27</td>\n",
       "      <td>2019-06-27</td>\n",
       "      <td>2019-07-02</td>\n",
       "      <td>2019-07-03</td>\n",
       "      <td>2019-07-05</td>\n",
       "      <td>2019-07-10</td>\n",
       "      <td>2019-07-10</td>\n",
       "      <td>2019-07-11</td>\n",
       "      <td>NaN</td>\n",
       "      <td>0.0</td>\n",
       "    </tr>\n",
       "    <tr>\n",
       "      <th>3</th>\n",
       "      <td>40280291</td>\n",
       "      <td>1937511</td>\n",
       "      <td>FCO</td>\n",
       "      <td>2019-06-27</td>\n",
       "      <td>2019-07-02</td>\n",
       "      <td>2019-07-03</td>\n",
       "      <td>2019-07-10</td>\n",
       "      <td>2019-07-10</td>\n",
       "      <td>2019-07-11</td>\n",
       "      <td>2019-07-12</td>\n",
       "      <td>NaT</td>\n",
       "      <td>NaN</td>\n",
       "      <td>0.0</td>\n",
       "    </tr>\n",
       "    <tr>\n",
       "      <th>4</th>\n",
       "      <td>066286T79</td>\n",
       "      <td>1937486</td>\n",
       "      <td>FCO</td>\n",
       "      <td>2019-06-26</td>\n",
       "      <td>2019-06-26</td>\n",
       "      <td>2019-06-27</td>\n",
       "      <td>2019-06-28</td>\n",
       "      <td>2019-06-28</td>\n",
       "      <td>2019-07-09</td>\n",
       "      <td>2019-07-10</td>\n",
       "      <td>2019-07-10</td>\n",
       "      <td>NaN</td>\n",
       "      <td>0.0</td>\n",
       "    </tr>\n",
       "  </tbody>\n",
       "</table>\n",
       "</div>"
      ],
      "text/plain": [
       "           Claim #    Job # Branch Claim # Date FTA Scope. Req Date  \\\n",
       "0  HO0000002220666  1937704    KCI   2019-07-04          2019-07-04   \n",
       "1         218952GJ  1937584    FCO   2019-06-28          2019-07-02   \n",
       "2     PP0018371868  1937550    KCI   2019-06-27          2019-06-27   \n",
       "3         40280291  1937511    FCO   2019-06-27          2019-07-02   \n",
       "4        066286T79  1937486    FCO   2019-06-26          2019-06-26   \n",
       "\n",
       "  Submit for Estimate Date [OB] Created Scope Calc [B] Created Estimate Date  \\\n",
       "0               2019-07-08              2019-07-09                2019-07-11   \n",
       "1               2019-07-03              2019-07-08                2019-07-08   \n",
       "2               2019-07-02              2019-07-03                2019-07-05   \n",
       "3               2019-07-03              2019-07-10                2019-07-10   \n",
       "4               2019-06-27              2019-06-28                2019-06-28   \n",
       "\n",
       "  Job Submittal Date [B] - Date Approved by BC [OB] Completed Claim Status  \\\n",
       "0         2019-07-12                2019-07-12            NaT          NaN   \n",
       "1         2019-07-09                2019-07-09     2019-07-09          NaN   \n",
       "2         2019-07-10                2019-07-10     2019-07-11          NaN   \n",
       "3         2019-07-11                2019-07-12            NaT          NaN   \n",
       "4         2019-07-09                2019-07-10     2019-07-10          NaN   \n",
       "\n",
       "   Scope Rejections  \n",
       "0               0.0  \n",
       "1               0.0  \n",
       "2               0.0  \n",
       "3               0.0  \n",
       "4               0.0  "
      ]
     },
     "execution_count": 7,
     "metadata": {},
     "output_type": "execute_result"
    }
   ],
   "source": [
    "first_merge_df = pd.merge(project_df, improvement_counts_df, how='left', on='Claim #')\n",
    "first_merge_df['Scope Rejections'] = first_merge_df['Scope Rejections'].fillna(0)\n",
    "\n",
    "first_merge_df.head()"
   ]
  },
  {
   "cell_type": "markdown",
   "metadata": {},
   "source": [
    "## Combine with 'Latest Rejections'\n",
    "**Merging dfs on the shared 'Claim #' Column**"
   ]
  },
  {
   "cell_type": "code",
   "execution_count": 11,
   "metadata": {},
   "outputs": [
    {
     "data": {
      "text/html": [
       "<div>\n",
       "<style scoped>\n",
       "    .dataframe tbody tr th:only-of-type {\n",
       "        vertical-align: middle;\n",
       "    }\n",
       "\n",
       "    .dataframe tbody tr th {\n",
       "        vertical-align: top;\n",
       "    }\n",
       "\n",
       "    .dataframe thead th {\n",
       "        text-align: right;\n",
       "    }\n",
       "</style>\n",
       "<table border=\"1\" class=\"dataframe\">\n",
       "  <thead>\n",
       "    <tr style=\"text-align: right;\">\n",
       "      <th></th>\n",
       "      <th>Claim #</th>\n",
       "      <th>Job #</th>\n",
       "      <th>Branch</th>\n",
       "      <th>Claim # Date</th>\n",
       "      <th>FTA Scope. Req Date</th>\n",
       "      <th>Submit for Estimate Date</th>\n",
       "      <th>[OB] Created Scope Calc</th>\n",
       "      <th>[B] Created Estimate Date</th>\n",
       "      <th>Job Submittal Date</th>\n",
       "      <th>[B] - Date Approved by BC</th>\n",
       "      <th>[OB] Completed</th>\n",
       "      <th>Claim Status</th>\n",
       "      <th>Scope Rejections</th>\n",
       "      <th>Rejection Date</th>\n",
       "    </tr>\n",
       "  </thead>\n",
       "  <tbody>\n",
       "    <tr>\n",
       "      <th>0</th>\n",
       "      <td>HO0000002220666</td>\n",
       "      <td>1937704</td>\n",
       "      <td>KCI</td>\n",
       "      <td>2019-07-04</td>\n",
       "      <td>2019-07-04</td>\n",
       "      <td>2019-07-08</td>\n",
       "      <td>2019-07-09</td>\n",
       "      <td>2019-07-11</td>\n",
       "      <td>2019-07-12</td>\n",
       "      <td>2019-07-12</td>\n",
       "      <td>NaT</td>\n",
       "      <td>NaN</td>\n",
       "      <td>0.0</td>\n",
       "      <td>NaT</td>\n",
       "    </tr>\n",
       "    <tr>\n",
       "      <th>1</th>\n",
       "      <td>218952GJ</td>\n",
       "      <td>1937584</td>\n",
       "      <td>FCO</td>\n",
       "      <td>2019-06-28</td>\n",
       "      <td>2019-07-02</td>\n",
       "      <td>2019-07-03</td>\n",
       "      <td>2019-07-08</td>\n",
       "      <td>2019-07-08</td>\n",
       "      <td>2019-07-09</td>\n",
       "      <td>2019-07-09</td>\n",
       "      <td>2019-07-09</td>\n",
       "      <td>NaN</td>\n",
       "      <td>0.0</td>\n",
       "      <td>NaT</td>\n",
       "    </tr>\n",
       "    <tr>\n",
       "      <th>2</th>\n",
       "      <td>PP0018371868</td>\n",
       "      <td>1937550</td>\n",
       "      <td>KCI</td>\n",
       "      <td>2019-06-27</td>\n",
       "      <td>2019-06-27</td>\n",
       "      <td>2019-07-02</td>\n",
       "      <td>2019-07-03</td>\n",
       "      <td>2019-07-05</td>\n",
       "      <td>2019-07-10</td>\n",
       "      <td>2019-07-10</td>\n",
       "      <td>2019-07-11</td>\n",
       "      <td>NaN</td>\n",
       "      <td>0.0</td>\n",
       "      <td>NaT</td>\n",
       "    </tr>\n",
       "    <tr>\n",
       "      <th>3</th>\n",
       "      <td>40280291</td>\n",
       "      <td>1937511</td>\n",
       "      <td>FCO</td>\n",
       "      <td>2019-06-27</td>\n",
       "      <td>2019-07-02</td>\n",
       "      <td>2019-07-03</td>\n",
       "      <td>2019-07-10</td>\n",
       "      <td>2019-07-10</td>\n",
       "      <td>2019-07-11</td>\n",
       "      <td>2019-07-12</td>\n",
       "      <td>NaT</td>\n",
       "      <td>NaN</td>\n",
       "      <td>0.0</td>\n",
       "      <td>NaT</td>\n",
       "    </tr>\n",
       "    <tr>\n",
       "      <th>4</th>\n",
       "      <td>066286T79</td>\n",
       "      <td>1937486</td>\n",
       "      <td>FCO</td>\n",
       "      <td>2019-06-26</td>\n",
       "      <td>2019-06-26</td>\n",
       "      <td>2019-06-27</td>\n",
       "      <td>2019-06-28</td>\n",
       "      <td>2019-06-28</td>\n",
       "      <td>2019-07-09</td>\n",
       "      <td>2019-07-10</td>\n",
       "      <td>2019-07-10</td>\n",
       "      <td>NaN</td>\n",
       "      <td>0.0</td>\n",
       "      <td>NaT</td>\n",
       "    </tr>\n",
       "  </tbody>\n",
       "</table>\n",
       "</div>"
      ],
      "text/plain": [
       "           Claim #    Job # Branch Claim # Date FTA Scope. Req Date  \\\n",
       "0  HO0000002220666  1937704    KCI   2019-07-04          2019-07-04   \n",
       "1         218952GJ  1937584    FCO   2019-06-28          2019-07-02   \n",
       "2     PP0018371868  1937550    KCI   2019-06-27          2019-06-27   \n",
       "3         40280291  1937511    FCO   2019-06-27          2019-07-02   \n",
       "4        066286T79  1937486    FCO   2019-06-26          2019-06-26   \n",
       "\n",
       "  Submit for Estimate Date [OB] Created Scope Calc [B] Created Estimate Date  \\\n",
       "0               2019-07-08              2019-07-09                2019-07-11   \n",
       "1               2019-07-03              2019-07-08                2019-07-08   \n",
       "2               2019-07-02              2019-07-03                2019-07-05   \n",
       "3               2019-07-03              2019-07-10                2019-07-10   \n",
       "4               2019-06-27              2019-06-28                2019-06-28   \n",
       "\n",
       "  Job Submittal Date [B] - Date Approved by BC [OB] Completed Claim Status  \\\n",
       "0         2019-07-12                2019-07-12            NaT          NaN   \n",
       "1         2019-07-09                2019-07-09     2019-07-09          NaN   \n",
       "2         2019-07-10                2019-07-10     2019-07-11          NaN   \n",
       "3         2019-07-11                2019-07-12            NaT          NaN   \n",
       "4         2019-07-09                2019-07-10     2019-07-10          NaN   \n",
       "\n",
       "   Scope Rejections Rejection Date  \n",
       "0               0.0            NaT  \n",
       "1               0.0            NaT  \n",
       "2               0.0            NaT  \n",
       "3               0.0            NaT  \n",
       "4               0.0            NaT  "
      ]
     },
     "execution_count": 11,
     "metadata": {},
     "output_type": "execute_result"
    }
   ],
   "source": [
    "final_merged_df = pd.merge(first_merge_df, latest_rejection_df, how='left', on='Claim #')\n",
    "final_merged_df.head()"
   ]
  },
  {
   "cell_type": "markdown",
   "metadata": {},
   "source": [
    "# Comparing Data"
   ]
  },
  {
   "cell_type": "markdown",
   "metadata": {},
   "source": [
    "## Gathering Date Differences\n",
    "**Finding any 'Submit for Estimate' and 'Rejection Date' Subsitutions**"
   ]
  },
  {
   "cell_type": "code",
   "execution_count": 12,
   "metadata": {},
   "outputs": [],
   "source": [
    "# list to store the 'date diffs' value for each step'\n",
    "claim_num = []\n",
    "job_num = []\n",
    "rep_claim_diff = []\n",
    "fta_scope_diff = []\n",
    "ob_scope_diff = []\n",
    "bc_estimate_diff = []\n",
    "sup_pfynr_diff = []\n",
    "bc_approval_diff = []\n",
    "ob_order_build_diff = []\n",
    "total_days = []\n",
    "\n",
    "# iterating over the df to create 'date diff' variables\n",
    "for index, row in final_merged_df.iterrows():\n",
    "\n",
    "    # creating 'date_diff' variables for each step in the workflow\n",
    "    rep_claim_date_diff = (row[\"FTA Scope. Req Date\"] - row[\"Claim # Date\"]).days\n",
    "    bc_estimate_date_diff = (row['[B] Created Estimate Date'] - row['[OB] Created Scope Calc']).days\n",
    "    sup_pfynr_date_diff = (row[\"Job Submittal Date\"] - row[\"[B] Created Estimate Date\"]).days\n",
    "    bc_approval_date_diff = (row[\"[B] - Date Approved by BC\"] - row[\"Job Submittal Date\"]).days\n",
    "    ob_orderbuild_date_diff = (row['[OB] Completed'] - row['[B] - Date Approved by BC']).days\n",
    "    \n",
    "    # if the project has not been rejected, then the 'Submit for Estimate' date is used\n",
    "    if row['Rejection Date'] != row['Rejection Date']:\n",
    "        \n",
    "        fta_date_diff = (row[\"Submit for Estimate Date\"] - row[\"FTA Scope. Req Date\"]).days\n",
    "        ob_scope_date_diff = (row['[OB] Created Scope Calc'] - row['Submit for Estimate Date']).days\n",
    "    \n",
    "    # if the project has been rejected, then the most recent 'Rejection' Date is used\n",
    "    else:\n",
    "        \n",
    "        fta_date_diff = (row[\"Rejection Date\"] - row[\"FTA Scope. Req Date\"]).days\n",
    "        ob_scope_date_diff = (row['[OB] Created Scope Calc'] - row['Rejection Date']).days\n",
    "\n",
    "    # adding up all of the 'date_diff' variables above and assigning to 'total_days_sum'\n",
    "    day_diffs = [rep_claim_date_diff, fta_date_diff, ob_scope_date_diff, bc_estimate_date_diff,\n",
    "                 sup_pfynr_date_diff, bc_approval_date_diff, ob_orderbuild_date_diff]\n",
    "    total_days_sum = sum(day_diffs)\n",
    "    \n",
    "    # appending 'date diff' values to lists to create each df column\n",
    "    claim_num.append(row[\"Claim #\"])\n",
    "    job_num.append(row[\"Job #\"])\n",
    "    rep_claim_diff.append(rep_claim_date_diff)\n",
    "    fta_scope_diff.append(fta_date_diff)\n",
    "    ob_scope_diff.append(ob_scope_date_diff)\n",
    "    bc_estimate_diff.append(bc_estimate_date_diff)\n",
    "    sup_pfynr_diff.append(sup_pfynr_date_diff)\n",
    "    bc_approval_diff.append(bc_approval_date_diff)\n",
    "    ob_order_build_diff.append(ob_orderbuild_date_diff)\n",
    "    total_days.append(total_days_sum)\n",
    "\n"
   ]
  },
  {
   "cell_type": "markdown",
   "metadata": {},
   "source": [
    "## Creating 'Workflow Days' df\n",
    "**The days between each Teammate step in the workflow**"
   ]
  },
  {
   "cell_type": "code",
   "execution_count": 13,
   "metadata": {},
   "outputs": [],
   "source": [
    "# creating the 'days_df' to hold all date values for each role in the project\n",
    "days_df = pd.DataFrame({\n",
    "    \"claim_#\": claim_num,\n",
    "    \"job_#\": job_num,\n",
    "    \"rep_claim\": rep_claim_diff,\n",
    "    \"fta_scope\": fta_scope_diff,\n",
    "    \"ob_scope\": ob_scope_diff,\n",
    "    \"bc_estimate\": bc_estimate_diff,\n",
    "    \"sup_pfynr\": sup_pfynr_diff,\n",
    "    \"bc_approval\": bc_approval_diff,\n",
    "    \"ob_orderbuild\": ob_order_build_diff,\n",
    "    \"total_days\": total_days\n",
    "})"
   ]
  },
  {
   "cell_type": "markdown",
   "metadata": {},
   "source": [
    "# Export Data"
   ]
  },
  {
   "cell_type": "code",
   "execution_count": 14,
   "metadata": {},
   "outputs": [],
   "source": [
    "# 'projects' and 'workflow days' CSVs\n",
    "\n",
    "final_merged_df.to_csv(\"data/project_table.csv\", index=False)\n",
    "\n",
    "days_df.to_csv(\"data/workflow_days.csv\", index=False)\n"
   ]
  },
  {
   "cell_type": "code",
   "execution_count": 16,
   "metadata": {},
   "outputs": [
    {
     "data": {
      "text/html": [
       "<div>\n",
       "<style scoped>\n",
       "    .dataframe tbody tr th:only-of-type {\n",
       "        vertical-align: middle;\n",
       "    }\n",
       "\n",
       "    .dataframe tbody tr th {\n",
       "        vertical-align: top;\n",
       "    }\n",
       "\n",
       "    .dataframe thead th {\n",
       "        text-align: right;\n",
       "    }\n",
       "</style>\n",
       "<table border=\"1\" class=\"dataframe\">\n",
       "  <thead>\n",
       "    <tr style=\"text-align: right;\">\n",
       "      <th></th>\n",
       "      <th>claim_#</th>\n",
       "      <th>job_#</th>\n",
       "      <th>rep_claim</th>\n",
       "      <th>fta_scope</th>\n",
       "      <th>ob_scope</th>\n",
       "      <th>bc_estimate</th>\n",
       "      <th>sup_pfynr</th>\n",
       "      <th>bc_approval</th>\n",
       "      <th>ob_orderbuild</th>\n",
       "      <th>total_days</th>\n",
       "    </tr>\n",
       "  </thead>\n",
       "  <tbody>\n",
       "    <tr>\n",
       "      <th>0</th>\n",
       "      <td>HO0000002220666</td>\n",
       "      <td>1937704</td>\n",
       "      <td>0</td>\n",
       "      <td>4.0</td>\n",
       "      <td>1.0</td>\n",
       "      <td>2.0</td>\n",
       "      <td>1.0</td>\n",
       "      <td>0.0</td>\n",
       "      <td>NaN</td>\n",
       "      <td>NaN</td>\n",
       "    </tr>\n",
       "    <tr>\n",
       "      <th>1</th>\n",
       "      <td>218952GJ</td>\n",
       "      <td>1937584</td>\n",
       "      <td>4</td>\n",
       "      <td>1.0</td>\n",
       "      <td>5.0</td>\n",
       "      <td>0.0</td>\n",
       "      <td>1.0</td>\n",
       "      <td>0.0</td>\n",
       "      <td>0.0</td>\n",
       "      <td>11.0</td>\n",
       "    </tr>\n",
       "    <tr>\n",
       "      <th>2</th>\n",
       "      <td>PP0018371868</td>\n",
       "      <td>1937550</td>\n",
       "      <td>0</td>\n",
       "      <td>5.0</td>\n",
       "      <td>1.0</td>\n",
       "      <td>2.0</td>\n",
       "      <td>5.0</td>\n",
       "      <td>0.0</td>\n",
       "      <td>1.0</td>\n",
       "      <td>14.0</td>\n",
       "    </tr>\n",
       "    <tr>\n",
       "      <th>3</th>\n",
       "      <td>40280291</td>\n",
       "      <td>1937511</td>\n",
       "      <td>5</td>\n",
       "      <td>1.0</td>\n",
       "      <td>7.0</td>\n",
       "      <td>0.0</td>\n",
       "      <td>1.0</td>\n",
       "      <td>1.0</td>\n",
       "      <td>NaN</td>\n",
       "      <td>NaN</td>\n",
       "    </tr>\n",
       "    <tr>\n",
       "      <th>4</th>\n",
       "      <td>066286T79</td>\n",
       "      <td>1937486</td>\n",
       "      <td>0</td>\n",
       "      <td>1.0</td>\n",
       "      <td>1.0</td>\n",
       "      <td>0.0</td>\n",
       "      <td>11.0</td>\n",
       "      <td>1.0</td>\n",
       "      <td>0.0</td>\n",
       "      <td>14.0</td>\n",
       "    </tr>\n",
       "  </tbody>\n",
       "</table>\n",
       "</div>"
      ],
      "text/plain": [
       "           claim_#    job_#  rep_claim  fta_scope  ob_scope  bc_estimate  \\\n",
       "0  HO0000002220666  1937704          0        4.0       1.0          2.0   \n",
       "1         218952GJ  1937584          4        1.0       5.0          0.0   \n",
       "2     PP0018371868  1937550          0        5.0       1.0          2.0   \n",
       "3         40280291  1937511          5        1.0       7.0          0.0   \n",
       "4        066286T79  1937486          0        1.0       1.0          0.0   \n",
       "\n",
       "   sup_pfynr  bc_approval  ob_orderbuild  total_days  \n",
       "0        1.0          0.0            NaN         NaN  \n",
       "1        1.0          0.0            0.0        11.0  \n",
       "2        5.0          0.0            1.0        14.0  \n",
       "3        1.0          1.0            NaN         NaN  \n",
       "4       11.0          1.0            0.0        14.0  "
      ]
     },
     "execution_count": 16,
     "metadata": {},
     "output_type": "execute_result"
    }
   ],
   "source": [
    "days_df.head()"
   ]
  },
  {
   "cell_type": "code",
   "execution_count": 21,
   "metadata": {},
   "outputs": [
    {
     "data": {
      "text/plain": [
       "22.08910891089109"
      ]
     },
     "execution_count": 21,
     "metadata": {},
     "output_type": "execute_result"
    }
   ],
   "source": [
    "(days_df['total_days'] - days_df['rep_claim']).mean()"
   ]
  },
  {
   "cell_type": "code",
   "execution_count": null,
   "metadata": {},
   "outputs": [],
   "source": []
  }
 ],
 "metadata": {
  "kernelspec": {
   "display_name": "Python 3",
   "language": "python",
   "name": "python3"
  },
  "language_info": {
   "codemirror_mode": {
    "name": "ipython",
    "version": 3
   },
   "file_extension": ".py",
   "mimetype": "text/x-python",
   "name": "python",
   "nbconvert_exporter": "python",
   "pygments_lexer": "ipython3",
   "version": "3.7.1"
  },
  "toc": {
   "base_numbering": 1,
   "nav_menu": {},
   "number_sections": true,
   "sideBar": true,
   "skip_h1_title": false,
   "title_cell": "Table of Contents",
   "title_sidebar": "Contents",
   "toc_cell": false,
   "toc_position": {},
   "toc_section_display": true,
   "toc_window_display": false
  },
  "varInspector": {
   "cols": {
    "lenName": "50",
    "lenType": 16,
    "lenVar": 40
   },
   "kernels_config": {
    "python": {
     "delete_cmd_postfix": "",
     "delete_cmd_prefix": "del ",
     "library": "var_list.py",
     "varRefreshCmd": "print(var_dic_list())"
    },
    "r": {
     "delete_cmd_postfix": ") ",
     "delete_cmd_prefix": "rm(",
     "library": "var_list.r",
     "varRefreshCmd": "cat(var_dic_list()) "
    }
   },
   "types_to_exclude": [
    "module",
    "function",
    "builtin_function_or_method",
    "instance",
    "_Feature"
   ],
   "window_display": false
  }
 },
 "nbformat": 4,
 "nbformat_minor": 2
}
