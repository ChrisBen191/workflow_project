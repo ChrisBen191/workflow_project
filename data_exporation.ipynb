{
 "cells": [
  {
   "cell_type": "markdown",
   "metadata": {},
   "source": [
    "# Setup"
   ]
  },
  {
   "cell_type": "markdown",
   "metadata": {},
   "source": [
    "## Dependencies"
   ]
  },
  {
   "cell_type": "code",
   "execution_count": 133,
   "metadata": {},
   "outputs": [],
   "source": [
    "import os\n",
    "import pandas as pd"
   ]
  },
  {
   "cell_type": "markdown",
   "metadata": {},
   "source": [
    "## Importing Data"
   ]
  },
  {
   "cell_type": "code",
   "execution_count": 134,
   "metadata": {},
   "outputs": [],
   "source": [
    "# # this allows the 'data_prep' file to be ran before this file tries to bring in those datasets\n",
    "# os.system(\"python data_prep.py\")\n",
    "\n",
    "# this is from the datasets with non-corrected 'gm r4f' dates\n",
    "os.system(\"python data_prep_without_corrections.py\")\n",
    "\n",
    "project_table_data = \"./data_copy/cleaned_data/project_table.csv\"\n",
    "project_info_data = \"./data_copy/cleaned_data/project_info_table.csv\"\n",
    "workflow_table_data = \"./data_copy/cleaned_data/workflow_table.csv\"\n",
    "\n",
    "\n",
    "# imports the 'project table' data\n",
    "# project_table_data = \"./data/cleaned_data/project_table.csv\"\n",
    "project_table_df = pd.read_csv(\n",
    "    project_table_data, dtype={\n",
    "        'Claim #': str,\n",
    "        'Job #': str,\n",
    "        'Branch':str,\n",
    "        'Claim Status':str},\n",
    "    parse_dates=[\n",
    "        'Rep Agreement Signed', 'Rep Claim Collected','FTA Scope Completed',\n",
    "        'FTA Scope Rejected', 'BC Estimate Completed','OB Scope Completed',\n",
    "        'Sup Job Submitted', 'BC Approved for Production', 'OB Order Built',\n",
    "        'GM Order Processed', 'PA Permit Applied', 'PA Permit Processed',\n",
    "        'PA OA Processed', 'PA OA Invoiced', 'PA Notify of Delivery',\n",
    "        'PA Notify of Start', 'Delivery Date', 'Roof Start',\n",
    "        'Roof End', 'GM Approved for Inspection', 'GM Change Order Date',\n",
    "        'GM Labor Adjustment Date', 'RA Inspection Requested', 'RA Inspection Processed', \n",
    "        'Rep COC Collected', 'SA Job Docs Uploaded', 'BC Project Invoiced','BC Project Closed'])\n",
    "\n",
    "# imports the 'project information' data\n",
    "# project_info_data = \"./data/cleaned_data/project_info_table.csv\"\n",
    "project_info_df = pd.read_csv(project_info_data, dtype={\n",
    "    'Claim #':str, 'Job #':str, 'Branch':str,\n",
    "    'City':str, 'Building Department':str, 'Permit Req?':str,\n",
    "    'Supplier Name':str, 'Crew':str, 'Insurance Company':str,\n",
    "    'Multi-rejected':str,'Sup':str, 'Rep':str,\n",
    "    'FTA':str, 'BC':str, 'OB':str, 'GM':str})\n",
    "\n",
    "# imports 'workflow table' data\n",
    "# workflow_table_data = \"./data/cleaned_data/workflow_table.csv\"\n",
    "workflow_table_df = pd.read_csv(workflow_table_data)\n"
   ]
  },
  {
   "cell_type": "markdown",
   "metadata": {},
   "source": [
    "# Separate Outlier Data"
   ]
  },
  {
   "cell_type": "markdown",
   "metadata": {},
   "source": [
    "## Workflow Data"
   ]
  },
  {
   "cell_type": "code",
   "execution_count": 135,
   "metadata": {},
   "outputs": [
    {
     "data": {
      "text/html": [
       "<div>\n",
       "<style scoped>\n",
       "    .dataframe tbody tr th:only-of-type {\n",
       "        vertical-align: middle;\n",
       "    }\n",
       "\n",
       "    .dataframe tbody tr th {\n",
       "        vertical-align: top;\n",
       "    }\n",
       "\n",
       "    .dataframe thead th {\n",
       "        text-align: right;\n",
       "    }\n",
       "</style>\n",
       "<table border=\"1\" class=\"dataframe\">\n",
       "  <thead>\n",
       "    <tr style=\"text-align: right;\">\n",
       "      <th></th>\n",
       "      <th>Rep Collecting Claim</th>\n",
       "      <th>FTA Completing Scope</th>\n",
       "      <th>BC Completing Estimate</th>\n",
       "      <th>OB Completing Scope</th>\n",
       "      <th>Sup Submitting Job</th>\n",
       "      <th>BC Approving Job</th>\n",
       "      <th>OB Building Order</th>\n",
       "      <th>GM Processing Order</th>\n",
       "      <th>PA Processing OA</th>\n",
       "      <th>PA Invoicing OA</th>\n",
       "      <th>GM Approving for Inspection</th>\n",
       "      <th>RA Requesting Inspection</th>\n",
       "      <th>Rep Collecting COC</th>\n",
       "      <th>SA Uploading Docs</th>\n",
       "      <th>BC Invoicing Project</th>\n",
       "      <th>BC Closed Project</th>\n",
       "      <th>Days in Pipeline</th>\n",
       "    </tr>\n",
       "  </thead>\n",
       "  <tbody>\n",
       "    <tr>\n",
       "      <th>count</th>\n",
       "      <td>2389.000000</td>\n",
       "      <td>1897.000000</td>\n",
       "      <td>1846.000000</td>\n",
       "      <td>1737.000000</td>\n",
       "      <td>1099.000000</td>\n",
       "      <td>1015.000000</td>\n",
       "      <td>956.000000</td>\n",
       "      <td>793.000000</td>\n",
       "      <td>751.00000</td>\n",
       "      <td>683.000000</td>\n",
       "      <td>627.000000</td>\n",
       "      <td>222.000000</td>\n",
       "      <td>545.000000</td>\n",
       "      <td>445.000000</td>\n",
       "      <td>393.000000</td>\n",
       "      <td>202.000000</td>\n",
       "      <td>2389.000000</td>\n",
       "    </tr>\n",
       "    <tr>\n",
       "      <th>mean</th>\n",
       "      <td>6.401005</td>\n",
       "      <td>5.401687</td>\n",
       "      <td>0.704225</td>\n",
       "      <td>1.805412</td>\n",
       "      <td>10.549591</td>\n",
       "      <td>3.349754</td>\n",
       "      <td>1.460251</td>\n",
       "      <td>8.141236</td>\n",
       "      <td>1.29028</td>\n",
       "      <td>3.055637</td>\n",
       "      <td>0.690590</td>\n",
       "      <td>7.801802</td>\n",
       "      <td>5.735780</td>\n",
       "      <td>8.220225</td>\n",
       "      <td>3.223919</td>\n",
       "      <td>16.950495</td>\n",
       "      <td>29.098786</td>\n",
       "    </tr>\n",
       "    <tr>\n",
       "      <th>std</th>\n",
       "      <td>12.740876</td>\n",
       "      <td>5.198584</td>\n",
       "      <td>1.335061</td>\n",
       "      <td>3.409480</td>\n",
       "      <td>9.855701</td>\n",
       "      <td>5.311671</td>\n",
       "      <td>3.563851</td>\n",
       "      <td>9.308149</td>\n",
       "      <td>2.74972</td>\n",
       "      <td>3.950553</td>\n",
       "      <td>1.990382</td>\n",
       "      <td>9.063197</td>\n",
       "      <td>7.675873</td>\n",
       "      <td>6.198012</td>\n",
       "      <td>3.993073</td>\n",
       "      <td>16.621257</td>\n",
       "      <td>29.324748</td>\n",
       "    </tr>\n",
       "    <tr>\n",
       "      <th>min</th>\n",
       "      <td>0.000000</td>\n",
       "      <td>-83.000000</td>\n",
       "      <td>-7.000000</td>\n",
       "      <td>-35.000000</td>\n",
       "      <td>-5.000000</td>\n",
       "      <td>-13.000000</td>\n",
       "      <td>-9.000000</td>\n",
       "      <td>-8.000000</td>\n",
       "      <td>-10.00000</td>\n",
       "      <td>-20.000000</td>\n",
       "      <td>-1.000000</td>\n",
       "      <td>0.000000</td>\n",
       "      <td>-4.000000</td>\n",
       "      <td>0.000000</td>\n",
       "      <td>0.000000</td>\n",
       "      <td>0.000000</td>\n",
       "      <td>0.000000</td>\n",
       "    </tr>\n",
       "    <tr>\n",
       "      <th>25%</th>\n",
       "      <td>0.000000</td>\n",
       "      <td>2.000000</td>\n",
       "      <td>0.000000</td>\n",
       "      <td>0.000000</td>\n",
       "      <td>4.000000</td>\n",
       "      <td>1.000000</td>\n",
       "      <td>0.000000</td>\n",
       "      <td>1.000000</td>\n",
       "      <td>0.00000</td>\n",
       "      <td>1.000000</td>\n",
       "      <td>0.000000</td>\n",
       "      <td>2.000000</td>\n",
       "      <td>0.000000</td>\n",
       "      <td>2.000000</td>\n",
       "      <td>0.000000</td>\n",
       "      <td>6.000000</td>\n",
       "      <td>7.000000</td>\n",
       "    </tr>\n",
       "    <tr>\n",
       "      <th>50%</th>\n",
       "      <td>4.000000</td>\n",
       "      <td>4.000000</td>\n",
       "      <td>0.000000</td>\n",
       "      <td>1.000000</td>\n",
       "      <td>8.000000</td>\n",
       "      <td>1.000000</td>\n",
       "      <td>0.000000</td>\n",
       "      <td>6.000000</td>\n",
       "      <td>1.00000</td>\n",
       "      <td>3.000000</td>\n",
       "      <td>0.000000</td>\n",
       "      <td>5.000000</td>\n",
       "      <td>4.000000</td>\n",
       "      <td>8.000000</td>\n",
       "      <td>1.000000</td>\n",
       "      <td>13.000000</td>\n",
       "      <td>21.000000</td>\n",
       "    </tr>\n",
       "    <tr>\n",
       "      <th>75%</th>\n",
       "      <td>8.000000</td>\n",
       "      <td>7.000000</td>\n",
       "      <td>1.000000</td>\n",
       "      <td>3.000000</td>\n",
       "      <td>14.000000</td>\n",
       "      <td>4.000000</td>\n",
       "      <td>1.000000</td>\n",
       "      <td>13.000000</td>\n",
       "      <td>1.00000</td>\n",
       "      <td>5.000000</td>\n",
       "      <td>1.000000</td>\n",
       "      <td>11.000000</td>\n",
       "      <td>8.000000</td>\n",
       "      <td>12.000000</td>\n",
       "      <td>5.000000</td>\n",
       "      <td>23.750000</td>\n",
       "      <td>44.000000</td>\n",
       "    </tr>\n",
       "    <tr>\n",
       "      <th>max</th>\n",
       "      <td>269.000000</td>\n",
       "      <td>43.000000</td>\n",
       "      <td>17.000000</td>\n",
       "      <td>86.000000</td>\n",
       "      <td>66.000000</td>\n",
       "      <td>46.000000</td>\n",
       "      <td>53.000000</td>\n",
       "      <td>62.000000</td>\n",
       "      <td>42.00000</td>\n",
       "      <td>32.000000</td>\n",
       "      <td>30.000000</td>\n",
       "      <td>67.000000</td>\n",
       "      <td>62.000000</td>\n",
       "      <td>32.000000</td>\n",
       "      <td>21.000000</td>\n",
       "      <td>81.000000</td>\n",
       "      <td>302.000000</td>\n",
       "    </tr>\n",
       "  </tbody>\n",
       "</table>\n",
       "</div>"
      ],
      "text/plain": [
       "       Rep Collecting Claim  FTA Completing Scope  BC Completing Estimate  \\\n",
       "count           2389.000000           1897.000000             1846.000000   \n",
       "mean               6.401005              5.401687                0.704225   \n",
       "std               12.740876              5.198584                1.335061   \n",
       "min                0.000000            -83.000000               -7.000000   \n",
       "25%                0.000000              2.000000                0.000000   \n",
       "50%                4.000000              4.000000                0.000000   \n",
       "75%                8.000000              7.000000                1.000000   \n",
       "max              269.000000             43.000000               17.000000   \n",
       "\n",
       "       OB Completing Scope  Sup Submitting Job  BC Approving Job  \\\n",
       "count          1737.000000         1099.000000       1015.000000   \n",
       "mean              1.805412           10.549591          3.349754   \n",
       "std               3.409480            9.855701          5.311671   \n",
       "min             -35.000000           -5.000000        -13.000000   \n",
       "25%               0.000000            4.000000          1.000000   \n",
       "50%               1.000000            8.000000          1.000000   \n",
       "75%               3.000000           14.000000          4.000000   \n",
       "max              86.000000           66.000000         46.000000   \n",
       "\n",
       "       OB Building Order  GM Processing Order  PA Processing OA  \\\n",
       "count         956.000000           793.000000         751.00000   \n",
       "mean            1.460251             8.141236           1.29028   \n",
       "std             3.563851             9.308149           2.74972   \n",
       "min            -9.000000            -8.000000         -10.00000   \n",
       "25%             0.000000             1.000000           0.00000   \n",
       "50%             0.000000             6.000000           1.00000   \n",
       "75%             1.000000            13.000000           1.00000   \n",
       "max            53.000000            62.000000          42.00000   \n",
       "\n",
       "       PA Invoicing OA  GM Approving for Inspection  RA Requesting Inspection  \\\n",
       "count       683.000000                   627.000000                222.000000   \n",
       "mean          3.055637                     0.690590                  7.801802   \n",
       "std           3.950553                     1.990382                  9.063197   \n",
       "min         -20.000000                    -1.000000                  0.000000   \n",
       "25%           1.000000                     0.000000                  2.000000   \n",
       "50%           3.000000                     0.000000                  5.000000   \n",
       "75%           5.000000                     1.000000                 11.000000   \n",
       "max          32.000000                    30.000000                 67.000000   \n",
       "\n",
       "       Rep Collecting COC  SA Uploading Docs  BC Invoicing Project  \\\n",
       "count          545.000000         445.000000            393.000000   \n",
       "mean             5.735780           8.220225              3.223919   \n",
       "std              7.675873           6.198012              3.993073   \n",
       "min             -4.000000           0.000000              0.000000   \n",
       "25%              0.000000           2.000000              0.000000   \n",
       "50%              4.000000           8.000000              1.000000   \n",
       "75%              8.000000          12.000000              5.000000   \n",
       "max             62.000000          32.000000             21.000000   \n",
       "\n",
       "       BC Closed Project  Days in Pipeline  \n",
       "count         202.000000       2389.000000  \n",
       "mean           16.950495         29.098786  \n",
       "std            16.621257         29.324748  \n",
       "min             0.000000          0.000000  \n",
       "25%             6.000000          7.000000  \n",
       "50%            13.000000         21.000000  \n",
       "75%            23.750000         44.000000  \n",
       "max            81.000000        302.000000  "
      ]
     },
     "execution_count": 135,
     "metadata": {},
     "output_type": "execute_result"
    }
   ],
   "source": [
    "workflow_table_df.describe()"
   ]
  },
  {
   "cell_type": "markdown",
   "metadata": {},
   "source": [
    "## Rep Claim Data"
   ]
  },
  {
   "cell_type": "code",
   "execution_count": 136,
   "metadata": {},
   "outputs": [
    {
     "name": "stdout",
     "output_type": "stream",
     "text": [
      "Workflow Records with Rep Claim: 2389\n",
      "Quantile: 15.0\n",
      "Cleaned Records: 2160\n",
      "Outlier Records: 229\n"
     ]
    }
   ],
   "source": [
    "# created a variable to be able to allow a 10% error in 'rep claim days'\n",
    "rep_quantile = workflow_table_df['Rep Collecting Claim'].quantile(.90)\n",
    "\n",
    "# produce only positive day claims within 90% of all records\n",
    "rep_claim_df = workflow_table_df.loc[(workflow_table_df['Rep Collecting Claim'] >= 0) & (\n",
    "    workflow_table_df['Rep Collecting Claim'] <= rep_quantile), :]\n",
    "\n",
    "# creating a rep claim outlier df\n",
    "outlier_rep_claim_df = workflow_table_df.loc[(workflow_table_df['Rep Collecting Claim'] < 0) | (\n",
    "    workflow_table_df['Rep Collecting Claim'] > rep_quantile), :]\n",
    "\n",
    "# confirming no records were lost\n",
    "print(f\"Workflow Records with Rep Claim: {workflow_table_df['Rep Collecting Claim'].count()}\")\n",
    "print(f\"Quantile: {rep_quantile}\")\n",
    "print(f\"Cleaned Records: {len(rep_claim_df)}\")\n",
    "print(f\"Outlier Records: {len(outlier_rep_claim_df)}\")"
   ]
  },
  {
   "cell_type": "code",
   "execution_count": 137,
   "metadata": {},
   "outputs": [
    {
     "data": {
      "text/plain": [
       "16.0     24\n",
       "19.0     24\n",
       "18.0     24\n",
       "20.0     18\n",
       "22.0     17\n",
       "17.0     16\n",
       "21.0     14\n",
       "25.0     13\n",
       "27.0     11\n",
       "26.0      9\n",
       "23.0      6\n",
       "32.0      5\n",
       "24.0      5\n",
       "30.0      4\n",
       "33.0      4\n",
       "35.0      3\n",
       "34.0      3\n",
       "37.0      3\n",
       "28.0      3\n",
       "29.0      2\n",
       "41.0      2\n",
       "55.0      1\n",
       "52.0      1\n",
       "45.0      1\n",
       "143.0     1\n",
       "156.0     1\n",
       "269.0     1\n",
       "42.0      1\n",
       "38.0      1\n",
       "219.0     1\n",
       "176.0     1\n",
       "162.0     1\n",
       "59.0      1\n",
       "231.0     1\n",
       "39.0      1\n",
       "62.0      1\n",
       "36.0      1\n",
       "31.0      1\n",
       "43.0      1\n",
       "48.0      1\n",
       "Name: Rep Collecting Claim, dtype: int64"
      ]
     },
     "execution_count": 137,
     "metadata": {},
     "output_type": "execute_result"
    }
   ],
   "source": [
    "outlier_rep_claim_df['Rep Collecting Claim'].value_counts()"
   ]
  },
  {
   "cell_type": "markdown",
   "metadata": {},
   "source": [
    "## FTA Scope Data"
   ]
  },
  {
   "cell_type": "code",
   "execution_count": 138,
   "metadata": {},
   "outputs": [
    {
     "name": "stdout",
     "output_type": "stream",
     "text": [
      "Workflow Records with FTA Scope: 1897\n",
      "Quantile: 12.0\n",
      "Cleaned Records: 1735\n",
      "Outlier Records: 162\n"
     ]
    }
   ],
   "source": [
    "# created a variable to be able to allow a 10% error in 'fta scope days'\n",
    "fta_quantile = workflow_table_df['FTA Completing Scope'].quantile(.90)\n",
    "\n",
    "# produce only positive day claims within 90% of all records\n",
    "fta_scope_df = workflow_table_df.loc[(workflow_table_df['FTA Completing Scope'] >= 0) & (\n",
    "    workflow_table_df['FTA Completing Scope'] <= fta_quantile), :]\n",
    "\n",
    "# creating a fta scope outlier df\n",
    "outlier_fta_scope_df = workflow_table_df.loc[(workflow_table_df['FTA Completing Scope'] < 0) | (\n",
    "    workflow_table_df['FTA Completing Scope'] > fta_quantile), :]\n",
    "\n",
    "# confirming no records were lost\n",
    "print(f\"Workflow Records with FTA Scope: {workflow_table_df['FTA Completing Scope'].count()}\")\n",
    "print(f\"Quantile: {fta_quantile}\")\n",
    "print(f\"Cleaned Records: {len(fta_scope_df)}\")\n",
    "print(f\"Outlier Records: {len(outlier_fta_scope_df)}\")"
   ]
  },
  {
   "cell_type": "code",
   "execution_count": 139,
   "metadata": {},
   "outputs": [
    {
     "data": {
      "text/plain": [
       " 13.0    39\n",
       " 14.0    31\n",
       " 15.0    19\n",
       " 17.0    12\n",
       " 19.0    11\n",
       " 18.0    10\n",
       " 16.0     7\n",
       " 20.0     7\n",
       " 21.0     4\n",
       " 23.0     3\n",
       " 27.0     3\n",
       " 32.0     2\n",
       " 22.0     2\n",
       "-83.0     1\n",
       " 25.0     1\n",
       " 24.0     1\n",
       " 28.0     1\n",
       " 33.0     1\n",
       " 26.0     1\n",
       "-13.0     1\n",
       " 34.0     1\n",
       " 43.0     1\n",
       " 30.0     1\n",
       " 39.0     1\n",
       " 36.0     1\n",
       "Name: FTA Completing Scope, dtype: int64"
      ]
     },
     "execution_count": 139,
     "metadata": {},
     "output_type": "execute_result"
    }
   ],
   "source": [
    "outlier_fta_scope_df['FTA Completing Scope'].value_counts()"
   ]
  },
  {
   "cell_type": "markdown",
   "metadata": {},
   "source": [
    "## BC Estimate Data"
   ]
  },
  {
   "cell_type": "code",
   "execution_count": 140,
   "metadata": {},
   "outputs": [
    {
     "name": "stdout",
     "output_type": "stream",
     "text": [
      "Workflow Records with BC Estimate: 1846\n",
      "Quantile: 2.0\n",
      "Cleaned Records: 1669\n",
      "Outlier Records: 177\n"
     ]
    }
   ],
   "source": [
    "# created a variable to be able to allow a 10% error in 'rep claim days'\n",
    "bc_quantile = workflow_table_df['BC Completing Estimate'].quantile(.90)\n",
    "num_bc_estimates = workflow_table_df['BC Completing Estimate'].count()\n",
    "\n",
    "# produce only positive day claims within 90% of all records\n",
    "bc_estimate_df = workflow_table_df.loc[(workflow_table_df['BC Completing Estimate'] >= 0) & (\n",
    "    workflow_table_df['BC Completing Estimate'] <= bc_quantile), :]\n",
    "\n",
    "# creating a bc estimate outlier df\n",
    "outlier_bc_estimate_df = workflow_table_df.loc[(workflow_table_df['BC Completing Estimate'] < 0) | (\n",
    "    workflow_table_df['BC Completing Estimate'] > bc_quantile), :]\n",
    "\n",
    "# confirming no records were lost\n",
    "print(f\"Workflow Records with BC Estimate: {workflow_table_df['BC Completing Estimate'].count()}\")\n",
    "print(f\"Quantile: {bc_quantile}\")\n",
    "print(f\"Cleaned Records: {len(bc_estimate_df)}\")\n",
    "print(f\"Outlier Records: {len(outlier_bc_estimate_df)}\")"
   ]
  },
  {
   "cell_type": "code",
   "execution_count": 141,
   "metadata": {},
   "outputs": [
    {
     "data": {
      "text/plain": [
       " 3.0     118\n",
       " 4.0      22\n",
       " 5.0      12\n",
       " 6.0       7\n",
       " 10.0      3\n",
       " 7.0       3\n",
       "-1.0       2\n",
       " 8.0       2\n",
       "-3.0       1\n",
       "-4.0       1\n",
       "-2.0       1\n",
       "-7.0       1\n",
       " 14.0      1\n",
       " 12.0      1\n",
       " 17.0      1\n",
       " 13.0      1\n",
       "Name: BC Completing Estimate, dtype: int64"
      ]
     },
     "execution_count": 141,
     "metadata": {},
     "output_type": "execute_result"
    }
   ],
   "source": [
    "outlier_bc_estimate_df['BC Completing Estimate'].value_counts()"
   ]
  },
  {
   "cell_type": "markdown",
   "metadata": {},
   "source": [
    "## OB Scope Data"
   ]
  },
  {
   "cell_type": "code",
   "execution_count": 142,
   "metadata": {},
   "outputs": [
    {
     "name": "stdout",
     "output_type": "stream",
     "text": [
      "Workflow Records with OB Scope: 1737\n",
      "Quantile: 5.0\n",
      "Cleaned Records: 1396\n",
      "Outlier Records: 341\n"
     ]
    }
   ],
   "source": [
    "# created a variable to be able to allow a 10% error in 'ob scoped days'\n",
    "ob_quantile = workflow_table_df['OB Completing Scope'].quantile(.90)\n",
    "num_ob_scopes = workflow_table_df['OB Completing Scope'].count()\n",
    "\n",
    "# produce only positive day claims within 90% of all records\n",
    "ob_scope_df = workflow_table_df.loc[(workflow_table_df['OB Completing Scope'] >= 0) & (\n",
    "    workflow_table_df['OB Completing Scope'] <= ob_quantile), :]\n",
    "\n",
    "# creating a ob scoped outlier df\n",
    "outlier_ob_scope_df = workflow_table_df.loc[(workflow_table_df['OB Completing Scope'] < 0) | (\n",
    "    workflow_table_df['OB Completing Scope'] > ob_quantile), :]\n",
    "\n",
    "# confirming no records were lost\n",
    "print(f\"Workflow Records with OB Scope: {workflow_table_df['OB Completing Scope'].count()}\")\n",
    "print(f\"Quantile: {ob_quantile}\")\n",
    "print(f\"Cleaned Records: {len(ob_scope_df)}\")\n",
    "print(f\"Outlier Records: {len(outlier_ob_scope_df)}\")"
   ]
  },
  {
   "cell_type": "code",
   "execution_count": 169,
   "metadata": {},
   "outputs": [
    {
     "data": {
      "text/plain": [
       "-1.0     170\n",
       " 6.0      70\n",
       " 7.0      30\n",
       " 8.0      15\n",
       " 10.0     14\n",
       " 9.0      11\n",
       " 11.0      9\n",
       " 12.0      5\n",
       " 13.0      4\n",
       "-4.0       3\n",
       "-2.0       2\n",
       " 15.0      1\n",
       " 24.0      1\n",
       " 16.0      1\n",
       "-35.0      1\n",
       "-5.0       1\n",
       " 86.0      1\n",
       "-8.0       1\n",
       " 14.0      1\n",
       "Name: OB Completing Scope, dtype: int64"
      ]
     },
     "execution_count": 169,
     "metadata": {},
     "output_type": "execute_result"
    }
   ],
   "source": [
    "outlier_ob_scope_df['OB Completing Scope'].value_counts()"
   ]
  },
  {
   "cell_type": "code",
   "execution_count": 168,
   "metadata": {},
   "outputs": [],
   "source": [
    "outlier_ob_scope_df.to_csv(\"data_copy/ob_scope_outlier_data.csv\", index=False)"
   ]
  },
  {
   "cell_type": "markdown",
   "metadata": {},
   "source": [
    "## Sup Submittal Data"
   ]
  },
  {
   "cell_type": "code",
   "execution_count": 144,
   "metadata": {},
   "outputs": [
    {
     "name": "stdout",
     "output_type": "stream",
     "text": [
      "Workflow Records with Sup Submit: 1099\n",
      "Quantile: 22.0\n",
      "Cleaned Records: 995\n",
      "Outlier Records: 104\n"
     ]
    }
   ],
   "source": [
    "# created a variable to be able to allow a 10% error in 'sup submitted days'\n",
    "sup_quantile = workflow_table_df['Sup Submitting Job'].quantile(.90)\n",
    "num_sup_submits = workflow_table_df['Sup Submitting Job'].count()\n",
    "\n",
    "# produce only positive day claims within 90% of all records\n",
    "sup_submit_df = workflow_table_df.loc[(workflow_table_df['Sup Submitting Job'] >= 0) & (\n",
    "    workflow_table_df['Sup Submitting Job'] <= sup_quantile), :]\n",
    "\n",
    "# creating a sup submitted outlier df\n",
    "outlier_sup_submit_df = workflow_table_df.loc[(workflow_table_df['Sup Submitting Job'] < 0) | (\n",
    "    workflow_table_df['Sup Submitting Job'] > sup_quantile), :]\n",
    "\n",
    "# confirming no records were lost\n",
    "print(f\"Workflow Records with Sup Submit: {workflow_table_df['Sup Submitting Job'].count()}\")\n",
    "print(f\"Quantile: {sup_quantile}\")\n",
    "print(f\"Cleaned Records: {len(sup_submit_df)}\")\n",
    "print(f\"Outlier Records: {len(outlier_sup_submit_df)}\")"
   ]
  },
  {
   "cell_type": "code",
   "execution_count": 145,
   "metadata": {},
   "outputs": [
    {
     "data": {
      "text/plain": [
       " 23.0    12\n",
       " 27.0    10\n",
       " 33.0     7\n",
       " 24.0     6\n",
       " 34.0     5\n",
       " 38.0     4\n",
       " 29.0     4\n",
       " 26.0     4\n",
       " 28.0     3\n",
       " 41.0     3\n",
       " 40.0     3\n",
       " 35.0     3\n",
       " 25.0     3\n",
       " 37.0     3\n",
       " 43.0     3\n",
       " 36.0     2\n",
       " 51.0     2\n",
       " 42.0     2\n",
       " 56.0     2\n",
       " 45.0     2\n",
       " 46.0     2\n",
       " 31.0     2\n",
       " 39.0     2\n",
       " 30.0     2\n",
       "-4.0      2\n",
       "-5.0      1\n",
       " 54.0     1\n",
       " 44.0     1\n",
       " 50.0     1\n",
       " 66.0     1\n",
       " 49.0     1\n",
       " 62.0     1\n",
       " 48.0     1\n",
       " 60.0     1\n",
       " 32.0     1\n",
       " 61.0     1\n",
       "Name: Sup Submitting Job, dtype: int64"
      ]
     },
     "execution_count": 145,
     "metadata": {},
     "output_type": "execute_result"
    }
   ],
   "source": [
    "outlier_sup_submit_df['Sup Submitting Job'].value_counts()"
   ]
  },
  {
   "cell_type": "markdown",
   "metadata": {},
   "source": [
    "## BC Approval Data"
   ]
  },
  {
   "cell_type": "code",
   "execution_count": 146,
   "metadata": {},
   "outputs": [
    {
     "name": "stdout",
     "output_type": "stream",
     "text": [
      "Workflow Records with BC Approval: 1015\n",
      "Quantile: 8.600000000000023\n",
      "Cleaned Records: 910\n",
      "Outlier Records: 105\n"
     ]
    }
   ],
   "source": [
    "# created a variable to be able to allow a 10% error in 'bc approved days'\n",
    "bc_quantile = workflow_table_df['BC Approving Job'].quantile(.90)\n",
    "num_bc_approvals = workflow_table_df['BC Approving Job'].count()\n",
    "\n",
    "# produce only positive day claims within 90% of all records\n",
    "bc_approval_df = workflow_table_df.loc[(workflow_table_df['BC Approving Job'] >= 0) & (\n",
    "    workflow_table_df['BC Approving Job'] <= bc_quantile), :]\n",
    "\n",
    "# creating a bc approved outlier df\n",
    "outlier_bc_approval_df = workflow_table_df.loc[(workflow_table_df['BC Approving Job'] < 0) | (\n",
    "    workflow_table_df['BC Approving Job'] > bc_quantile), :]\n",
    "\n",
    "# confirming no records were lost\n",
    "print(f\"Workflow Records with BC Approval: {workflow_table_df['BC Approving Job'].count()}\")\n",
    "print(f\"Quantile: {bc_quantile}\")\n",
    "print(f\"Cleaned Records: {len(bc_approval_df)}\")\n",
    "print(f\"Outlier Records: {len(outlier_bc_approval_df)}\")"
   ]
  },
  {
   "cell_type": "code",
   "execution_count": 147,
   "metadata": {},
   "outputs": [
    {
     "data": {
      "text/plain": [
       " 13.0    13\n",
       " 9.0     12\n",
       " 12.0    11\n",
       " 11.0    10\n",
       " 20.0     8\n",
       " 19.0     7\n",
       " 14.0     5\n",
       " 26.0     5\n",
       " 10.0     4\n",
       " 21.0     4\n",
       " 17.0     4\n",
       " 16.0     3\n",
       " 25.0     3\n",
       " 18.0     3\n",
       " 15.0     2\n",
       " 23.0     2\n",
       "-13.0     1\n",
       " 32.0     1\n",
       "-4.0      1\n",
       " 39.0     1\n",
       " 27.0     1\n",
       "-11.0     1\n",
       " 41.0     1\n",
       " 35.0     1\n",
       " 46.0     1\n",
       "Name: BC Approving Job, dtype: int64"
      ]
     },
     "execution_count": 147,
     "metadata": {},
     "output_type": "execute_result"
    }
   ],
   "source": [
    "outlier_bc_approval_df['BC Approving Job'].value_counts()"
   ]
  },
  {
   "cell_type": "markdown",
   "metadata": {},
   "source": [
    "## OB Create Order Data"
   ]
  },
  {
   "cell_type": "code",
   "execution_count": 148,
   "metadata": {},
   "outputs": [
    {
     "name": "stdout",
     "output_type": "stream",
     "text": [
      "Workflow Records with OB Order: 956\n",
      "Quantile: 4.0\n",
      "Cleaned Records: 865\n",
      "Outlier Records: 91\n"
     ]
    }
   ],
   "source": [
    "# created a variable to be able to allow a 10% error in 'ob created days'\n",
    "ob_quantile = workflow_table_df['OB Building Order'].quantile(.90)\n",
    "num_ob_orders = workflow_table_df['OB Building Order'].count()\n",
    "\n",
    "# produce only positive day claims within 90% of all records\n",
    "ob_order_df = workflow_table_df.loc[(workflow_table_df['OB Building Order'] >= 0) & (\n",
    "    workflow_table_df['OB Building Order'] <= ob_quantile), :]\n",
    "\n",
    "# creating a ob created outlier df\n",
    "outlier_ob_order_df = workflow_table_df.loc[(workflow_table_df['OB Building Order'] < 0) | (\n",
    "    workflow_table_df['OB Building Order'] > ob_quantile), :]\n",
    "\n",
    "# confirming no records were lost\n",
    "print(f\"Workflow Records with OB Order: {workflow_table_df['OB Building Order'].count()}\")\n",
    "print(f\"Quantile: {ob_quantile}\")\n",
    "print(f\"Cleaned Records: {len(ob_order_df)}\")\n",
    "print(f\"Outlier Records: {len(outlier_ob_order_df)}\")"
   ]
  },
  {
   "cell_type": "code",
   "execution_count": 149,
   "metadata": {},
   "outputs": [
    {
     "data": {
      "text/plain": [
       " 5.0     30\n",
       " 6.0     12\n",
       " 10.0     9\n",
       " 11.0     9\n",
       " 7.0      7\n",
       " 12.0     7\n",
       " 8.0      4\n",
       " 9.0      3\n",
       " 13.0     2\n",
       " 20.0     2\n",
       " 40.0     1\n",
       " 53.0     1\n",
       " 24.0     1\n",
       " 28.0     1\n",
       " 27.0     1\n",
       "-9.0      1\n",
       "Name: OB Building Order, dtype: int64"
      ]
     },
     "execution_count": 149,
     "metadata": {},
     "output_type": "execute_result"
    }
   ],
   "source": [
    "outlier_ob_order_df['OB Building Order'].value_counts()"
   ]
  },
  {
   "cell_type": "markdown",
   "metadata": {},
   "source": [
    "## GM Process Order Data"
   ]
  },
  {
   "cell_type": "code",
   "execution_count": 150,
   "metadata": {},
   "outputs": [
    {
     "name": "stdout",
     "output_type": "stream",
     "text": [
      "Workflow Records with GM Processed Order: 793\n",
      "Quantile: 20.0\n",
      "Cleaned Records: 634\n",
      "Outlier Records: 159\n"
     ]
    }
   ],
   "source": [
    "# created a variable to be able to allow a 10% error in 'gm processed days'\n",
    "gm_quantile = workflow_table_df['GM Processing Order'].quantile(.90)\n",
    "num_gm_orders = workflow_table_df['GM Processing Order'].count()\n",
    "\n",
    "# produce only positive day claims within 90% of all records\n",
    "gm_order_df = workflow_table_df.loc[(workflow_table_df['GM Processing Order'] >= 0) & (\n",
    "    workflow_table_df['GM Processing Order'] <= gm_quantile), :]\n",
    "\n",
    "# creating a gm processed outlier df\n",
    "outlier_gm_order_df = workflow_table_df.loc[(workflow_table_df['GM Processing Order'] < 0) | (\n",
    "    workflow_table_df['GM Processing Order'] > gm_quantile), :]\n",
    "\n",
    "# confirming no records were lost\n",
    "print(f\"Workflow Records with GM Processed Order: {workflow_table_df['GM Processing Order'].count()}\")\n",
    "print(f\"Quantile: {gm_quantile}\")\n",
    "print(f\"Cleaned Records: {len(gm_order_df)}\")\n",
    "print(f\"Outlier Records: {len(outlier_gm_order_df)}\")"
   ]
  },
  {
   "cell_type": "code",
   "execution_count": 151,
   "metadata": {},
   "outputs": [
    {
     "data": {
      "text/plain": [
       "-1.0     85\n",
       " 21.0     9\n",
       " 27.0     8\n",
       " 26.0     7\n",
       " 28.0     7\n",
       " 23.0     7\n",
       " 29.0     6\n",
       " 22.0     4\n",
       " 37.0     3\n",
       " 33.0     3\n",
       " 35.0     3\n",
       " 24.0     2\n",
       " 41.0     2\n",
       " 31.0     1\n",
       " 46.0     1\n",
       " 59.0     1\n",
       " 25.0     1\n",
       " 39.0     1\n",
       " 34.0     1\n",
       " 40.0     1\n",
       " 54.0     1\n",
       " 45.0     1\n",
       " 62.0     1\n",
       " 53.0     1\n",
       " 42.0     1\n",
       "-8.0      1\n",
       "Name: GM Processing Order, dtype: int64"
      ]
     },
     "execution_count": 151,
     "metadata": {},
     "output_type": "execute_result"
    }
   ],
   "source": [
    "outlier_gm_order_df['GM Processing Order'].value_counts()"
   ]
  },
  {
   "cell_type": "markdown",
   "metadata": {},
   "source": [
    "## PA Process OA Data"
   ]
  },
  {
   "cell_type": "code",
   "execution_count": 152,
   "metadata": {},
   "outputs": [
    {
     "name": "stdout",
     "output_type": "stream",
     "text": [
      "Workflow Records with PA OA Processed: 751\n",
      "Quantile: 3.0\n",
      "Cleaned Records: 684\n",
      "Outlier Records: 67\n"
     ]
    }
   ],
   "source": [
    "# created a variable to be able to allow a 10% error in 'pa oa processeddays'\n",
    "pa_quantile = workflow_table_df['PA Processing OA'].quantile(.90)\n",
    "num_pa_oa_processed = workflow_table_df['PA Processing OA'].count()\n",
    "\n",
    "# produce only positive day claims within 90% of all records\n",
    "pa_processed_oa_df = workflow_table_df.loc[(workflow_table_df['PA Processing OA'] >= 0) & (\n",
    "    workflow_table_df['PA Processing OA'] <= pa_quantile), :]\n",
    "\n",
    "# creating a pa oa processedoutlier df\n",
    "outlier_pa_processed_oa_df = workflow_table_df.loc[(workflow_table_df['PA Processing OA'] < 0) | (\n",
    "    workflow_table_df['PA Processing OA'] > pa_quantile), :]\n",
    "\n",
    "# confirming no records were lost\n",
    "print(f\"Workflow Records with PA OA Processed: {workflow_table_df['PA Processing OA'].count()}\")\n",
    "print(f\"Quantile: {pa_quantile}\")\n",
    "print(f\"Cleaned Records: {len(pa_processed_oa_df)}\")\n",
    "print(f\"Outlier Records: {len(outlier_pa_processed_oa_df)}\")"
   ]
  },
  {
   "cell_type": "code",
   "execution_count": 153,
   "metadata": {},
   "outputs": [
    {
     "data": {
      "text/plain": [
       " 4.0     24\n",
       " 5.0     18\n",
       " 6.0      6\n",
       " 10.0     4\n",
       " 7.0      2\n",
       " 11.0     2\n",
       " 8.0      2\n",
       "-10.0     1\n",
       " 20.0     1\n",
       " 42.0     1\n",
       "-1.0      1\n",
       " 15.0     1\n",
       " 14.0     1\n",
       " 18.0     1\n",
       " 12.0     1\n",
       " 30.0     1\n",
       "Name: PA Processing OA, dtype: int64"
      ]
     },
     "execution_count": 153,
     "metadata": {},
     "output_type": "execute_result"
    }
   ],
   "source": [
    "outlier_pa_processed_oa_df['PA Processing OA'].value_counts()"
   ]
  },
  {
   "cell_type": "markdown",
   "metadata": {},
   "source": [
    "## PA Invoicing OA Data"
   ]
  },
  {
   "cell_type": "code",
   "execution_count": 154,
   "metadata": {},
   "outputs": [
    {
     "name": "stdout",
     "output_type": "stream",
     "text": [
      "Workflow Records with PA OA Invoiced: 683\n",
      "Quantile: 7.0\n",
      "Cleaned Records: 592\n",
      "Outlier Records: 91\n"
     ]
    }
   ],
   "source": [
    "# created a variable to be able to allow a 10% error in 'pa oa invoiceddays'\n",
    "pa_quantile = workflow_table_df['PA Invoicing OA'].quantile(.90)\n",
    "num_pa_oa_invoiced = workflow_table_df['PA Invoicing OA'].count()\n",
    "\n",
    "# produce only positive day claims within 90% of all records\n",
    "pa_invoiced_oa_df = workflow_table_df.loc[(workflow_table_df['PA Invoicing OA'] >= 0) & (\n",
    "    workflow_table_df['PA Invoicing OA'] <= pa_quantile), :]\n",
    "\n",
    "# creating a pa oa invoicedoutlier df\n",
    "outlier_pa_invoiced_oa_df = workflow_table_df.loc[(workflow_table_df['PA Invoicing OA'] < 0) | (\n",
    "    workflow_table_df['PA Invoicing OA'] > pa_quantile), :]\n",
    "\n",
    "# confirming no records were lost\n",
    "print(f\"Workflow Records with PA OA Invoiced: {workflow_table_df['PA Invoicing OA'].count()}\")\n",
    "print(f\"Quantile: {pa_quantile}\")\n",
    "print(f\"Cleaned Records: {len(pa_invoiced_oa_df)}\")\n",
    "print(f\"Outlier Records: {len(outlier_pa_invoiced_oa_df)}\")"
   ]
  },
  {
   "cell_type": "code",
   "execution_count": 155,
   "metadata": {},
   "outputs": [
    {
     "data": {
      "text/plain": [
       " 10.0    15\n",
       "-1.0     13\n",
       "-5.0     13\n",
       " 8.0     10\n",
       "-6.0      5\n",
       "-8.0      5\n",
       " 11.0     4\n",
       "-7.0      4\n",
       " 18.0     3\n",
       " 9.0      3\n",
       " 14.0     3\n",
       "-3.0      2\n",
       " 12.0     2\n",
       " 27.0     1\n",
       " 20.0     1\n",
       " 15.0     1\n",
       "-20.0     1\n",
       " 13.0     1\n",
       "-2.0      1\n",
       " 17.0     1\n",
       " 19.0     1\n",
       " 32.0     1\n",
       "Name: PA Invoicing OA, dtype: int64"
      ]
     },
     "execution_count": 155,
     "metadata": {},
     "output_type": "execute_result"
    }
   ],
   "source": [
    "outlier_pa_invoiced_oa_df['PA Invoicing OA'].value_counts()"
   ]
  },
  {
   "cell_type": "markdown",
   "metadata": {},
   "source": [
    "## GM Approving for Inspection Data"
   ]
  },
  {
   "cell_type": "code",
   "execution_count": 156,
   "metadata": {},
   "outputs": [
    {
     "name": "stdout",
     "output_type": "stream",
     "text": [
      "Workflow Records with GM Approved for Inspection: 627\n",
      "Quantile: 3.0\n",
      "Cleaned Records: 492\n",
      "Outlier Records: 135\n"
     ]
    }
   ],
   "source": [
    "# created a variable to be able to allow a 10% error in 'gm approved for inspection days'\n",
    "gm_quantile = workflow_table_df['GM Approving for Inspection'].quantile(.90)\n",
    "num_gm_approved_inspection = workflow_table_df['GM Approving for Inspection'].count()\n",
    "\n",
    "# produce only positive day claims within 90% of all records\n",
    "gm_approved_inspection_df = workflow_table_df.loc[(workflow_table_df['GM Approving for Inspection'] >= 0) & (\n",
    "    workflow_table_df['GM Approving for Inspection'] <= gm_quantile), :]\n",
    "\n",
    "# creating a gm approved for inspection outlier df\n",
    "outlier_gm_approved_inspection_df = workflow_table_df.loc[(workflow_table_df['GM Approving for Inspection'] < 0) | (\n",
    "    workflow_table_df['GM Approving for Inspection'] > gm_quantile), :]\n",
    "\n",
    "# confirming no records were lost\n",
    "print(f\"Workflow Records with GM Approved for Inspection: {workflow_table_df['GM Approving for Inspection'].count()}\")\n",
    "print(f\"Quantile: {gm_quantile}\")\n",
    "print(f\"Cleaned Records: {len(gm_approved_inspection_df)}\")\n",
    "print(f\"Outlier Records: {len(outlier_gm_approved_inspection_df)}\")"
   ]
  },
  {
   "cell_type": "code",
   "execution_count": 157,
   "metadata": {},
   "outputs": [
    {
     "data": {
      "text/plain": [
       "-1.0     78\n",
       " 4.0     27\n",
       " 5.0     17\n",
       " 6.0     11\n",
       " 30.0     1\n",
       " 8.0      1\n",
       "Name: GM Approving for Inspection, dtype: int64"
      ]
     },
     "execution_count": 157,
     "metadata": {},
     "output_type": "execute_result"
    }
   ],
   "source": [
    "outlier_gm_approved_inspection_df['GM Approving for Inspection'].value_counts()"
   ]
  },
  {
   "cell_type": "markdown",
   "metadata": {},
   "source": [
    "## RA Requesting Inspection Data\n"
   ]
  },
  {
   "cell_type": "code",
   "execution_count": 158,
   "metadata": {},
   "outputs": [
    {
     "name": "stdout",
     "output_type": "stream",
     "text": [
      "Workflow Records with RA Requested Inspection: 222\n",
      "Quantile: 19.0\n",
      "Cleaned Records: 202\n",
      "Outlier Records: 20\n"
     ]
    }
   ],
   "source": [
    "# created a variable to be able to allow a 10% error in 'ra requesting inspection days'\n",
    "ra_quantile = workflow_table_df['RA Requesting Inspection'].quantile(.90)\n",
    "num_ra_requested = workflow_table_df['RA Requesting Inspection'].count()\n",
    "\n",
    "# produce only positive day claims within 90% of all records\n",
    "ra_requested_inspection_df = workflow_table_df.loc[(workflow_table_df['RA Requesting Inspection'] >= 0) & (\n",
    "    workflow_table_df['RA Requesting Inspection'] <= ra_quantile), :]\n",
    "\n",
    "# creating a ra requesting inspection outlier df\n",
    "outlier_ra_requested_inspection_df = workflow_table_df.loc[(workflow_table_df['RA Requesting Inspection'] < 0) | (\n",
    "    workflow_table_df['RA Requesting Inspection'] > ra_quantile), :]\n",
    "\n",
    "# confirming no records were lost\n",
    "print(f\"Workflow Records with RA Requested Inspection: {workflow_table_df['RA Requesting Inspection'].count()}\")\n",
    "print(f\"Quantile: {ra_quantile}\")\n",
    "print(f\"Cleaned Records: {len(ra_requested_inspection_df)}\")\n",
    "print(f\"Outlier Records: {len(outlier_ra_requested_inspection_df)}\")"
   ]
  },
  {
   "cell_type": "code",
   "execution_count": 159,
   "metadata": {},
   "outputs": [
    {
     "data": {
      "text/plain": [
       "25.0    3\n",
       "20.0    3\n",
       "22.0    2\n",
       "24.0    2\n",
       "67.0    1\n",
       "31.0    1\n",
       "47.0    1\n",
       "27.0    1\n",
       "28.0    1\n",
       "41.0    1\n",
       "36.0    1\n",
       "42.0    1\n",
       "21.0    1\n",
       "26.0    1\n",
       "Name: RA Requesting Inspection, dtype: int64"
      ]
     },
     "execution_count": 159,
     "metadata": {},
     "output_type": "execute_result"
    }
   ],
   "source": [
    "outlier_ra_requested_inspection_df['RA Requesting Inspection'].value_counts()"
   ]
  },
  {
   "cell_type": "markdown",
   "metadata": {},
   "source": [
    "## Rep Collecting COC Data"
   ]
  },
  {
   "cell_type": "code",
   "execution_count": 160,
   "metadata": {},
   "outputs": [
    {
     "name": "stdout",
     "output_type": "stream",
     "text": [
      "Workflow Records with Rep COC Collected: 545\n",
      "Quantile: 15.0\n",
      "Cleaned Records: 440\n",
      "Outlier Records: 105\n"
     ]
    }
   ],
   "source": [
    "# created a variable to be able to allow a 10% error in 'rep collect coc days'\n",
    "rep_quantile = workflow_table_df['Rep Collecting COC'].quantile(.90)\n",
    "num_rep_collected = workflow_table_df['Rep Collecting COC'].count()\n",
    "\n",
    "# produce only positive day claims within 90% of all records\n",
    "rep_collected_df = workflow_table_df.loc[(workflow_table_df['Rep Collecting COC'] >= 0) & (\n",
    "    workflow_table_df['Rep Collecting COC'] <= rep_quantile), :]\n",
    "\n",
    "# creating a rep collect coc outlier df\n",
    "outlier_rep_collected_df = workflow_table_df.loc[(workflow_table_df['Rep Collecting COC'] < 0) | (\n",
    "    workflow_table_df['Rep Collecting COC'] > rep_quantile), :]\n",
    "\n",
    "# confirming no records were lost\n",
    "print(f\"Workflow Records with Rep COC Collected: {workflow_table_df['Rep Collecting COC'].count()}\")\n",
    "print(f\"Quantile: {rep_quantile}\")\n",
    "print(f\"Cleaned Records: {len(rep_collected_df)}\")\n",
    "print(f\"Outlier Records: {len(outlier_rep_collected_df)}\")"
   ]
  },
  {
   "cell_type": "code",
   "execution_count": 161,
   "metadata": {},
   "outputs": [
    {
     "data": {
      "text/plain": [
       "-1.0     52\n",
       " 16.0    10\n",
       " 20.0     6\n",
       " 17.0     4\n",
       " 24.0     3\n",
       " 19.0     3\n",
       " 22.0     3\n",
       " 21.0     2\n",
       " 23.0     2\n",
       " 26.0     2\n",
       " 37.0     2\n",
       " 33.0     2\n",
       " 18.0     2\n",
       " 28.0     2\n",
       " 29.0     1\n",
       " 25.0     1\n",
       "-4.0      1\n",
       " 62.0     1\n",
       " 46.0     1\n",
       "-3.0      1\n",
       " 35.0     1\n",
       " 50.0     1\n",
       " 32.0     1\n",
       " 30.0     1\n",
       "Name: Rep Collecting COC, dtype: int64"
      ]
     },
     "execution_count": 161,
     "metadata": {},
     "output_type": "execute_result"
    }
   ],
   "source": [
    "outlier_rep_collected_df['Rep Collecting COC'].value_counts()"
   ]
  },
  {
   "cell_type": "markdown",
   "metadata": {},
   "source": [
    "## SA Uploading Docs Data"
   ]
  },
  {
   "cell_type": "code",
   "execution_count": 162,
   "metadata": {},
   "outputs": [
    {
     "name": "stdout",
     "output_type": "stream",
     "text": [
      "Workflow Records with SA Docs Uploaded: 445\n",
      "Quantile: 14.600000000000023\n",
      "Cleaned Records: 400\n",
      "Outlier Records: 45\n"
     ]
    }
   ],
   "source": [
    "# created a variable to be able to allow a 10% error in 'sa uploaded days'\n",
    "sa_quantile = workflow_table_df['SA Uploading Docs'].quantile(.90)\n",
    "num_sa_uploaded = workflow_table_df['SA Uploading Docs'].count()\n",
    "\n",
    "# produce only positive day claims within 90% of all records\n",
    "sa_uploaded_df = workflow_table_df.loc[(workflow_table_df['SA Uploading Docs'] >= 0) & (\n",
    "    workflow_table_df['SA Uploading Docs'] <= sa_quantile), :]\n",
    "\n",
    "# creating a sa uploaded outlier df\n",
    "outlier_sa_uploaded_df = workflow_table_df.loc[(workflow_table_df['SA Uploading Docs'] < 0) | (\n",
    "    workflow_table_df['SA Uploading Docs'] > sa_quantile), :]\n",
    "\n",
    "# confirming no records were lost\n",
    "print(f\"Workflow Records with SA Docs Uploaded: {workflow_table_df['SA Uploading Docs'].count()}\")\n",
    "print(f\"Quantile: {sa_quantile}\")\n",
    "print(f\"Cleaned Records: {len(sa_uploaded_df)}\")\n",
    "print(f\"Outlier Records: {len(outlier_sa_uploaded_df)}\")"
   ]
  },
  {
   "cell_type": "code",
   "execution_count": 163,
   "metadata": {},
   "outputs": [
    {
     "data": {
      "text/plain": [
       "15.0    7\n",
       "21.0    6\n",
       "18.0    5\n",
       "25.0    4\n",
       "16.0    4\n",
       "19.0    4\n",
       "24.0    3\n",
       "17.0    3\n",
       "27.0    2\n",
       "26.0    2\n",
       "20.0    2\n",
       "32.0    1\n",
       "28.0    1\n",
       "23.0    1\n",
       "Name: SA Uploading Docs, dtype: int64"
      ]
     },
     "execution_count": 163,
     "metadata": {},
     "output_type": "execute_result"
    }
   ],
   "source": [
    "outlier_sa_uploaded_df['SA Uploading Docs'].value_counts()"
   ]
  },
  {
   "cell_type": "markdown",
   "metadata": {},
   "source": [
    "## BC Invoicing Project Data"
   ]
  },
  {
   "cell_type": "code",
   "execution_count": 164,
   "metadata": {},
   "outputs": [
    {
     "name": "stdout",
     "output_type": "stream",
     "text": [
      "Workflow Records with BC Project Invoiced: 393\n",
      "Quantile: 8.0\n",
      "Cleaned Records: 355\n",
      "Outlier Records: 38\n"
     ]
    }
   ],
   "source": [
    "# created a variable to be able to allow a 10% error in 'bc invoiced days'\n",
    "bc_quantile = workflow_table_df['BC Invoicing Project'].quantile(.90)\n",
    "num_bc_invoiced = workflow_table_df['BC Invoicing Project'].count()\n",
    "\n",
    "# produce only positive day claims within 90% of all records\n",
    "bc_invoiced_df = workflow_table_df.loc[(workflow_table_df['BC Invoicing Project'] >= 0) & (\n",
    "    workflow_table_df['BC Invoicing Project'] <= bc_quantile), :]\n",
    "\n",
    "# creating a bc invoiced outlier df\n",
    "outlier_bc_invoiced_df = workflow_table_df.loc[(workflow_table_df['BC Invoicing Project'] < 0) | (\n",
    "    workflow_table_df['BC Invoicing Project'] > bc_quantile), :]\n",
    "\n",
    "# confirming no records were lost\n",
    "print(f\"Workflow Records with BC Project Invoiced: {workflow_table_df['BC Invoicing Project'].count()}\")\n",
    "print(f\"Quantile: {bc_quantile}\")      \n",
    "print(f\"Cleaned Records: {len(bc_invoiced_df)}\")\n",
    "print(f\"Outlier Records: {len(outlier_bc_invoiced_df)}\")"
   ]
  },
  {
   "cell_type": "code",
   "execution_count": 165,
   "metadata": {},
   "outputs": [
    {
     "data": {
      "text/plain": [
       "9.0     8\n",
       "12.0    5\n",
       "10.0    5\n",
       "14.0    4\n",
       "11.0    4\n",
       "15.0    3\n",
       "17.0    3\n",
       "16.0    2\n",
       "18.0    1\n",
       "21.0    1\n",
       "13.0    1\n",
       "20.0    1\n",
       "Name: BC Invoicing Project, dtype: int64"
      ]
     },
     "execution_count": 165,
     "metadata": {},
     "output_type": "execute_result"
    }
   ],
   "source": [
    "outlier_bc_invoiced_df['BC Invoicing Project'].value_counts()"
   ]
  },
  {
   "cell_type": "markdown",
   "metadata": {},
   "source": [
    "## BC Closed Project Data"
   ]
  },
  {
   "cell_type": "code",
   "execution_count": 166,
   "metadata": {},
   "outputs": [
    {
     "name": "stdout",
     "output_type": "stream",
     "text": [
      "Workflow Records with BC Project Closed: 202\n",
      "Quantile: 39.900000000000006\n",
      "Cleaned Records: 181\n",
      "Outlier Records: 21\n"
     ]
    }
   ],
   "source": [
    "# created a variable to be able to allow a 10% error in 'bc closed days'\n",
    "bc_quantile = workflow_table_df['BC Closed Project'].quantile(.90)\n",
    "num_bc_closed = workflow_table_df['BC Closed Project'].count()\n",
    "\n",
    "# produce only positive day claims within 90% of all records\n",
    "bc_closed_df = workflow_table_df.loc[(workflow_table_df['BC Closed Project'] >= 0) & (\n",
    "    workflow_table_df['BC Closed Project'] <= bc_quantile), :]\n",
    "\n",
    "# creating a bc closed outlier df\n",
    "outlier_bc_closed_df = workflow_table_df.loc[(workflow_table_df['BC Closed Project'] < 0) | (\n",
    "    workflow_table_df['BC Closed Project'] > bc_quantile), :]\n",
    "\n",
    "# confirming no records were lost\n",
    "print(f\"Workflow Records with BC Project Closed: {workflow_table_df['BC Closed Project'].count()}\")\n",
    "print(f\"Quantile: {bc_quantile}\")      \n",
    "print(f\"Cleaned Records: {len(bc_closed_df)}\")\n",
    "print(f\"Outlier Records: {len(outlier_bc_closed_df)}\")"
   ]
  },
  {
   "cell_type": "code",
   "execution_count": 167,
   "metadata": {},
   "outputs": [
    {
     "data": {
      "text/plain": [
       "41.0    5\n",
       "81.0    2\n",
       "51.0    2\n",
       "43.0    2\n",
       "49.0    1\n",
       "40.0    1\n",
       "48.0    1\n",
       "69.0    1\n",
       "78.0    1\n",
       "47.0    1\n",
       "67.0    1\n",
       "63.0    1\n",
       "68.0    1\n",
       "42.0    1\n",
       "Name: BC Closed Project, dtype: int64"
      ]
     },
     "execution_count": 167,
     "metadata": {},
     "output_type": "execute_result"
    }
   ],
   "source": [
    "outlier_bc_closed_df['BC Closed Project'].value_counts()"
   ]
  }
 ],
 "metadata": {
  "kernelspec": {
   "display_name": "Python 3",
   "language": "python",
   "name": "python3"
  },
  "language_info": {
   "codemirror_mode": {
    "name": "ipython",
    "version": 3
   },
   "file_extension": ".py",
   "mimetype": "text/x-python",
   "name": "python",
   "nbconvert_exporter": "python",
   "pygments_lexer": "ipython3",
   "version": "3.7.1"
  },
  "toc": {
   "base_numbering": 1,
   "nav_menu": {},
   "number_sections": true,
   "sideBar": true,
   "skip_h1_title": false,
   "title_cell": "Table of Contents",
   "title_sidebar": "Contents",
   "toc_cell": false,
   "toc_position": {
    "height": "calc(100% - 180px)",
    "left": "10px",
    "top": "150px",
    "width": "300.521px"
   },
   "toc_section_display": true,
   "toc_window_display": true
  },
  "varInspector": {
   "cols": {
    "lenName": 16,
    "lenType": 16,
    "lenVar": 40
   },
   "kernels_config": {
    "python": {
     "delete_cmd_postfix": "",
     "delete_cmd_prefix": "del ",
     "library": "var_list.py",
     "varRefreshCmd": "print(var_dic_list())"
    },
    "r": {
     "delete_cmd_postfix": ") ",
     "delete_cmd_prefix": "rm(",
     "library": "var_list.r",
     "varRefreshCmd": "cat(var_dic_list()) "
    }
   },
   "types_to_exclude": [
    "module",
    "function",
    "builtin_function_or_method",
    "instance",
    "_Feature"
   ],
   "window_display": false
  }
 },
 "nbformat": 4,
 "nbformat_minor": 2
}
