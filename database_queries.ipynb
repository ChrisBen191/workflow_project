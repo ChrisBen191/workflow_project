{
 "cells": [
  {
   "cell_type": "markdown",
   "metadata": {},
   "source": [
    "# Dependencies"
   ]
  },
  {
   "cell_type": "code",
   "execution_count": 9,
   "metadata": {},
   "outputs": [],
   "source": [
    "# the method used for connecting to databases\n",
    "from sqlalchemy import create_engine, inspect\n",
    "\n",
    "# to be able to create a 'Session' to push and query the server\n",
    "from sqlalchemy.orm import Session\n",
    "\n",
    "# importing modules to declare columns and column dtypes\n",
    "from sqlalchemy import Column, Integer, String, Float, DateTime\n",
    "\n",
    "# imports the methods needed to abstract classes into tables\n",
    "from sqlalchemy.ext.declarative import declarative_base\n",
    "Base = declarative_base()\n",
    "`\n",
    "# imports PyMySQL\n",
    "import pymysql\n",
    "pymysql.install_as_MySQLdb()\n",
    "\n",
    "# dependency for manipulating csv files\n",
    "import csv\n",
    "\n",
    "from datetime import datetime, date"
   ]
  },
  {
   "cell_type": "markdown",
   "metadata": {},
   "source": [
    "# Create Classes"
   ]
  },
  {
   "cell_type": "code",
   "execution_count": 2,
   "metadata": {},
   "outputs": [],
   "source": [
    "# create the Workflow Class for all records's workflow info\n",
    "class Workflow(Base):\n",
    "    __tablename__ = 'workflow'\n",
    "    claim_num = Column(String(32))\n",
    "    job_num = Column(String(32), primary_key=True)\n",
    "    rep_claim = Column(Integer)\n",
    "    fta_scope = Column(Integer)\n",
    "    ob_scope = Column(Integer)\n",
    "    bc_estimate = Column(Integer)\n",
    "    sup_pfynr = Column(Integer)\n",
    "    bc_approval = Column(Integer)\n",
    "    ob_orderbuild = Column(Integer)\n",
    "    total_days = Column(Integer)\n",
    "\n",
    "\n",
    "\n",
    "# create the Production Class for all records 'in production'\n",
    "class Production(Base):\n",
    "    __tablename__ = 'in_production'\n",
    "    claim_num = Column(String(32))\n",
    "    job_num = Column(String(32), primary_key=True)\n",
    "    rep_claim_num_date = Column(Date)\n",
    "    fta_scope_req_date = Column(Date)\n",
    "    fta_submit_for_estimate_date = Column(Date)\n",
    "    ob_created_scope_date = Column(Date)\n",
    "    bc_created_estimate_date = Column(Date)\n",
    "    sup_pfynr_date = Column(Date)\n",
    "    bc_approved_date = Column(Date)\n",
    "    ob_orderbuild_date = Column(Date)\n",
    "\n",
    "# create the Insurance Class for all record's insurance info\n",
    "class Insurance(Base):\n",
    "    __tablename__ = 'insurance'\n",
    "    claim_num = Column(String(32))\n",
    "    job_num = Column(String(32), primary_key=True)\n",
    "    ins_company = Column(String(32))\n",
    "    initial_price = Column(Float)\n",
    "    final_price = Column(Float)\n",
    "    initial_per_sq = Column(Float)\n",
    "    final_per_sq = Column(Float)\n",
    "    \n",
    "\n",
    "    "
   ]
  },
  {
   "cell_type": "markdown",
   "metadata": {},
   "source": [
    "# Database Connection"
   ]
  },
  {
   "cell_type": "code",
   "execution_count": 3,
   "metadata": {},
   "outputs": [],
   "source": [
    "# creating the engine connecting to the sqllite 'project_info' DB\n",
    "# 'echo' is a shortcut to enable SQLAlchemy logging to show all SQL produced.\n",
    "engine = create_engine('sqlite:///project_info.db', echo=False)\n",
    "\n",
    "conn = engine.connect()\n",
    "\n",
    "# create the Production, Workflow, and Insurnace tables within the database\n",
    "Base.metadata.create_all(engine)\n",
    "\n",
    " # using a 'Session' object to push the objects made and query the server\n",
    "session = Session(bind=engine)"
   ]
  },
  {
   "cell_type": "code",
   "execution_count": 4,
   "metadata": {},
   "outputs": [],
   "source": [
    "# # Use this to clear out the db\n",
    "# Base.metadata.drop_all(engine) "
   ]
  },
  {
   "cell_type": "markdown",
   "metadata": {},
   "source": [
    "# Adding Records to the Database"
   ]
  },
  {
   "cell_type": "markdown",
   "metadata": {},
   "source": [
    "## Workflow Database"
   ]
  },
  {
   "cell_type": "code",
   "execution_count": 4,
   "metadata": {},
   "outputs": [],
   "source": [
    "# creates a list composed of each row in the csv stored as a list; assigned to the 'data' variable\n",
    "workflow_days_csv = open('data/workflow_days.csv')\n",
    "workflow_csv_reader = csv.reader(workflow_days_csv)\n",
    "\n",
    "# iterating over each record to create the 'workflow' db\n",
    "for r in workflow_csv_reader:\n",
    "    \n",
    "    # assigning each variable, could possibly 'map'\n",
    "    workflow_record = Workflow(\n",
    "        claim_num = r[0],\n",
    "        job_num = r[1],\n",
    "        rep_claim = r[2],\n",
    "        fta_scope = r[3],\n",
    "        ob_scope = r[4],\n",
    "        bc_estimate = r[5],\n",
    "        sup_pfynr = r[6],\n",
    "        bc_approval = r[7],\n",
    "        ob_orderbuild = r[8],\n",
    "        total_days = r[9]\n",
    "    )\n",
    "\n",
    "    # adding the 'workflow_record' to the session and commiting it to the db\n",
    "    session.add(workflow_record)\n",
    "    session.commit()\n",
    "    "
   ]
  },
  {
   "cell_type": "markdown",
   "metadata": {},
   "source": [
    "## In Production Database"
   ]
  },
  {
   "cell_type": "code",
   "execution_count": 14,
   "metadata": {},
   "outputs": [],
   "source": [
    "# creates a list composed of each row in the csv stored as a list; assigned to the 'data' variable\n",
    "in_production_csv = open('data/in_production.csv')\n",
    "production_csv_reader = csv.reader(in_production_csv)\n",
    "\n",
    "# iterating over each record to create the 'workflow' db\n",
    "for r in production_csv_reader:\n",
    "    \n",
    "    # assigning each variable, could possibly 'map'\n",
    "    production_record = Production(\n",
    "    claim_num = r[0],\n",
    "    job_num = r[1],\n",
    "    rep_claim_num_date = r[2],\n",
    "    fta_scope_req_date = r[3],\n",
    "    fta_submit_for_estimate_date = r[4],\n",
    "    ob_created_scope_date = r[5],\n",
    "    bc_created_estimate_date = r[6],\n",
    "    sup_pfynr_date = r[7],\n",
    "    bc_approved_date = r[8],\n",
    "    ob_orderbuild_date = r[9]\n",
    "    )\n",
    "   \n",
    "    \n",
    "    # adding the 'production_record' to the session and commiting it to the db\n",
    "    session.add(production_record)\n",
    "    session.commit()\n",
    "    "
   ]
  },
  {
   "cell_type": "markdown",
   "metadata": {},
   "source": [
    "## Teammate Database"
   ]
  },
  {
   "cell_type": "code",
   "execution_count": 10,
   "metadata": {},
   "outputs": [],
   "source": []
  }
 ],
 "metadata": {
  "kernelspec": {
   "display_name": "Python 3",
   "language": "python",
   "name": "python3"
  },
  "language_info": {
   "codemirror_mode": {
    "name": "ipython",
    "version": 3
   },
   "file_extension": ".py",
   "mimetype": "text/x-python",
   "name": "python",
   "nbconvert_exporter": "python",
   "pygments_lexer": "ipython3",
   "version": "3.7.1"
  },
  "toc": {
   "base_numbering": 1,
   "nav_menu": {},
   "number_sections": true,
   "sideBar": true,
   "skip_h1_title": false,
   "title_cell": "Table of Contents",
   "title_sidebar": "Contents",
   "toc_cell": false,
   "toc_position": {},
   "toc_section_display": true,
   "toc_window_display": false
  },
  "varInspector": {
   "cols": {
    "lenName": "50",
    "lenType": 16,
    "lenVar": 40
   },
   "kernels_config": {
    "python": {
     "delete_cmd_postfix": "",
     "delete_cmd_prefix": "del ",
     "library": "var_list.py",
     "varRefreshCmd": "print(var_dic_list())"
    },
    "r": {
     "delete_cmd_postfix": ") ",
     "delete_cmd_prefix": "rm(",
     "library": "var_list.r",
     "varRefreshCmd": "cat(var_dic_list()) "
    }
   },
   "types_to_exclude": [
    "module",
    "function",
    "builtin_function_or_method",
    "instance",
    "_Feature"
   ],
   "window_display": false
  }
 },
 "nbformat": 4,
 "nbformat_minor": 2
}
