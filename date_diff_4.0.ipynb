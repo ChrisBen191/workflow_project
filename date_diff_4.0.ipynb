{
 "cells": [
  {
   "cell_type": "markdown",
   "metadata": {},
   "source": [
    "# Setup"
   ]
  },
  {
   "cell_type": "markdown",
   "metadata": {
    "heading_collapsed": true
   },
   "source": [
    "## Dependencies"
   ]
  },
  {
   "cell_type": "code",
   "execution_count": 31,
   "metadata": {
    "hidden": true
   },
   "outputs": [],
   "source": [
    "import pandas as pd\n",
    "from datetime import datetime"
   ]
  },
  {
   "cell_type": "markdown",
   "metadata": {
    "heading_collapsed": true
   },
   "source": [
    "## Import Data"
   ]
  },
  {
   "cell_type": "code",
   "execution_count": 32,
   "metadata": {
    "hidden": true
   },
   "outputs": [],
   "source": [
    "# imports the '[W] Customers Table Audit' data\n",
    "project_data = \"./data/customers_table.csv\"\n",
    "\n",
    "# imports '[W] Scope Improvements' data\n",
    "improvements_data = \"./data/improvement_table.csv\"\n",
    "\n",
    "# imports '[W] Teammate Audit' data\n",
    "teammate_data = \"./data/teammate_table.csv\""
   ]
  },
  {
   "cell_type": "markdown",
   "metadata": {},
   "source": [
    "# Parsing Data"
   ]
  },
  {
   "cell_type": "markdown",
   "metadata": {
    "heading_collapsed": true
   },
   "source": [
    "## Separate 'In Production' Jobs\n",
    "\n",
    "**Jobs where '[OB] Completed' and 'Job #' is not blank**"
   ]
  },
  {
   "cell_type": "code",
   "execution_count": 33,
   "metadata": {
    "hidden": true
   },
   "outputs": [],
   "source": [
    "project_df = pd.read_csv(\n",
    "    project_data, dtype={'Claim #': str, 'Job #': str},\n",
    "    parse_dates=[\n",
    "        'Claim # Date',\n",
    "        'FTA Scope. Req Date',\n",
    "        'Submit for Estimate Date',\n",
    "        '[OB] Created Scope Calc',\n",
    "        '[B] Created Estimate Date',\n",
    "        'Job Submittal Date',\n",
    "        '[B] - Date Approved by BC',\n",
    "        '[OB] Completed']\n",
    ")\n",
    "\n",
    "# created 'in_production_df' to hold all current jobs in production, to avoid 'NaN' date values\n",
    "in_production_df = (\n",
    "    project_df.loc[(project_df['[OB] Completed'].isnull() == False) &\n",
    "                   (project_df[\"Job #\"].isnull() == False), :])\n",
    "\n"
   ]
  },
  {
   "cell_type": "markdown",
   "metadata": {
    "heading_collapsed": true
   },
   "source": [
    "## Separate 'Most Recent' Improvement\n",
    "\n",
    "**Most recent FTA Scope Improvement submitted by the OB**"
   ]
  },
  {
   "cell_type": "code",
   "execution_count": 34,
   "metadata": {
    "hidden": true
   },
   "outputs": [],
   "source": [
    "# created 'improvements_df' to hold all dates of fta scope rejections to use correct date\n",
    "improvements_df = pd.read_csv(\n",
    "    improvements_data,\n",
    "    dtype={'Claim #': str, 'Job #': str},\n",
    "    parse_dates=['Created'])\n",
    "\n",
    "# 'improvement_dates_df' holds all current jobs in production, to avoid 'NaN' date values\n",
    "improvement_dates_df = improvements_df.loc[improvements_df[\"Job #\"].isnull() == False, :]\n",
    "\n",
    "# 'unique_improv_dates_df' holds most recent 'created' dates for improvements;\n",
    "# 'idmax()' provides the most current date\n",
    "unique_improv_dates_df = improvement_dates_df.loc[\n",
    "    improvement_dates_df.groupby('Claim #')['Created'].idxmax()]\n",
    "\n",
    "\n",
    "# renaming the 'unique improvements' df to make it easier to merge\n",
    "unique_improv_dates_df = unique_improv_dates_df.rename(columns={\n",
    "    \"Claim #\": \"Claim #\",\n",
    "    \"Job #\": \"Job #\",\n",
    "    \"Created\": \"Improvement Date\"\n",
    "})"
   ]
  },
  {
   "cell_type": "markdown",
   "metadata": {
    "heading_collapsed": true
   },
   "source": [
    "## Separate 'Teammate' Information\n",
    "\n",
    "**Only keep Jobs that are in production**"
   ]
  },
  {
   "cell_type": "code",
   "execution_count": 44,
   "metadata": {
    "hidden": true
   },
   "outputs": [
    {
     "data": {
      "text/html": [
       "<div>\n",
       "<style scoped>\n",
       "    .dataframe tbody tr th:only-of-type {\n",
       "        vertical-align: middle;\n",
       "    }\n",
       "\n",
       "    .dataframe tbody tr th {\n",
       "        vertical-align: top;\n",
       "    }\n",
       "\n",
       "    .dataframe thead th {\n",
       "        text-align: right;\n",
       "    }\n",
       "</style>\n",
       "<table border=\"1\" class=\"dataframe\">\n",
       "  <thead>\n",
       "    <tr style=\"text-align: right;\">\n",
       "      <th></th>\n",
       "      <th>Claim #</th>\n",
       "      <th>Job #</th>\n",
       "      <th>Branch</th>\n",
       "      <th>Sup Name</th>\n",
       "      <th>Rep Name</th>\n",
       "      <th>BC Name</th>\n",
       "      <th>OB Name</th>\n",
       "      <th>FTA Name</th>\n",
       "      <th>GM Name</th>\n",
       "    </tr>\n",
       "  </thead>\n",
       "  <tbody>\n",
       "    <tr>\n",
       "      <th>0</th>\n",
       "      <td>5006023896</td>\n",
       "      <td>1937392</td>\n",
       "      <td>DEN</td>\n",
       "      <td>Sam Saslow</td>\n",
       "      <td>Sam Saslow</td>\n",
       "      <td>Jason Clark</td>\n",
       "      <td>Maegan Walls</td>\n",
       "      <td>Matthew Anderson</td>\n",
       "      <td>Luke Mickelson</td>\n",
       "    </tr>\n",
       "    <tr>\n",
       "      <th>1</th>\n",
       "      <td>JDI40733</td>\n",
       "      <td>1937347</td>\n",
       "      <td>FCO</td>\n",
       "      <td>Calihan Dierenfield</td>\n",
       "      <td>Lincoln Schultz</td>\n",
       "      <td>Joe Lunghamer</td>\n",
       "      <td>Linnea Johnson</td>\n",
       "      <td>Jacob Diebold</td>\n",
       "      <td>NaN</td>\n",
       "    </tr>\n",
       "    <tr>\n",
       "      <th>2</th>\n",
       "      <td>QL4373</td>\n",
       "      <td>1937253</td>\n",
       "      <td>FCO</td>\n",
       "      <td>Jasper Gantick</td>\n",
       "      <td>Brady Reed</td>\n",
       "      <td>Marc DeBellis</td>\n",
       "      <td>Maegan Walls</td>\n",
       "      <td>Will Frost</td>\n",
       "      <td>NaN</td>\n",
       "    </tr>\n",
       "    <tr>\n",
       "      <th>3</th>\n",
       "      <td>ICK7564</td>\n",
       "      <td>1937247</td>\n",
       "      <td>DEN</td>\n",
       "      <td>Sam Saslow</td>\n",
       "      <td>Sam Saslow</td>\n",
       "      <td>Patrick Donahue</td>\n",
       "      <td>Hannah Perkins</td>\n",
       "      <td>Matthew Anderson</td>\n",
       "      <td>Luke Mickelson</td>\n",
       "    </tr>\n",
       "    <tr>\n",
       "      <th>4</th>\n",
       "      <td>1467215814</td>\n",
       "      <td>1937224</td>\n",
       "      <td>KCI</td>\n",
       "      <td>Aaron Cohen</td>\n",
       "      <td>Penny Savely</td>\n",
       "      <td>Carl Piotrowski</td>\n",
       "      <td>Maegan Walls</td>\n",
       "      <td>Gustavo Hernandez</td>\n",
       "      <td>Glen Stockdall Jr.</td>\n",
       "    </tr>\n",
       "  </tbody>\n",
       "</table>\n",
       "</div>"
      ],
      "text/plain": [
       "      Claim #    Job # Branch             Sup Name         Rep Name  \\\n",
       "0  5006023896  1937392    DEN           Sam Saslow       Sam Saslow   \n",
       "1    JDI40733  1937347    FCO  Calihan Dierenfield  Lincoln Schultz   \n",
       "2      QL4373  1937253    FCO       Jasper Gantick       Brady Reed   \n",
       "3     ICK7564  1937247    DEN           Sam Saslow       Sam Saslow   \n",
       "4  1467215814  1937224    KCI          Aaron Cohen     Penny Savely   \n",
       "\n",
       "           BC Name         OB Name           FTA Name             GM Name  \n",
       "0      Jason Clark    Maegan Walls   Matthew Anderson      Luke Mickelson  \n",
       "1    Joe Lunghamer  Linnea Johnson      Jacob Diebold                 NaN  \n",
       "2    Marc DeBellis    Maegan Walls         Will Frost                 NaN  \n",
       "3  Patrick Donahue  Hannah Perkins   Matthew Anderson      Luke Mickelson  \n",
       "4  Carl Piotrowski    Maegan Walls  Gustavo Hernandez  Glen Stockdall Jr.  "
      ]
     },
     "execution_count": 44,
     "metadata": {},
     "output_type": "execute_result"
    }
   ],
   "source": [
    "# created 'teammate_df' to hold all teammate info for jobs\n",
    "teammate_df = pd.read_csv(teammate_data, dtype= object)\n",
    "\n",
    "#'production_teammate_df' holds teammate info for jobs in production\n",
    "production_teammate_df = teammate_df.loc[ teammate_df[\"Job #\"] == teammate_df[\"Job #\"], :]\n",
    "\n",
    "# renames the columns in 'production_teammate_df' \n",
    "production_teammate_df = production_teammate_df.rename(columns = {\n",
    "    \"[BC] Name\" : \"BC Name\",\n",
    "    \"Full Name\" : \"OB Name\",\n",
    "    \"Full Name.1\": \"FTA Name\",\n",
    "    \"Full Name.2\": \"GM Name\"\n",
    "})\n",
    "\n",
    "production_teammate_df.head()"
   ]
  },
  {
   "cell_type": "markdown",
   "metadata": {},
   "source": [
    "# Comparing Data"
   ]
  },
  {
   "cell_type": "markdown",
   "metadata": {
    "heading_collapsed": true
   },
   "source": [
    "## Merge 'In Production' and 'Most Recent' dataframes\n",
    "**Merging dfs on the shared 'Claim #' Column**"
   ]
  },
  {
   "cell_type": "code",
   "execution_count": 45,
   "metadata": {
    "hidden": true
   },
   "outputs": [],
   "source": [
    "# merges 'in_production_df' and 'unique_improv_dates_df' on the 'claim #' column\n",
    "merged_df = pd.merge(in_production_df, unique_improv_dates_df, how= 'left', on=\"Claim #\")"
   ]
  },
  {
   "cell_type": "markdown",
   "metadata": {
    "heading_collapsed": true
   },
   "source": [
    "## Compare the 'Submit' and 'Improvement' Dates\n",
    "**If 'Improvement' Date exists, use instead of 'Submit' Date**"
   ]
  },
  {
   "cell_type": "code",
   "execution_count": 46,
   "metadata": {
    "hidden": true
   },
   "outputs": [],
   "source": [
    "# list to store either 'submit' date or 'improvement' date to update 'workflow_df'\n",
    "correct_submit_date = []\n",
    "\n",
    "# iterates over the 'merged_df' to address 'submit for estimate' and 'improvement' dates\n",
    "for index, row in merged_df.iterrows():\n",
    "  \n",
    "  # if 'improvement' date is empty, use 'submit for estimate' for calculations\n",
    "  if row['Improvement Date'] != row['Improvement Date'] :\n",
    "\n",
    "    # adding the original date to the 'correct' list\n",
    "    correct_submit_date.append(row['Submit for Estimate Date'])\n",
    "    \n",
    "  # ...if not, use 'improvement' date for calculations\n",
    "  else:\n",
    "\n",
    "    # adding the 'improvement' date to the 'correct' list\n",
    "    correct_submit_date.append(row['Improvement Date'])"
   ]
  },
  {
   "cell_type": "markdown",
   "metadata": {
    "heading_collapsed": true
   },
   "source": [
    "## Create 'Workflow' dataframe w/correct Dates\n",
    "**'Workflow' df contains jobs currently in production**"
   ]
  },
  {
   "cell_type": "code",
   "execution_count": 47,
   "metadata": {
    "hidden": true
   },
   "outputs": [],
   "source": [
    "#  using 'correct_submit_date' list; used to create the 'days' df\n",
    "workflow_df = pd.DataFrame({\n",
    "    'Claim #': merged_df['Claim #'],\n",
    "    'Job #': merged_df['Job #_x'],\n",
    "    'Claim # Date':merged_df['Claim # Date'],\n",
    "    'FTA Scope. Req Date': merged_df['FTA Scope. Req Date'],\n",
    "    'Submit for Estimate Date': correct_submit_date,\n",
    "    '[OB] Created Scope Calc': merged_df['[OB] Created Scope Calc'],\n",
    "    '[B] Created Estimate Date': merged_df['[B] Created Estimate Date'],\n",
    "    'Job Submittal Date': merged_df['Job Submittal Date'],\n",
    "    '[B] - Date Approved by BC': merged_df['[B] - Date Approved by BC'],\n",
    "    '[OB] Completed': merged_df['[OB] Completed']\n",
    "})"
   ]
  },
  {
   "cell_type": "markdown",
   "metadata": {
    "heading_collapsed": true
   },
   "source": [
    "## Creating 'Workflow Days' Value from 'workflow_df'"
   ]
  },
  {
   "cell_type": "code",
   "execution_count": 48,
   "metadata": {
    "hidden": true
   },
   "outputs": [],
   "source": [
    "# list to store the 'date diffs' value for each step'\n",
    "claim_num = []\n",
    "job_num = []\n",
    "rep_claim_diff = []\n",
    "fta_scope_diff = []\n",
    "ob_scope_diff = []\n",
    "bc_estimate_diff = []\n",
    "sup_pfynr_diff = []\n",
    "bc_approval_diff = []\n",
    "ob_order_build_diff = []\n",
    "total_days = []\n",
    "\n",
    "# iterating over the df to create 'date diff' variables\n",
    "for index, row in workflow_df.iterrows():\n",
    "\n",
    "    # creating 'date_diff' variables for each step in the workflow\n",
    "    rep_claim_date_diff = (row[\"FTA Scope. Req Date\"] - row[\"Claim # Date\"]).days\n",
    "    fta_date_diff = (row[\"Submit for Estimate Date\"] - row[\"FTA Scope. Req Date\"]).days\n",
    "    ob_scope_date_diff = (row['[OB] Created Scope Calc'] - row['Submit for Estimate Date']).days\n",
    "    bc_estimate_date_diff = (row['[B] Created Estimate Date'] - row['[OB] Created Scope Calc']).days\n",
    "    sup_pfynr_date_diff = (row[\"Job Submittal Date\"] - row[\"[B] Created Estimate Date\"]).days\n",
    "    bc_approval_date_diff = (row[\"[B] - Date Approved by BC\"] - row[\"Job Submittal Date\"]).days\n",
    "    ob_orderbuild_date_diff = (row['[OB] Completed'] - row['[B] - Date Approved by BC']).days\n",
    "\n",
    "    # adding up all of the 'date_diff' variables above and assigning to 'total_days_sum'\n",
    "    day_diffs = [rep_claim_date_diff, fta_date_diff, ob_scope_date_diff, bc_estimate_date_diff,\n",
    "                 sup_pfynr_date_diff, bc_approval_date_diff, ob_orderbuild_date_diff]\n",
    "    total_days_sum = sum(day_diffs)\n",
    "\n",
    "    # appending 'date diff' values to lists to create each df column\n",
    "    claim_num.append(row[\"Claim #\"])\n",
    "    job_num.append(row[\"Job #\"])\n",
    "    rep_claim_diff.append(rep_claim_date_diff)\n",
    "    fta_scope_diff.append(fta_date_diff)\n",
    "    ob_scope_diff.append(ob_scope_date_diff)\n",
    "    bc_estimate_diff.append(bc_estimate_date_diff)\n",
    "    sup_pfynr_diff.append(sup_pfynr_date_diff)\n",
    "    bc_approval_diff.append(bc_approval_date_diff)\n",
    "    ob_order_build_diff.append(ob_orderbuild_date_diff)\n",
    "    total_days.append(total_days_sum)\n",
    "\n",
    "# creating the 'days_df' to hold all date values for each role in the project\n",
    "days_df = pd.DataFrame({\n",
    "    \"claim_#\": claim_num,\n",
    "    \"job_#\": job_num,\n",
    "    \"rep_claim\": rep_claim_diff,\n",
    "    \"fta_scope\": fta_scope_diff,\n",
    "    \"ob_scope\": ob_scope_diff,\n",
    "    \"bc_estimate\": bc_estimate_diff,\n",
    "    \"sup_pfynr\": sup_pfynr_diff,\n",
    "    \"bc_approval\": bc_approval_diff,\n",
    "    \"ob_orderbuild\": ob_order_build_diff,\n",
    "    \"total_days\": total_days\n",
    "})"
   ]
  },
  {
   "cell_type": "markdown",
   "metadata": {
    "heading_collapsed": true
   },
   "source": [
    "# Export Data"
   ]
  },
  {
   "cell_type": "code",
   "execution_count": 49,
   "metadata": {
    "hidden": true
   },
   "outputs": [],
   "source": [
    "# 'In Production','Workflow Days', and 'teammates' CSVs\n",
    "workflow_df.to_csv(\"data/in_production.csv\", index=False)\n",
    "days_df.to_csv(\"data/workflow_days.csv\", index=False)\n",
    "production_teammate_df.to_csv(\"data/teammates.csv\", index=False)"
   ]
  }
 ],
 "metadata": {
  "kernelspec": {
   "display_name": "Python 3",
   "language": "python",
   "name": "python3"
  },
  "language_info": {
   "codemirror_mode": {
    "name": "ipython",
    "version": 3
   },
   "file_extension": ".py",
   "mimetype": "text/x-python",
   "name": "python",
   "nbconvert_exporter": "python",
   "pygments_lexer": "ipython3",
   "version": "3.7.1"
  },
  "toc": {
   "base_numbering": 1,
   "nav_menu": {},
   "number_sections": true,
   "sideBar": true,
   "skip_h1_title": false,
   "title_cell": "Table of Contents",
   "title_sidebar": "Contents",
   "toc_cell": false,
   "toc_position": {},
   "toc_section_display": true,
   "toc_window_display": false
  },
  "varInspector": {
   "cols": {
    "lenName": "50",
    "lenType": 16,
    "lenVar": 40
   },
   "kernels_config": {
    "python": {
     "delete_cmd_postfix": "",
     "delete_cmd_prefix": "del ",
     "library": "var_list.py",
     "varRefreshCmd": "print(var_dic_list())"
    },
    "r": {
     "delete_cmd_postfix": ") ",
     "delete_cmd_prefix": "rm(",
     "library": "var_list.r",
     "varRefreshCmd": "cat(var_dic_list()) "
    }
   },
   "types_to_exclude": [
    "module",
    "function",
    "builtin_function_or_method",
    "instance",
    "_Feature"
   ],
   "window_display": false
  }
 },
 "nbformat": 4,
 "nbformat_minor": 2
}
