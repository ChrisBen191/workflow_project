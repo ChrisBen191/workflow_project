{
 "cells": [
  {
   "cell_type": "markdown",
   "metadata": {},
   "source": [
    "# Setup"
   ]
  },
  {
   "cell_type": "markdown",
   "metadata": {},
   "source": [
    "## Dependencies"
   ]
  },
  {
   "cell_type": "code",
   "execution_count": 105,
   "metadata": {},
   "outputs": [],
   "source": [
    "import pandas as pd\n",
    "from datetime import datetime"
   ]
  },
  {
   "cell_type": "markdown",
   "metadata": {},
   "source": [
    "## Import Data"
   ]
  },
  {
   "cell_type": "code",
   "execution_count": 106,
   "metadata": {},
   "outputs": [],
   "source": [
    "# imports the '[W] Customers Table Audit' data\n",
    "project_data = \"./data/customers_table.csv\"\n",
    "\n",
    "# imports '[W] Scope Improvements' data\n",
    "improvements_data = \"./data/improvement_table.csv\"\n",
    "\n",
    "# imports '[W] Teammate Audit' data\n",
    "teammate_data = \"./data/teammate_table.csv\""
   ]
  },
  {
   "cell_type": "markdown",
   "metadata": {},
   "source": [
    "# Parsing Data"
   ]
  },
  {
   "cell_type": "markdown",
   "metadata": {},
   "source": [
    "## Separate 'In Production' Jobs\n",
    "\n",
    "**Jobs where '[OB] Completed' and 'Job #' is not blank**"
   ]
  },
  {
   "cell_type": "code",
   "execution_count": 107,
   "metadata": {},
   "outputs": [],
   "source": [
    "project_df = pd.read_csv(\n",
    "    project_data, dtype={'Claim #': str, 'Job #': str},\n",
    "    parse_dates=[\n",
    "        'Claim # Date',\n",
    "        'FTA Scope. Req Date',\n",
    "        'Submit for Estimate Date',\n",
    "        '[OB] Created Scope Calc',\n",
    "        '[B] Created Estimate Date',\n",
    "        'Job Submittal Date',\n",
    "        '[B] - Date Approved by BC',\n",
    "        '[OB] Completed']\n",
    ")\n",
    "\n",
    "# created 'in_production_df' to hold all current jobs in production, to avoid 'NaN' date values\n",
    "in_production_df = (project_df.loc[(project_df['[OB] Completed'].isnull() == False) & \n",
    "                                   (project_df[\"Job #\"].isnull() == False), :])"
   ]
  },
  {
   "cell_type": "markdown",
   "metadata": {},
   "source": [
    "## Separate 'Most Recent' Improvement\n",
    "\n",
    "**Most recent FTA Scope Improvement submitted by the OB**"
   ]
  },
  {
   "cell_type": "code",
   "execution_count": 108,
   "metadata": {},
   "outputs": [],
   "source": [
    "# created 'improvements_df' to hold all dates of fta scope rejections to use correct date\n",
    "improvements_df = pd.read_csv(\n",
    "    improvements_data,\n",
    "    dtype={'Claim #': str, 'Job #': str},\n",
    "    parse_dates=['Created'])\n",
    "\n",
    "# 'improvement_dates_df' holds all current jobs in production, to avoid 'NaN' date values\n",
    "improvement_dates_df = improvements_df.loc[improvements_df[\"Job #\"].isnull() == False, :]\n",
    "\n",
    "# 'unique_improv_dates_df' holds most recent 'created' dates for improvements;\n",
    "# 'idmax()' provides the most current date\n",
    "unique_improv_dates_df = improvement_dates_df.loc[\n",
    "    improvement_dates_df.groupby('Claim #')['Created'].idxmax()]\n",
    "\n",
    "\n",
    "# renaming the 'unique improvements' df to make it easier to merge\n",
    "unique_improv_dates_df = unique_improv_dates_df.rename(columns={\"Created\": \"Improvement Date\"})"
   ]
  },
  {
   "cell_type": "markdown",
   "metadata": {},
   "source": [
    "## Separate 'Teammate' Information\n",
    "\n",
    "**Only keep Jobs that are in production**"
   ]
  },
  {
   "cell_type": "code",
   "execution_count": 109,
   "metadata": {},
   "outputs": [],
   "source": [
    "# created 'teammate_df' to hold all teammate info for jobs\n",
    "teammate_df = pd.read_csv(teammate_data, dtype= object)\n",
    "\n",
    "#'production_teammate_df' holds teammate info for jobs in production\n",
    "production_teammate_df = teammate_df.loc[ teammate_df[\"Job #\"].isnull() == False, :]\n",
    "\n",
    "# renames the columns in 'production_teammate_df' \n",
    "production_teammate_df = production_teammate_df.rename(columns = {\n",
    "    \"[BC] Name\" : \"BC Name\",\n",
    "    \"Full Name\" : \"OB Name\",\n",
    "    \"Full Name.1\": \"FTA Name\",\n",
    "    \"Full Name.2\": \"GM Name\"\n",
    "})"
   ]
  },
  {
   "cell_type": "markdown",
   "metadata": {},
   "source": [
    "# Comparing Data"
   ]
  },
  {
   "cell_type": "markdown",
   "metadata": {},
   "source": [
    "## Merge 'In Production' and 'Most Recent' dataframes\n",
    "**Merging dfs on the shared 'Claim #' Column**"
   ]
  },
  {
   "cell_type": "code",
   "execution_count": 110,
   "metadata": {},
   "outputs": [],
   "source": [
    "# merges 'in_production_df' and 'unique_improv_dates_df' on the 'claim #' column\n",
    "merged_df = pd.merge(in_production_df, unique_improv_dates_df, how= 'left', on=\"Claim #\")"
   ]
  },
  {
   "cell_type": "markdown",
   "metadata": {},
   "source": [
    "## Compare the 'Submit' and 'Improvement' Dates\n",
    "**If 'Improvement' Date exists, use instead of 'Submit' Date**"
   ]
  },
  {
   "cell_type": "code",
   "execution_count": 111,
   "metadata": {},
   "outputs": [],
   "source": [
    "# list to store either 'submit' date or 'improvement' date to update 'workflow_df'\n",
    "correct_submit_date = []\n",
    "\n",
    "# counter to keep track of how many files have been updated with 'improvement' date\n",
    "record_change_count = 0\n",
    "\n",
    "# iterates over the 'merged_df' to address 'submit for estimate' and 'improvement' dates\n",
    "for index, row in merged_df.iterrows():\n",
    "    \n",
    "    # if 'improvement' date is empty, use 'submit for estimate' for calculations\n",
    "    if row['Improvement Date'] != row['Improvement Date'] :\n",
    "\n",
    "        # adding the original date to the 'correct' list\n",
    "        correct_submit_date.append(row['Submit for Estimate Date'])\n",
    "    \n",
    "    # ...if not, use 'improvement' date for calculations\n",
    "    else:\n",
    "        # adding the 'improvement' date to the 'correct' list\n",
    "        correct_submit_date.append(row['Improvement Date'])\n",
    "        record_change_count += 1"
   ]
  },
  {
   "cell_type": "markdown",
   "metadata": {},
   "source": [
    "## Create 'Workflow' dataframe w/correct Dates\n",
    "**'Workflow' df contains jobs currently in production**"
   ]
  },
  {
   "cell_type": "code",
   "execution_count": 112,
   "metadata": {},
   "outputs": [],
   "source": [
    "#  using 'correct_submit_date' list; used to create the 'days' df\n",
    "workflow_df = pd.DataFrame({\n",
    "    'Claim #': merged_df['Claim #'],\n",
    "    'Job #': merged_df['Job #_x'],\n",
    "    'Claim # Date':merged_df['Claim # Date'],\n",
    "    'FTA Scope. Req Date': merged_df['FTA Scope. Req Date'],\n",
    "    'Submit for Estimate Date': correct_submit_date,\n",
    "    '[OB] Created Scope Calc': merged_df['[OB] Created Scope Calc'],\n",
    "    '[B] Created Estimate Date': merged_df['[B] Created Estimate Date'],\n",
    "    'Job Submittal Date': merged_df['Job Submittal Date'],\n",
    "    '[B] - Date Approved by BC': merged_df['[B] - Date Approved by BC'],\n",
    "    '[OB] Completed': merged_df['[OB] Completed']\n",
    "})"
   ]
  },
  {
   "cell_type": "markdown",
   "metadata": {},
   "source": [
    "## Creating 'Workflow Days' Value from 'workflow_df'"
   ]
  },
  {
   "cell_type": "code",
   "execution_count": 113,
   "metadata": {},
   "outputs": [],
   "source": [
    "# list to store the 'date diffs' value for each step'\n",
    "claim_num = []\n",
    "job_num = []\n",
    "rep_claim_diff = []\n",
    "fta_scope_diff = []\n",
    "ob_scope_diff = []\n",
    "bc_estimate_diff = []\n",
    "sup_pfynr_diff = []\n",
    "bc_approval_diff = []\n",
    "ob_order_build_diff = []\n",
    "total_days = []\n",
    "\n",
    "# iterating over the df to create 'date diff' variables\n",
    "for index, row in workflow_df.iterrows():\n",
    "\n",
    "    # creating 'date_diff' variables for each step in the workflow\n",
    "    rep_claim_date_diff = (row[\"FTA Scope. Req Date\"] - row[\"Claim # Date\"]).days\n",
    "    fta_date_diff = (row[\"Submit for Estimate Date\"] - row[\"FTA Scope. Req Date\"]).days\n",
    "    ob_scope_date_diff = (row['[OB] Created Scope Calc'] - row['Submit for Estimate Date']).days\n",
    "    bc_estimate_date_diff = (row['[B] Created Estimate Date'] - row['[OB] Created Scope Calc']).days\n",
    "    sup_pfynr_date_diff = (row[\"Job Submittal Date\"] - row[\"[B] Created Estimate Date\"]).days\n",
    "    bc_approval_date_diff = (row[\"[B] - Date Approved by BC\"] - row[\"Job Submittal Date\"]).days\n",
    "    ob_orderbuild_date_diff = (row['[OB] Completed'] - row['[B] - Date Approved by BC']).days\n",
    "\n",
    "    # adding up all of the 'date_diff' variables above and assigning to 'total_days_sum'\n",
    "    day_diffs = [rep_claim_date_diff, fta_date_diff, ob_scope_date_diff, bc_estimate_date_diff,\n",
    "                 sup_pfynr_date_diff, bc_approval_date_diff, ob_orderbuild_date_diff]\n",
    "    total_days_sum = sum(day_diffs)\n",
    "\n",
    "    # appending 'date diff' values to lists to create each df column\n",
    "    claim_num.append(row[\"Claim #\"])\n",
    "    job_num.append(row[\"Job #\"])\n",
    "    rep_claim_diff.append(rep_claim_date_diff)\n",
    "    fta_scope_diff.append(fta_date_diff)\n",
    "    ob_scope_diff.append(ob_scope_date_diff)\n",
    "    bc_estimate_diff.append(bc_estimate_date_diff)\n",
    "    sup_pfynr_diff.append(sup_pfynr_date_diff)\n",
    "    bc_approval_diff.append(bc_approval_date_diff)\n",
    "    ob_order_build_diff.append(ob_orderbuild_date_diff)\n",
    "    total_days.append(total_days_sum)\n",
    "\n",
    "# creating the 'days_df' to hold all date values for each role in the project\n",
    "days_df = pd.DataFrame({\n",
    "    \"claim_#\": claim_num,\n",
    "    \"job_#\": job_num,\n",
    "    \"rep_claim\": rep_claim_diff,\n",
    "    \"fta_scope\": fta_scope_diff,\n",
    "    \"ob_scope\": ob_scope_diff,\n",
    "    \"bc_estimate\": bc_estimate_diff,\n",
    "    \"sup_pfynr\": sup_pfynr_diff,\n",
    "    \"bc_approval\": bc_approval_diff,\n",
    "    \"ob_orderbuild\": ob_order_build_diff,\n",
    "    \"total_days\": total_days\n",
    "})"
   ]
  },
  {
   "cell_type": "markdown",
   "metadata": {},
   "source": [
    "# Export Data"
   ]
  },
  {
   "cell_type": "code",
   "execution_count": 49,
   "metadata": {},
   "outputs": [],
   "source": [
    "# 'In Production','Workflow Days', and 'teammates' CSVs\n",
    "workflow_df.to_csv(\"data/in_production.csv\", index=False)\n",
    "days_df.to_csv(\"data/workflow_days.csv\", index=False)\n",
    "production_teammate_df.to_csv(\"data/teammates.csv\", index=False)"
   ]
  },
  {
   "cell_type": "markdown",
   "metadata": {},
   "source": [
    "# Terminal Report"
   ]
  },
  {
   "cell_type": "code",
   "execution_count": 116,
   "metadata": {},
   "outputs": [
    {
     "name": "stdout",
     "output_type": "stream",
     "text": [
      "WORKFLOW SUMMARY : beginning February 2019\n",
      "--------------------------------------------------\n",
      "RECORDS IN PRODUCTION (49.3%): 737\n",
      "UNIQUE FTA SCOPE REJECTIONS (67.23%): 316\n",
      "'SUBMIT ESTIMATE' CHANGED ON RECORD (41.11%): 303\n",
      "RECORDS WITH CREATED WORKFLOW INFORMATION: 737\n"
     ]
    }
   ],
   "source": [
    "print(\"WORKFLOW SUMMARY : beginning February 2019\")\n",
    "print(\"--------------------------------------------------\")\n",
    "print(f\"RECORDS IN PRODUCTION ({round((len(in_production_df) / len(project_df)) * 100, 2)}%): {len(in_production_df)}\")\n",
    "print(f\"UNIQUE FTA SCOPE REJECTIONS ({round((len(unique_improv_dates_df) / len(improvement_dates_df)) * 100, 2)}%): {len(unique_improv_dates_df)}\")\n",
    "print(f\"'SUBMIT ESTIMATE' CHANGED ON RECORD ({round((record_change_count / len(in_production_df))* 100, 2)}%): {record_change_count}\")\n",
    "print(f\"RECORDS WITH CREATED WORKFLOW INFORMATION: {len(days_df)}\")\n"
   ]
  }
 ],
 "metadata": {
  "kernelspec": {
   "display_name": "Python 3",
   "language": "python",
   "name": "python3"
  },
  "language_info": {
   "codemirror_mode": {
    "name": "ipython",
    "version": 3
   },
   "file_extension": ".py",
   "mimetype": "text/x-python",
   "name": "python",
   "nbconvert_exporter": "python",
   "pygments_lexer": "ipython3",
   "version": "3.7.1"
  },
  "toc": {
   "base_numbering": 1,
   "nav_menu": {},
   "number_sections": true,
   "sideBar": true,
   "skip_h1_title": false,
   "title_cell": "Table of Contents",
   "title_sidebar": "Contents",
   "toc_cell": false,
   "toc_position": {},
   "toc_section_display": true,
   "toc_window_display": false
  },
  "varInspector": {
   "cols": {
    "lenName": "50",
    "lenType": 16,
    "lenVar": 40
   },
   "kernels_config": {
    "python": {
     "delete_cmd_postfix": "",
     "delete_cmd_prefix": "del ",
     "library": "var_list.py",
     "varRefreshCmd": "print(var_dic_list())"
    },
    "r": {
     "delete_cmd_postfix": ") ",
     "delete_cmd_prefix": "rm(",
     "library": "var_list.r",
     "varRefreshCmd": "cat(var_dic_list()) "
    }
   },
   "types_to_exclude": [
    "module",
    "function",
    "builtin_function_or_method",
    "instance",
    "_Feature"
   ],
   "window_display": false
  }
 },
 "nbformat": 4,
 "nbformat_minor": 2
}
