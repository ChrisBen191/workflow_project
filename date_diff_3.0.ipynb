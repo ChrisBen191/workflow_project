{
 "cells": [
  {
   "cell_type": "markdown",
   "metadata": {},
   "source": [
    "# Setup"
   ]
  },
  {
   "cell_type": "markdown",
   "metadata": {},
   "source": [
    "## Dependencies"
   ]
  },
  {
   "cell_type": "code",
   "execution_count": 1,
   "metadata": {},
   "outputs": [],
   "source": [
    "import pandas as pd\n",
    "import sqlite3\n",
    "from datetime import datetime"
   ]
  },
  {
   "cell_type": "markdown",
   "metadata": {},
   "source": [
    "## Importing Data"
   ]
  },
  {
   "cell_type": "code",
   "execution_count": 10,
   "metadata": {},
   "outputs": [],
   "source": [
    "# imports each tv table data, via external csvs\n",
    "project_data = \"./data/customers_table.csv\"\n",
    "\n",
    "improvements_data = \"./data/improvements_table.csv\""
   ]
  },
  {
   "cell_type": "markdown",
   "metadata": {},
   "source": [
    "# Workflow Data"
   ]
  },
  {
   "cell_type": "markdown",
   "metadata": {},
   "source": [
    "## Separate completed Jobs to 'in_production_df'\n",
    "\n",
    "**Jobs where '[OB] Completed' and 'Job #' is not blank**"
   ]
  },
  {
   "cell_type": "code",
   "execution_count": 5,
   "metadata": {},
   "outputs": [
    {
     "data": {
      "text/html": [
       "<div>\n",
       "<style scoped>\n",
       "    .dataframe tbody tr th:only-of-type {\n",
       "        vertical-align: middle;\n",
       "    }\n",
       "\n",
       "    .dataframe tbody tr th {\n",
       "        vertical-align: top;\n",
       "    }\n",
       "\n",
       "    .dataframe thead th {\n",
       "        text-align: right;\n",
       "    }\n",
       "</style>\n",
       "<table border=\"1\" class=\"dataframe\">\n",
       "  <thead>\n",
       "    <tr style=\"text-align: right;\">\n",
       "      <th></th>\n",
       "      <th>Claim #</th>\n",
       "      <th>Job #</th>\n",
       "      <th>Claim # Date</th>\n",
       "      <th>FTA Scope. Req Date</th>\n",
       "      <th>Submit for Estimate Date</th>\n",
       "      <th>[OB] Created Scope Calc</th>\n",
       "      <th>[B] Created Estimate Date</th>\n",
       "      <th>Job Submittal Date</th>\n",
       "      <th>[B] - Date Approved by BC</th>\n",
       "      <th>[OB] Completed</th>\n",
       "    </tr>\n",
       "  </thead>\n",
       "  <tbody>\n",
       "    <tr>\n",
       "      <th>0</th>\n",
       "      <td>5006023896</td>\n",
       "      <td>1937392</td>\n",
       "      <td>2019-06-24</td>\n",
       "      <td>2019-06-24</td>\n",
       "      <td>2019-06-25</td>\n",
       "      <td>2019-06-27</td>\n",
       "      <td>2019-06-27</td>\n",
       "      <td>2019-06-27</td>\n",
       "      <td>2019-06-27</td>\n",
       "      <td>2019-06-28 14:52:00</td>\n",
       "    </tr>\n",
       "    <tr>\n",
       "      <th>1</th>\n",
       "      <td>001824322-412</td>\n",
       "      <td>1937164</td>\n",
       "      <td>2019-06-17</td>\n",
       "      <td>2019-06-17</td>\n",
       "      <td>2019-06-23</td>\n",
       "      <td>2019-06-24</td>\n",
       "      <td>2019-06-24</td>\n",
       "      <td>2019-06-27</td>\n",
       "      <td>2019-06-27</td>\n",
       "      <td>2019-06-28 11:05:00</td>\n",
       "    </tr>\n",
       "    <tr>\n",
       "      <th>2</th>\n",
       "      <td>3011280610-1-1</td>\n",
       "      <td>1937159</td>\n",
       "      <td>2019-06-19</td>\n",
       "      <td>2019-06-21</td>\n",
       "      <td>2019-06-24</td>\n",
       "      <td>2019-06-25</td>\n",
       "      <td>2019-06-26</td>\n",
       "      <td>2019-06-27</td>\n",
       "      <td>2019-06-28</td>\n",
       "      <td>NaT</td>\n",
       "    </tr>\n",
       "    <tr>\n",
       "      <th>3</th>\n",
       "      <td>017159602-91A-020</td>\n",
       "      <td>1937148</td>\n",
       "      <td>2019-06-15</td>\n",
       "      <td>2019-06-15</td>\n",
       "      <td>2019-06-17</td>\n",
       "      <td>2019-06-20</td>\n",
       "      <td>2019-06-20</td>\n",
       "      <td>2019-06-27</td>\n",
       "      <td>2019-06-27</td>\n",
       "      <td>2019-06-27 13:59:00</td>\n",
       "    </tr>\n",
       "    <tr>\n",
       "      <th>4</th>\n",
       "      <td>HO2224472</td>\n",
       "      <td>1937146</td>\n",
       "      <td>2019-06-15</td>\n",
       "      <td>2019-06-16</td>\n",
       "      <td>2019-06-25</td>\n",
       "      <td>2019-06-28</td>\n",
       "      <td>2019-06-28</td>\n",
       "      <td>2019-06-30</td>\n",
       "      <td>2019-07-01</td>\n",
       "      <td>NaT</td>\n",
       "    </tr>\n",
       "  </tbody>\n",
       "</table>\n",
       "</div>"
      ],
      "text/plain": [
       "             Claim #    Job # Claim # Date FTA Scope. Req Date  \\\n",
       "0         5006023896  1937392   2019-06-24          2019-06-24   \n",
       "1      001824322-412  1937164   2019-06-17          2019-06-17   \n",
       "2     3011280610-1-1  1937159   2019-06-19          2019-06-21   \n",
       "3  017159602-91A-020  1937148   2019-06-15          2019-06-15   \n",
       "4          HO2224472  1937146   2019-06-15          2019-06-16   \n",
       "\n",
       "  Submit for Estimate Date [OB] Created Scope Calc [B] Created Estimate Date  \\\n",
       "0               2019-06-25              2019-06-27                2019-06-27   \n",
       "1               2019-06-23              2019-06-24                2019-06-24   \n",
       "2               2019-06-24              2019-06-25                2019-06-26   \n",
       "3               2019-06-17              2019-06-20                2019-06-20   \n",
       "4               2019-06-25              2019-06-28                2019-06-28   \n",
       "\n",
       "  Job Submittal Date [B] - Date Approved by BC      [OB] Completed  \n",
       "0         2019-06-27                2019-06-27 2019-06-28 14:52:00  \n",
       "1         2019-06-27                2019-06-27 2019-06-28 11:05:00  \n",
       "2         2019-06-27                2019-06-28                 NaT  \n",
       "3         2019-06-27                2019-06-27 2019-06-27 13:59:00  \n",
       "4         2019-06-30                2019-07-01                 NaT  "
      ]
     },
     "execution_count": 5,
     "metadata": {},
     "output_type": "execute_result"
    }
   ],
   "source": [
    "# mydateparser = lambda x: pd.datetime.strptime(x, \"%Y %m %d %H:%M:%S\")\n",
    "\n",
    "# reading the project data into a df\n",
    "project_df = pd.read_csv(project_data,\n",
    "                         dtype={'Claim #': str, 'Job #': str},\n",
    "                         parse_dates=['Claim # Date', 'FTA Scope. Req Date',\n",
    "                                      'Submit for Estimate Date', '[OB] Created Scope Calc',\n",
    "                                      '[B] Created Estimate Date', 'Job Submittal Date',\n",
    "                                      '[B] - Date Approved by BC', '[OB] Completed'],)\n",
    "\n",
    "# created 'in_production_df' to hold all current jobs in production, to avoid 'NaN' date values\n",
    "in_production_df = (project_df.loc[\n",
    "    (project_df['[OB] Completed'].isnull() == False) & \n",
    "    (project_df[\"Job #\"].isnull() == False), :])\n",
    "\n",
    "pre_production_df = (project_df.loc[(project_df[\"Job #\"].isnull() == True), :])\n",
    "\n",
    "\n",
    "project_df.head()"
   ]
  },
  {
   "cell_type": "code",
   "execution_count": 50,
   "metadata": {},
   "outputs": [],
   "source": [
    "# created 'improvements_df' to hold all dates of fta scope rejections to use correct date\n",
    "improvements_df = pd.read_csv(improvements_data,\n",
    "                              dtype={'Claim #': str, 'Job #': str},\n",
    "                              parse_dates=['Submit for Estimate Date', 'Created'])\n",
    "\n",
    "# 'improvement_dates_df' holds all current jobs in production, to avoid 'NaN' date values\n",
    "improvement_dates_df = improve_df.loc[improve_df[\"Job #\"].isnull() == False, :]\n",
    "\n",
    "# 'unique_improv_dates_df' holds most recent 'created' dates for \n",
    "unique_improv_dates_df = improvement_dates_df.loc[improvement_dates_df.groupby(\n",
    "    'Claim #')['Created'].idxmax()]\n",
    "\n",
    "\n",
    "# will need to update the csv to remove 'submit for estimate' date\n",
    "df.rename(columns = {\n",
    "  \"Claim #\" : \"Claim #\",\n",
    "  \"Job #\" : \"Job #\",\n",
    "    \"Created\":\"Improvement Date\",\n",
    "})"
   ]
  },
  {
   "cell_type": "markdown",
   "metadata": {},
   "source": [
    "# **Want to compare the 'production_df' against the 'improvement_dates_df' before creating a 'days_df'**"
   ]
  },
  {
   "cell_type": "code",
   "execution_count": 51,
   "metadata": {},
   "outputs": [
    {
     "name": "stdout",
     "output_type": "stream",
     "text": [
      "Claim #                      641\n",
      "Job #                        642\n",
      "Claim # Date                 642\n",
      "FTA Scope. Req Date          642\n",
      "Submit for Estimate Date     642\n",
      "[OB] Created Scope Calc      642\n",
      "[B] Created Estimate Date    642\n",
      "Job Submittal Date           642\n",
      "[B] - Date Approved by BC    642\n",
      "[OB] Completed               642\n",
      "dtype: int64\n",
      "----------------------------------------\n",
      "Claim #                     423\n",
      "Job #                       424\n",
      "Submit for Estimate Date    424\n",
      "Created                     424\n",
      "dtype: int64\n",
      "----------------------------------------\n",
      "Claim #                     290\n",
      "Job #                       290\n",
      "Submit for Estimate Date    290\n",
      "Created                     290\n",
      "dtype: int64\n"
     ]
    }
   ],
   "source": [
    "print(in_production_df.count())\n",
    "print('----------------------------------------')\n",
    "print(improvement_dates_df.count())\n",
    "print('----------------------------------------')\n",
    "print(unique_improv_dates_df.count())"
   ]
  },
  {
   "cell_type": "code",
   "execution_count": 52,
   "metadata": {},
   "outputs": [
    {
     "data": {
      "text/html": [
       "<div>\n",
       "<style scoped>\n",
       "    .dataframe tbody tr th:only-of-type {\n",
       "        vertical-align: middle;\n",
       "    }\n",
       "\n",
       "    .dataframe tbody tr th {\n",
       "        vertical-align: top;\n",
       "    }\n",
       "\n",
       "    .dataframe thead th {\n",
       "        text-align: right;\n",
       "    }\n",
       "</style>\n",
       "<table border=\"1\" class=\"dataframe\">\n",
       "  <thead>\n",
       "    <tr style=\"text-align: right;\">\n",
       "      <th></th>\n",
       "      <th>Claim #</th>\n",
       "      <th>Job #</th>\n",
       "      <th>Submit for Estimate Date</th>\n",
       "      <th>Created</th>\n",
       "    </tr>\n",
       "  </thead>\n",
       "  <tbody>\n",
       "    <tr>\n",
       "      <th>5</th>\n",
       "      <td>00125106691A002</td>\n",
       "      <td>1937116</td>\n",
       "      <td>2019-06-20</td>\n",
       "      <td>2019-06-21 11:56:00</td>\n",
       "    </tr>\n",
       "    <tr>\n",
       "      <th>6</th>\n",
       "      <td>001771944</td>\n",
       "      <td>1935841</td>\n",
       "      <td>2019-05-16</td>\n",
       "      <td>2019-05-17 14:00:00</td>\n",
       "    </tr>\n",
       "    <tr>\n",
       "      <th>12</th>\n",
       "      <td>00225357330</td>\n",
       "      <td>1935033</td>\n",
       "      <td>2019-02-04</td>\n",
       "      <td>2019-02-08 09:52:00</td>\n",
       "    </tr>\n",
       "    <tr>\n",
       "      <th>14</th>\n",
       "      <td>002761823-615</td>\n",
       "      <td>1935789</td>\n",
       "      <td>2019-05-14</td>\n",
       "      <td>2019-05-14 15:55:00</td>\n",
       "    </tr>\n",
       "    <tr>\n",
       "      <th>15</th>\n",
       "      <td>00315128417</td>\n",
       "      <td>1935190</td>\n",
       "      <td>2019-03-26</td>\n",
       "      <td>2019-03-27 13:48:00</td>\n",
       "    </tr>\n",
       "  </tbody>\n",
       "</table>\n",
       "</div>"
      ],
      "text/plain": [
       "            Claim #    Job # Submit for Estimate Date             Created\n",
       "5   00125106691A002  1937116               2019-06-20 2019-06-21 11:56:00\n",
       "6         001771944  1935841               2019-05-16 2019-05-17 14:00:00\n",
       "12      00225357330  1935033               2019-02-04 2019-02-08 09:52:00\n",
       "14    002761823-615  1935789               2019-05-14 2019-05-14 15:55:00\n",
       "15      00315128417  1935190               2019-03-26 2019-03-27 13:48:00"
      ]
     },
     "execution_count": 52,
     "metadata": {},
     "output_type": "execute_result"
    }
   ],
   "source": [
    "unique_improv_dates_df.head()"
   ]
  },
  {
   "cell_type": "markdown",
   "metadata": {},
   "source": [
    "## Create the 'days_df' holding days information"
   ]
  },
  {
   "cell_type": "code",
   "execution_count": 25,
   "metadata": {},
   "outputs": [],
   "source": [
    "# lists to collect the 'date diffs'\n",
    "claim_num = []                         \n",
    "job_num = []\n",
    "rep_claim_diff = []\n",
    "fta_scopes_diff = []\n",
    "ob_scope_diff = []\n",
    "bc_estimate_diff = []\n",
    "sup_pfynr_diff = []\n",
    "bc_approvals_diff = []\n",
    "ob_order_builds_diff = []\n",
    "total_days = []\n",
    "\n",
    "# iterating over the df to create 'date diff' variables\n",
    "for index, row in in_production_df.iterrows():\n",
    "\n",
    "    # creating 'date_diff' variables for each step in the workflow\n",
    "    rep_claim_date_diff = (row[\"FTA Scope. Req Date\"] - row[\"Claim # Date\"]).days\n",
    "    fta_date_diff = (row[\"Submit for Estimate Date\"] - row[\"FTA Scope. Req Date\"]).days\n",
    "    ob_scope_date_diff = (row['[OB] Created Scope Calc'] - row['Submit for Estimate Date']).days\n",
    "    bc_estimate_date_diff = (row['[B] Created Estimate Date'] - row['[OB] Created Scope Calc']).days\n",
    "    sup_pfynr_date_diff = (row[\"Job Submittal Date\"] - row[\"[B] Created Estimate Date\"]).days\n",
    "    bc_approval_date_diff = (row[\"[B] - Date Approved by BC\"] - row[\"Job Submittal Date\"]).days\n",
    "    ob_orderbuild_date_diff = (row['[OB] Completed'] - row['[B] - Date Approved by BC']).days\n",
    "    \n",
    "    # adding up all of the 'date_diff' variables above and assigning to 'total_days_sum'\n",
    "    day_diffs = [rep_claim_date_diff, fta_date_diff, ob_scope_date_diff, bc_estimate_date_diff, sup_pfynr_date_diff, bc_approval_date_diff, ob_orderbuild_date_diff]\n",
    "    total_days_sum = sum(day_diffs)\n",
    "\n",
    "    # appending 'date diff' values to lists to create each df column\n",
    "    claim_num.append(row[\"Claim #\"])\n",
    "    job_num.append(row[\"Job #\"])\n",
    "    rep_claim_diff.append(rep_claim_date_diff)\n",
    "    fta_scopes_diff.append(fta_date_diff)\n",
    "    ob_scope_diff.append(ob_scope_date_diff)\n",
    "    bc_estimate_diff.append(bc_estimate_date_diff)\n",
    "    sup_pfynr_diff.append(sup_pfynr_date_diff)\n",
    "    bc_approvals_diff.append(bc_approval_date_diff)\n",
    "    ob_order_builds_diff.append(ob_orderbuild_date_diff)\n",
    "    total_days.append(total_days_sum)\n",
    "\n",
    " # creating the 'days_df' to hold all date values for each role in the project\n",
    "days_df = pd.DataFrame({\n",
    "    \"claim_#\" : claim_num,\n",
    "    \"job_#\" : job_num,\n",
    "    \"rep_claim\" : rep_claim_diff, \n",
    "    \"fta_scope\" : fta_scopes_diff,\n",
    "    \"ob_scope\" : ob_scope_diff,\n",
    "    \"bc_estimate\" : bc_estimate_diff,\n",
    "    \"sup_pfynr\" : sup_pfynr_diff,\n",
    "    \"bc_approval\" : bc_approvals_diff,\n",
    "    \"ob_orderbuild\" : ob_order_builds_diff,\n",
    "    \"total_days\" : total_days\n",
    "})    \n"
   ]
  },
  {
   "cell_type": "markdown",
   "metadata": {
    "heading_collapsed": true
   },
   "source": [
    "# Export Data"
   ]
  },
  {
   "cell_type": "code",
   "execution_count": 27,
   "metadata": {
    "hidden": true
   },
   "outputs": [],
   "source": [
    "# writes the df to a csv file; 'index=True' writes row names (default)\n",
    "in_production_df.to_csv(\"data/in_production.csv\", index=False)\n",
    "\n",
    "pre_production_df.to_csv(\"data/pre_production.csv\", index=False)\n",
    "\n",
    "days_df.to_csv(\"data/workflow_days.csv\", index=False)"
   ]
  }
 ],
 "metadata": {
  "kernelspec": {
   "display_name": "Python 3",
   "language": "python",
   "name": "python3"
  },
  "language_info": {
   "codemirror_mode": {
    "name": "ipython",
    "version": 3
   },
   "file_extension": ".py",
   "mimetype": "text/x-python",
   "name": "python",
   "nbconvert_exporter": "python",
   "pygments_lexer": "ipython3",
   "version": "3.7.1"
  },
  "toc": {
   "base_numbering": 1,
   "nav_menu": {},
   "number_sections": true,
   "sideBar": true,
   "skip_h1_title": false,
   "title_cell": "Table of Contents",
   "title_sidebar": "Contents",
   "toc_cell": false,
   "toc_position": {},
   "toc_section_display": true,
   "toc_window_display": false
  },
  "varInspector": {
   "cols": {
    "lenName": "50",
    "lenType": 16,
    "lenVar": 40
   },
   "kernels_config": {
    "python": {
     "delete_cmd_postfix": "",
     "delete_cmd_prefix": "del ",
     "library": "var_list.py",
     "varRefreshCmd": "print(var_dic_list())"
    },
    "r": {
     "delete_cmd_postfix": ") ",
     "delete_cmd_prefix": "rm(",
     "library": "var_list.r",
     "varRefreshCmd": "cat(var_dic_list()) "
    }
   },
   "position": {
    "height": "366.979px",
    "left": "621.997px",
    "right": "20px",
    "top": "1235.99px",
    "width": "467.535px"
   },
   "types_to_exclude": [
    "module",
    "function",
    "builtin_function_or_method",
    "instance",
    "_Feature"
   ],
   "window_display": false
  }
 },
 "nbformat": 4,
 "nbformat_minor": 2
}
