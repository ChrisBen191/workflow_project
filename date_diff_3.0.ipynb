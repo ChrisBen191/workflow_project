{
 "cells": [
  {
   "cell_type": "markdown",
   "metadata": {
    "heading_collapsed": true
   },
   "source": [
    "# Setup"
   ]
  },
  {
   "cell_type": "markdown",
   "metadata": {
    "hidden": true
   },
   "source": [
    "## Dependencies"
   ]
  },
  {
   "cell_type": "code",
   "execution_count": 10,
   "metadata": {
    "hidden": true
   },
   "outputs": [],
   "source": [
    "import pandas as pd\n",
    "import sqlite3\n",
    "\n",
    "from datetime import datetime"
   ]
  },
  {
   "cell_type": "markdown",
   "metadata": {
    "hidden": true
   },
   "source": [
    "## Importing Data"
   ]
  },
  {
   "cell_type": "code",
   "execution_count": 23,
   "metadata": {
    "hidden": true
   },
   "outputs": [],
   "source": [
    "# imports each tv table data, via external csvs\n",
    "project_data = \"./data/customers_table.csv\""
   ]
  },
  {
   "cell_type": "markdown",
   "metadata": {
    "heading_collapsed": true
   },
   "source": [
    "# Workflow Data"
   ]
  },
  {
   "cell_type": "markdown",
   "metadata": {
    "hidden": true
   },
   "source": [
    "## Separate completed Jobs to 'in_production_df'\n",
    "\n",
    "**Jobs where '[OB] Completed' and 'Job #' is not blank**"
   ]
  },
  {
   "cell_type": "code",
   "execution_count": 24,
   "metadata": {
    "hidden": true
   },
   "outputs": [],
   "source": [
    "# reading the rep_claims_data into a df\n",
    "project_df = pd.read_csv(project_data,\n",
    "                         dtype={'Claim #': str, 'Job #': str},\n",
    "                         parse_dates=['Claim # Date', 'FTA Scope. Req Date',\n",
    "                                      'Submit for Estimate Date', '[OB] Created Scope Calc',\n",
    "                                      '[B] Created Estimate Date', 'Job Submittal Date',\n",
    "                                      '[B] - Date Approved by BC', '[OB] Completed'])\n",
    "\n",
    "# created 'in_production_df' to hold all current jobs in production, to avoid 'NaN' date values\n",
    "in_production_df = (project_df.loc[\n",
    "    (project_df['[OB] Completed'].isnull() == False) & \n",
    "    (project_df[\"Job #\"].isnull() == False), :])\n",
    "\n",
    "pre_production_df = (project_df.loc[(project_df[\"Job #\"].isnull() == True), :])\n"
   ]
  },
  {
   "cell_type": "markdown",
   "metadata": {
    "hidden": true
   },
   "source": [
    "## Create the 'days_df' holding days information"
   ]
  },
  {
   "cell_type": "code",
   "execution_count": 25,
   "metadata": {
    "hidden": true
   },
   "outputs": [],
   "source": [
    "# lists to collect the 'date diffs'\n",
    "claim_num = []                         \n",
    "job_num = []\n",
    "rep_claim_diff = []\n",
    "fta_scopes_diff = []\n",
    "ob_scope_diff = []\n",
    "bc_estimate_diff = []\n",
    "sup_pfynr_diff = []\n",
    "bc_approvals_diff = []\n",
    "ob_order_builds_diff = []\n",
    "total_days = []\n",
    "\n",
    "# iterating over the df to create 'date diff' variables\n",
    "for index, row in in_production_df.iterrows():\n",
    "\n",
    "    # creating 'date_diff' variables for each step in the workflow\n",
    "    rep_claim_date_diff = (row[\"FTA Scope. Req Date\"] - row[\"Claim # Date\"]).days\n",
    "    fta_date_diff = (row[\"Submit for Estimate Date\"] - row[\"FTA Scope. Req Date\"]).days\n",
    "    ob_scope_date_diff = (row['[OB] Created Scope Calc'] - row['Submit for Estimate Date']).days\n",
    "    bc_estimate_date_diff = (row['[B] Created Estimate Date'] - row['[OB] Created Scope Calc']).days\n",
    "    sup_pfynr_date_diff = (row[\"Job Submittal Date\"] - row[\"[B] Created Estimate Date\"]).days\n",
    "    bc_approval_date_diff = (row[\"[B] - Date Approved by BC\"] - row[\"Job Submittal Date\"]).days\n",
    "    ob_orderbuild_date_diff = (row['[OB] Completed'] - row['[B] - Date Approved by BC']).days\n",
    "    \n",
    "    # adding up all of the 'date_diff' variables above and assigning to 'total_days_sum'\n",
    "    day_diffs = [rep_claim_date_diff, fta_date_diff, ob_scope_date_diff, bc_estimate_date_diff, sup_pfynr_date_diff, bc_approval_date_diff, ob_orderbuild_date_diff]\n",
    "    total_days_sum = sum(day_diffs)\n",
    "\n",
    "    # appending 'date diff' values to lists to create each df column\n",
    "    claim_num.append(row[\"Claim #\"])\n",
    "    job_num.append(row[\"Job #\"])\n",
    "    rep_claim_diff.append(rep_claim_date_diff)\n",
    "    fta_scopes_diff.append(fta_date_diff)\n",
    "    ob_scope_diff.append(ob_scope_date_diff)\n",
    "    bc_estimate_diff.append(bc_estimate_date_diff)\n",
    "    sup_pfynr_diff.append(sup_pfynr_date_diff)\n",
    "    bc_approvals_diff.append(bc_approval_date_diff)\n",
    "    ob_order_builds_diff.append(ob_orderbuild_date_diff)\n",
    "    total_days.append(total_days_sum)\n",
    "\n",
    " # creating the 'days_df' to hold all date values for each role in the project\n",
    "days_df = pd.DataFrame({\n",
    "    \"claim_#\" : claim_num,\n",
    "    \"job_#\" : job_num,\n",
    "    \"rep_claim\" : rep_claim_diff, \n",
    "    \"fta_scope\" : fta_scopes_diff,\n",
    "    \"ob_scope\" : ob_scope_diff,\n",
    "    \"bc_estimate\" : bc_estimate_diff,\n",
    "    \"sup_pfynr\" : sup_pfynr_diff,\n",
    "    \"bc_approval\" : bc_approvals_diff,\n",
    "    \"ob_orderbuild\" : ob_order_builds_diff,\n",
    "    \"total_days\" : total_days\n",
    "})    \n"
   ]
  },
  {
   "cell_type": "markdown",
   "metadata": {
    "heading_collapsed": true
   },
   "source": [
    "# Export Data"
   ]
  },
  {
   "cell_type": "code",
   "execution_count": 27,
   "metadata": {
    "hidden": true
   },
   "outputs": [],
   "source": [
    "# writes the df to a csv file; 'index=True' writes row names (default)\n",
    "in_production_df.to_csv(\"data/in_production.csv\", index=False)\n",
    "\n",
    "pre_production_df.to_csv(\"data/pre_production.csv\", index=False)\n",
    "\n",
    "days_df.to_csv(\"data/workflow_days.csv\", index=False)"
   ]
  }
 ],
 "metadata": {
  "kernelspec": {
   "display_name": "Python 3",
   "language": "python",
   "name": "python3"
  },
  "language_info": {
   "codemirror_mode": {
    "name": "ipython",
    "version": 3
   },
   "file_extension": ".py",
   "mimetype": "text/x-python",
   "name": "python",
   "nbconvert_exporter": "python",
   "pygments_lexer": "ipython3",
   "version": "3.7.1"
  },
  "toc": {
   "base_numbering": 1,
   "nav_menu": {},
   "number_sections": true,
   "sideBar": true,
   "skip_h1_title": false,
   "title_cell": "Table of Contents",
   "title_sidebar": "Contents",
   "toc_cell": false,
   "toc_position": {},
   "toc_section_display": true,
   "toc_window_display": false
  },
  "varInspector": {
   "cols": {
    "lenName": "50",
    "lenType": 16,
    "lenVar": 40
   },
   "kernels_config": {
    "python": {
     "delete_cmd_postfix": "",
     "delete_cmd_prefix": "del ",
     "library": "var_list.py",
     "varRefreshCmd": "print(var_dic_list())"
    },
    "r": {
     "delete_cmd_postfix": ") ",
     "delete_cmd_prefix": "rm(",
     "library": "var_list.r",
     "varRefreshCmd": "cat(var_dic_list()) "
    }
   },
   "position": {
    "height": "366.979px",
    "left": "621.997px",
    "right": "20px",
    "top": "1235.99px",
    "width": "467.535px"
   },
   "types_to_exclude": [
    "module",
    "function",
    "builtin_function_or_method",
    "instance",
    "_Feature"
   ],
   "window_display": false
  }
 },
 "nbformat": 4,
 "nbformat_minor": 2
}
