{
 "cells": [
  {
   "cell_type": "markdown",
   "metadata": {},
   "source": [
    "# Setup"
   ]
  },
  {
   "cell_type": "markdown",
   "metadata": {
    "heading_collapsed": true
   },
   "source": [
    "## Dependencies"
   ]
  },
  {
   "cell_type": "code",
   "execution_count": 1,
   "metadata": {
    "hidden": true
   },
   "outputs": [],
   "source": [
    "import pandas as pd\n",
    "from datetime import datetime"
   ]
  },
  {
   "cell_type": "markdown",
   "metadata": {
    "heading_collapsed": true
   },
   "source": [
    "## Importing Data"
   ]
  },
  {
   "cell_type": "code",
   "execution_count": 2,
   "metadata": {
    "hidden": true
   },
   "outputs": [],
   "source": [
    "# imports the '[W] Customers Table Audit' data\n",
    "project_data = \"./data/customers_table.csv\"\n",
    "\n",
    "# imports '[W] Scope Improvements' data\n",
    "improvements_data = \"./data/improvements_table.csv\""
   ]
  },
  {
   "cell_type": "markdown",
   "metadata": {},
   "source": [
    "# Parsing Data"
   ]
  },
  {
   "cell_type": "markdown",
   "metadata": {
    "heading_collapsed": true
   },
   "source": [
    "## Separate 'In Production' Jobs\n",
    "\n",
    "**Jobs where '[OB] Completed' and 'Job #' is not blank**"
   ]
  },
  {
   "cell_type": "code",
   "execution_count": 3,
   "metadata": {
    "hidden": true
   },
   "outputs": [],
   "source": [
    "# reading the project data into a df\n",
    "project_df = pd.read_csv(project_data,\n",
    "                         dtype={'Claim #': str, 'Job #': str},\n",
    "                         parse_dates=['Claim # Date', 'FTA Scope. Req Date',\n",
    "                                      'Submit for Estimate Date', '[OB] Created Scope Calc',\n",
    "                                      '[B] Created Estimate Date', 'Job Submittal Date',\n",
    "                                      '[B] - Date Approved by BC', '[OB] Completed'],)\n",
    "\n",
    "# created 'in_production_df' to hold all current jobs in production, to avoid 'NaN' date values\n",
    "in_production_df = (project_df.loc[\n",
    "    (project_df['[OB] Completed'].isnull() == False) &\n",
    "    (project_df[\"Job #\"].isnull() == False), :])"
   ]
  },
  {
   "cell_type": "markdown",
   "metadata": {
    "heading_collapsed": true
   },
   "source": [
    "## Separate 'Most Recent' Improvement\n",
    "\n",
    "**Most recent FTA Scope Improvement submitted by the OB**"
   ]
  },
  {
   "cell_type": "code",
   "execution_count": 4,
   "metadata": {
    "hidden": true
   },
   "outputs": [],
   "source": [
    "# created 'improvements_df' to hold all dates of fta scope rejections to use correct date\n",
    "improvements_df = pd.read_csv(improvements_data,\n",
    "                              dtype={'Claim #': str, 'Job #': str},\n",
    "                              parse_dates=['Created'])\n",
    "\n",
    "# 'improvement_dates_df' holds all current jobs in production, to avoid 'NaN' date values\n",
    "improvement_dates_df = improvements_df.loc[improvements_df[\"Job #\"].isnull() == False, :]\n",
    "\n",
    "# 'unique_improv_dates_df' holds most recent 'created' dates for improvements; 'idmax()' provides the \n",
    "# most current date\n",
    "unique_improv_dates_df = improvement_dates_df.loc[improvement_dates_df.groupby(\n",
    "    'Claim #')['Created'].idxmax()]\n",
    "\n",
    "\n",
    "# renaming the 'unique improvements' df to make it easier to merge\n",
    "unique_improv_dates_df = unique_improv_dates_df.rename(columns = {\n",
    "    \"Claim #\" : \"Claim #\",\n",
    "    \"Job #\" : \"Job #\",\n",
    "    \"Created\":\"Improvement Date\"\n",
    "})"
   ]
  },
  {
   "cell_type": "markdown",
   "metadata": {},
   "source": [
    "# Comparing Data"
   ]
  },
  {
   "cell_type": "markdown",
   "metadata": {
    "heading_collapsed": true
   },
   "source": [
    "## Merge 'In Production' and 'Most Recent' dataframes\n",
    "\n",
    "**Merging dfs on the shared 'Claim #' Column**"
   ]
  },
  {
   "cell_type": "code",
   "execution_count": 44,
   "metadata": {
    "hidden": true
   },
   "outputs": [],
   "source": [
    "# merges 'in_production_df' and 'unique_improv_dates_df' on the 'claim #' column\n",
    "merged_df = pd.merge(in_production_df,\n",
    "                             unique_improv_dates_df,\n",
    "                             how= 'left',\n",
    "                             on=\"Claim #\")"
   ]
  },
  {
   "cell_type": "markdown",
   "metadata": {
    "heading_collapsed": true
   },
   "source": [
    "## Compare the 'Submit' and 'Improvement' Dates\n",
    "**If 'Improvement' Date exists, use instead of 'Submit' Date**"
   ]
  },
  {
   "cell_type": "code",
   "execution_count": 46,
   "metadata": {
    "hidden": true
   },
   "outputs": [],
   "source": [
    "# storing either 'submit' date or 'improvement' date to update 'workflow_df'\n",
    "correct_submit_date = []\n",
    "\n",
    "# iterates over the 'merged_df' to address 'submit for estimate' and 'improvement' dates\n",
    "for index, row in merged_df.iterrows():\n",
    "    \n",
    "    # if 'improvement' date is empty, use 'submit for estimate' for calculations\n",
    "    if row['Improvement Date'] != row['Improvement Date'] :\n",
    "        \n",
    "        # adding the original date to the 'correct' list\n",
    "        correct_submit_date.append(row['Submit for Estimate Date'])\n",
    "    \n",
    "    # ...if not, use 'improvement' date for calculations\n",
    "    else:\n",
    "        \n",
    "        # adding the 'improvement' date to the 'correct' list\n",
    "        correct_submit_date.append(row['Improvement Date'])"
   ]
  },
  {
   "cell_type": "markdown",
   "metadata": {},
   "source": [
    "## Create 'Workflow' dataframe w/correct Dates\n",
    "**'Workflow' df contains jobs currently in production; used to create 'days' df**"
   ]
  },
  {
   "cell_type": "code",
   "execution_count": 51,
   "metadata": {},
   "outputs": [],
   "source": [
    "# created the 'workflow_df' as the clean version of the 'merged-df'\n",
    "workflow_df = pd.DataFrame({\n",
    "    'Claim #': merged_df['Claim #'],\n",
    "    'Job #': merged_df['Job #_x'],\n",
    "    'Claim # Date':merged_df['Claim # Date'],\n",
    "    'FTA Scope. Req Date': merged_df['FTA Scope. Req Date'],\n",
    "    'Submit for Estimate Date': correct_submit_date,\n",
    "    '[OB] Created Scope Calc': merged_df['[OB] Created Scope Calc'],\n",
    "    '[B] Created Estimate Date': merged_df['[B] Created Estimate Date'],\n",
    "    'Job Submittal Date': merged_df['Job Submittal Date'],\n",
    "    '[B] - Date Approved by BC': merged_df['[B] - Date Approved by BC'],\n",
    "    '[OB] Completed': merged_df['[OB] Completed']\n",
    "})"
   ]
  },
  {
   "cell_type": "markdown",
   "metadata": {},
   "source": [
    "## Creating 'Workflow Days' Value from Merged df\n",
    "\n",
    "**If 'Improvement Date' exists, use instead of 'Submit for Estimate Date'**"
   ]
  },
  {
   "cell_type": "code",
   "execution_count": 67,
   "metadata": {},
   "outputs": [
    {
     "data": {
      "text/html": [
       "<div>\n",
       "<style scoped>\n",
       "    .dataframe tbody tr th:only-of-type {\n",
       "        vertical-align: middle;\n",
       "    }\n",
       "\n",
       "    .dataframe tbody tr th {\n",
       "        vertical-align: top;\n",
       "    }\n",
       "\n",
       "    .dataframe thead th {\n",
       "        text-align: right;\n",
       "    }\n",
       "</style>\n",
       "<table border=\"1\" class=\"dataframe\">\n",
       "  <thead>\n",
       "    <tr style=\"text-align: right;\">\n",
       "      <th></th>\n",
       "      <th>claim_#</th>\n",
       "      <th>job_#</th>\n",
       "      <th>rep_claim</th>\n",
       "      <th>fta_scope</th>\n",
       "      <th>ob_scope</th>\n",
       "      <th>bc_estimate</th>\n",
       "      <th>sup_pfynr</th>\n",
       "      <th>bc_approval</th>\n",
       "      <th>ob_orderbuild</th>\n",
       "      <th>total_days</th>\n",
       "    </tr>\n",
       "  </thead>\n",
       "  <tbody>\n",
       "    <tr>\n",
       "      <th>0</th>\n",
       "      <td>5006023896</td>\n",
       "      <td>1937392</td>\n",
       "      <td>0</td>\n",
       "      <td>1</td>\n",
       "      <td>2</td>\n",
       "      <td>0</td>\n",
       "      <td>0</td>\n",
       "      <td>0</td>\n",
       "      <td>1</td>\n",
       "      <td>4</td>\n",
       "    </tr>\n",
       "    <tr>\n",
       "      <th>1</th>\n",
       "      <td>JDI40733</td>\n",
       "      <td>1937347</td>\n",
       "      <td>0</td>\n",
       "      <td>1</td>\n",
       "      <td>3</td>\n",
       "      <td>0</td>\n",
       "      <td>3</td>\n",
       "      <td>4</td>\n",
       "      <td>0</td>\n",
       "      <td>11</td>\n",
       "    </tr>\n",
       "    <tr>\n",
       "      <th>2</th>\n",
       "      <td>QL4373</td>\n",
       "      <td>1937253</td>\n",
       "      <td>1</td>\n",
       "      <td>5</td>\n",
       "      <td>1</td>\n",
       "      <td>1</td>\n",
       "      <td>3</td>\n",
       "      <td>0</td>\n",
       "      <td>1</td>\n",
       "      <td>12</td>\n",
       "    </tr>\n",
       "    <tr>\n",
       "      <th>3</th>\n",
       "      <td>001824322-412</td>\n",
       "      <td>1937164</td>\n",
       "      <td>0</td>\n",
       "      <td>6</td>\n",
       "      <td>1</td>\n",
       "      <td>0</td>\n",
       "      <td>3</td>\n",
       "      <td>0</td>\n",
       "      <td>1</td>\n",
       "      <td>11</td>\n",
       "    </tr>\n",
       "    <tr>\n",
       "      <th>4</th>\n",
       "      <td>017159602-91A-020</td>\n",
       "      <td>1937148</td>\n",
       "      <td>0</td>\n",
       "      <td>3</td>\n",
       "      <td>1</td>\n",
       "      <td>0</td>\n",
       "      <td>7</td>\n",
       "      <td>0</td>\n",
       "      <td>0</td>\n",
       "      <td>11</td>\n",
       "    </tr>\n",
       "  </tbody>\n",
       "</table>\n",
       "</div>"
      ],
      "text/plain": [
       "             claim_#    job_#  rep_claim  fta_scope  ob_scope  bc_estimate  \\\n",
       "0         5006023896  1937392          0          1         2            0   \n",
       "1           JDI40733  1937347          0          1         3            0   \n",
       "2             QL4373  1937253          1          5         1            1   \n",
       "3      001824322-412  1937164          0          6         1            0   \n",
       "4  017159602-91A-020  1937148          0          3         1            0   \n",
       "\n",
       "   sup_pfynr  bc_approval  ob_orderbuild  total_days  \n",
       "0          0            0              1           4  \n",
       "1          3            4              0          11  \n",
       "2          3            0              1          12  \n",
       "3          3            0              1          11  \n",
       "4          7            0              0          11  "
      ]
     },
     "execution_count": 67,
     "metadata": {},
     "output_type": "execute_result"
    }
   ],
   "source": [
    "# lists to collect the 'date diffs'\n",
    "claim_num = []\n",
    "job_num = []\n",
    "rep_claim_diff = []\n",
    "fta_scope_diff = []\n",
    "ob_scope_diff = []\n",
    "bc_estimate_diff = []\n",
    "sup_pfynr_diff = []\n",
    "bc_approval_diff = []\n",
    "ob_order_build_diff = []\n",
    "total_days = []\n",
    "\n",
    "# iterating over the df to create 'date diff' variables\n",
    "for index, row in workflow_df.iterrows():\n",
    "\n",
    "    # creating 'date_diff' variables for each step in the workflow\n",
    "    rep_claim_date_diff = (row[\"FTA Scope. Req Date\"] - row[\"Claim # Date\"]).days\n",
    "    fta_date_diff = (row[\"Submit for Estimate Date\"] - row[\"FTA Scope. Req Date\"]).days\n",
    "    ob_scope_date_diff = (row['[OB] Created Scope Calc'] - row['Submit for Estimate Date']).days\n",
    "    bc_estimate_date_diff = (row['[B] Created Estimate Date'] - row['[OB] Created Scope Calc']).days\n",
    "    sup_pfynr_date_diff = (row[\"Job Submittal Date\"] - row[\"[B] Created Estimate Date\"]).days\n",
    "    bc_approval_date_diff = (row[\"[B] - Date Approved by BC\"] - row[\"Job Submittal Date\"]).days\n",
    "    ob_orderbuild_date_diff = (row['[OB] Completed'] - row['[B] - Date Approved by BC']).days\n",
    "\n",
    "    # adding up all of the 'date_diff' variables above and assigning to 'total_days_sum'\n",
    "    day_diffs = [rep_claim_date_diff, fta_date_diff, ob_scope_date_diff, bc_estimate_date_diff,\n",
    "                 sup_pfynr_date_diff, bc_approval_date_diff, ob_orderbuild_date_diff]\n",
    "    total_days_sum = sum(day_diffs)\n",
    "\n",
    "    # appending 'date diff' values to lists to create each df column\n",
    "    claim_num.append(row[\"Claim #\"])\n",
    "    job_num.append(row[\"Job #\"])\n",
    "    rep_claim_diff.append(rep_claim_date_diff)\n",
    "    fta_scope_diff.append(fta_date_diff)\n",
    "    ob_scope_diff.append(ob_scope_date_diff)\n",
    "    bc_estimate_diff.append(bc_estimate_date_diff)\n",
    "    sup_pfynr_diff.append(sup_pfynr_date_diff)\n",
    "    bc_approval_diff.append(bc_approval_date_diff)\n",
    "    ob_order_build_diff.append(ob_orderbuild_date_diff)\n",
    "    total_days.append(total_days_sum)\n",
    "    \n",
    "# creating the 'days_df' to hold all date values for each role in the project\n",
    "days_df = pd.DataFrame({\n",
    "    \"claim_#\": claim_num,\n",
    "    \"job_#\": job_num,\n",
    "    \"rep_claim\": rep_claim_diff,\n",
    "    \"fta_scope\": fta_scope_diff,\n",
    "    \"ob_scope\": ob_scope_diff,\n",
    "    \"bc_estimate\": bc_estimate_diff,\n",
    "    \"sup_pfynr\": sup_pfynr_diff,\n",
    "    \"bc_approval\": bc_approval_diff,\n",
    "    \"ob_orderbuild\": ob_order_build_diff,\n",
    "    \"total_days\": total_days\n",
    "})\n",
    "\n",
    "days_df.head()"
   ]
  },
  {
   "cell_type": "markdown",
   "metadata": {},
   "source": [
    "# Export Data\n",
    "\n",
    "**'In Production' and 'Days' CSVs**"
   ]
  },
  {
   "cell_type": "code",
   "execution_count": 68,
   "metadata": {},
   "outputs": [],
   "source": [
    "# writes the df to a csv file; 'index=True' writes row names (default)\n",
    "workflow_df.to_csv(\"data/in_production.csv\", index=False)\n",
    "\n",
    "days_df.to_csv(\"data/workflow_days.csv\", index=False)"
   ]
  }
 ],
 "metadata": {
  "kernelspec": {
   "display_name": "Python 3",
   "language": "python",
   "name": "python3"
  },
  "language_info": {
   "codemirror_mode": {
    "name": "ipython",
    "version": 3
   },
   "file_extension": ".py",
   "mimetype": "text/x-python",
   "name": "python",
   "nbconvert_exporter": "python",
   "pygments_lexer": "ipython3",
   "version": "3.7.1"
  },
  "toc": {
   "base_numbering": 1,
   "nav_menu": {},
   "number_sections": true,
   "sideBar": true,
   "skip_h1_title": false,
   "title_cell": "Table of Contents",
   "title_sidebar": "Contents",
   "toc_cell": false,
   "toc_position": {},
   "toc_section_display": true,
   "toc_window_display": false
  },
  "varInspector": {
   "cols": {
    "lenName": "50",
    "lenType": 16,
    "lenVar": 40
   },
   "kernels_config": {
    "python": {
     "delete_cmd_postfix": "",
     "delete_cmd_prefix": "del ",
     "library": "var_list.py",
     "varRefreshCmd": "print(var_dic_list())"
    },
    "r": {
     "delete_cmd_postfix": ") ",
     "delete_cmd_prefix": "rm(",
     "library": "var_list.r",
     "varRefreshCmd": "cat(var_dic_list()) "
    }
   },
   "position": {
    "height": "366.979px",
    "left": "621.997px",
    "right": "20px",
    "top": "1235.99px",
    "width": "467.535px"
   },
   "types_to_exclude": [
    "module",
    "function",
    "builtin_function_or_method",
    "instance",
    "_Feature"
   ],
   "window_display": false
  }
 },
 "nbformat": 4,
 "nbformat_minor": 2
}
